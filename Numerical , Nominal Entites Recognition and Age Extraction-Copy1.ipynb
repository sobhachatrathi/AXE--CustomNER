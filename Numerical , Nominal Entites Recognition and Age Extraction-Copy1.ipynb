{
 "cells": [
  {
   "cell_type": "markdown",
   "metadata": {},
   "source": [
    "## Task : Automatically Identify Numerical and Nominal Entities,Age from free text (clinical EHR)\n"
   ]
  },
  {
   "cell_type": "markdown",
   "metadata": {},
   "source": [
    "### NLP(Natural Language Processing)technique can be used to identify Entities from free text.SpaCy is an open-source python library used for Natural Language Processing(NLP). \n",
    "Named Entity Recognition(NER) is the NLP task that recognizes entities in a given text. NER is a model which performs two tasks: Detect and Categorize"
   ]
  },
  {
   "cell_type": "markdown",
   "metadata": {},
   "source": [
    "### Build a Custom NER model using spaCy 3.0  \n",
    "\n",
    "Followed the blog and the link to it is [https://turbolab.in/build-a-custom-ner-model-using-spacy-3-0/]"
   ]
  },
  {
   "cell_type": "markdown",
   "metadata": {},
   "source": [
    "\n",
    "### Load a spaCy model and check if it has ner pipeline"
   ]
  },
  {
   "cell_type": "markdown",
   "metadata": {},
   "source": [
    "#### Install Spacy"
   ]
  },
  {
   "cell_type": "code",
   "execution_count": 4,
   "metadata": {},
   "outputs": [],
   "source": [
    "#!pip install spacy\n",
    "#!python -m spacy download en"
   ]
  },
  {
   "cell_type": "code",
   "execution_count": 11,
   "metadata": {},
   "outputs": [],
   "source": [
    "## import the library\n",
    "#import spacy\n",
    "#import collections\n",
    "#from collections import Counter"
   ]
  },
  {
   "cell_type": "markdown",
   "metadata": {},
   "source": [
    "#### Check the spaCy Version"
   ]
  },
  {
   "cell_type": "code",
   "execution_count": 46,
   "metadata": {},
   "outputs": [
    {
     "name": "stdout",
     "output_type": "stream",
     "text": [
      "\u001b[1m\r\n",
      "============================== Info about spaCy ==============================\u001b[0m\r\n",
      "\r\n",
      "spaCy version    3.1.4                         \r\n",
      "Location         /home/sobha/anaconda3/lib/python3.7/site-packages/spacy\r\n",
      "Platform         Linux-5.11.0-44-generic-x86_64-with-debian-bullseye-sid\r\n",
      "Python version   3.7.6                         \r\n",
      "Pipelines        en_core_web_sm (3.1.0)        \r\n",
      "\r\n"
     ]
    }
   ],
   "source": [
    "!python -m spacy info"
   ]
  },
  {
   "cell_type": "markdown",
   "metadata": {},
   "source": [
    "SpaCy provides the following four pre-trained models with MIT license for the English language:\n",
    "\n",
    "en_core_web_sm(12 mb)\n",
    "en_core_web_md(43 mb)\n",
    "en_core_web_lg(741 mb)\n",
    "en_core_web_trf(438 mb)"
   ]
  },
  {
   "cell_type": "markdown",
   "metadata": {},
   "source": [
    "### Load spaCy's en_core_web_sm' model"
   ]
  },
  {
   "cell_type": "code",
   "execution_count": 2,
   "metadata": {},
   "outputs": [],
   "source": [
    "#!python -m spacy download en_core_web_sm\n"
   ]
  },
  {
   "cell_type": "code",
   "execution_count": 48,
   "metadata": {},
   "outputs": [
    {
     "data": {
      "text/plain": [
       "['tok2vec', 'tagger', 'parser', 'attribute_ruler', 'lemmatizer', 'ner']"
      ]
     },
     "execution_count": 48,
     "metadata": {},
     "output_type": "execute_result"
    }
   ],
   "source": [
    "# import the language training model\n",
    "import spacy \n",
    "nlp = spacy.load('en_core_web_sm')\n",
    "nlp.pipe_names"
   ]
  },
  {
   "cell_type": "markdown",
   "metadata": {},
   "source": [
    "## ner is in the pipeline, let’s test how the entity detection will work on a sentence."
   ]
  },
  {
   "cell_type": "code",
   "execution_count": 49,
   "metadata": {},
   "outputs": [
    {
     "data": {
      "text/html": [
       "<span class=\"tex2jax_ignore\"><div class=\"entities\" style=\"line-height: 2.5; direction: ltr\">Aged \n",
       "<mark class=\"entity\" style=\"background: #bfe1d9; padding: 0.45em 0.6em; margin: 0 0.25em; line-height: 1; border-radius: 0.35em;\">\n",
       "    20 or older\n",
       "    <span style=\"font-size: 0.8em; font-weight: bold; line-height: 1; border-radius: 0.35em; vertical-align: middle; margin-left: 0.5rem\">DATE</span>\n",
       "</mark>\n",
       ", myocardial ischemia, able to undergo \n",
       "<mark class=\"entity\" style=\"background: #7aecec; padding: 0.45em 0.6em; margin: 0 0.25em; line-height: 1; border-radius: 0.35em;\">\n",
       "    PTCA\n",
       "    <span style=\"font-size: 0.8em; font-weight: bold; line-height: 1; border-radius: 0.35em; vertical-align: middle; margin-left: 0.5rem\">ORG</span>\n",
       "</mark>\n",
       ", stenting and CABG</div></span>"
      ],
      "text/plain": [
       "<IPython.core.display.HTML object>"
      ]
     },
     "metadata": {},
     "output_type": "display_data"
    }
   ],
   "source": [
    "sentence = 'Aged 20 or older, myocardial ischemia, able to undergo PTCA, stenting and CABG'\n",
    "doc = nlp(sentence)\n",
    "\n",
    "from spacy import displacy\n",
    "displacy.render(doc, style='ent', jupyter=True)"
   ]
  },
  {
   "cell_type": "markdown",
   "metadata": {},
   "source": [
    "Currently the spacy 'en_core_web_sm' model recognizes the phrase' 20 or older' as DATE but the current goal is to recognise 'Aged 20 or older ' as Numeric Entity and 'myocardial ischemia' as Nominal Entity.So inorder to achieve this a custom NER model has to be built."
   ]
  },
  {
   "cell_type": "markdown",
   "metadata": {},
   "source": [
    "### Observing doc to see how entities are being identified/tagged by the model."
   ]
  },
  {
   "cell_type": "code",
   "execution_count": 50,
   "metadata": {},
   "outputs": [
    {
     "data": {
      "text/plain": [
       "[(20, 'B', 'DATE'),\n",
       " (or, 'I', 'DATE'),\n",
       " (older, 'I', 'DATE'),\n",
       " (PTCA, 'B', 'ORG')]"
      ]
     },
     "execution_count": 50,
     "metadata": {},
     "output_type": "execute_result"
    }
   ],
   "source": [
    "[(X, X.ent_iob_, X.ent_type_) for X in doc if X.ent_type_]"
   ]
  },
  {
   "cell_type": "markdown",
   "metadata": {},
   "source": [
    "## Steps to build the custom NER model for detecting the Numeric and Nominal Entities in spaCy 3.0:"
   ]
  },
  {
   "cell_type": "markdown",
   "metadata": {},
   "source": [
    "### 1. Annotate the data to train the model."
   ]
  },
  {
   "cell_type": "markdown",
   "metadata": {},
   "source": [
    "#### In order to do annotate the data i have used SpaCy NER annotation tool by agateteam- http://agateteam.org/spacynerannotate/ "
   ]
  },
  {
   "cell_type": "markdown",
   "metadata": {},
   "source": [
    "#### Asssigned the annotated data to \"trainData\""
   ]
  },
  {
   "cell_type": "code",
   "execution_count": 66,
   "metadata": {},
   "outputs": [],
   "source": [
    "trainData=[\n",
    "(\"Aged 22 and older, undergoing 1 or 2 level spinal decompression\",{\"entities\":[(0,18,\"Numeric\")]}),\n",
    "(\"Age 50 or over Diagnosed Giant Cell Arthritis Headache, jaw pain, vision loss Shoulder and/or hip pain\",{\"entities\":[(0,15,\"Numeric\"),(25,46,\"Nominal\")]}),\n",
    "(\"Aged between 50-80.Have been diagnosed with Polymyalgia Rheumatica (PMR).Have experienced improvement in PMR symptoms with Prednisone.\",{\"entities\":[(0,18,\"Numeric\"),(44,72,\"Nominal\")]}),\n",
    "(\"Aged 18 years or older Diagnosis of Ankylosing Spondylitis or Axial Spondyloarthritis\",{\"entities\":[(0,23,\"Numeric\"),(36,85,\"Nominal\")]}),\n",
    "(\"Aged over 18 years Confirmed diagnosis of bronchiectasis within 5 years Pulmonary exacerbation requiring antibiotics in the past 12 months\",{\"entities\":[(0,18,\"Numeric\"),(42,56,\"Nominal\")]}),\n",
    "(\"Aged between 40 and 85 years Diagnosed with COPD A history of cardiovascular disease, including heart failure, ischaemic heart disease, tachyarrhythmias, and hypertension\",{\"entities\":[(0,29,\"Numeric\"),(44,48,\"Nominal\")]}),\n",
    "(\"Aged 18-85, diagnosed non-cystic fibrosis bronchiectasis, two or more exacerbations in the past 12 months.\",{\"entities\":[(0,10,\"Numeric\"),(22,56,\"Nominal\")]}),\n",
    "(\"Aged 18 or older, diagnosis of IgAN, on a stable dose of an ACE inhibitor or ARB / unable to tolerate this therapy.\",{\"entities\":[(0,16,\"Numeric\"),(31,35,\"Nominal\")]}),\n",
    "(\"Aged 18 years or older, hypertensive, no more than 3 current blood-pressure lowering medications.\",{\"entities\":[(0,23,\"Numeric\"),(24,36,\"Nominal\")]}),\n",
    "(\" 18 years of age, undergoing a surgical procedure resulting in a closed approximately linear incision\",{\"entities\":[(1,16,\"Numeric\")]}),\n",
    "(\"Are 18-50 years of age. Have a current/recent skin infection.No ongoing illness or history of serious chronic/progressive disease.\",{\"entities\":[(0,22,\"Numeric\"),(24,60,\"Nominal\")]}),\n",
    "(\"Healthy woman aged between 18 and 49 years of age Pregnant with no known increased risk for complications Singleton pregnancy\",{\"entities\":[(14,49,\"Numeric\")]}),\n",
    "(\"Aged between 5 - 14 years Newly diagnosed with Acute rheumatic fever\",{\"entities\":[(0,25,\"Numeric\"),(47,68,\"Nominal\")]}),\n",
    "(\"Viral respiratory disease Acute presentation to Middlemore Emergency Department or Intensive care unit\",{\"entities\":[(0,26,\"Nominal\")]}),\n",
    "(\"Age>=18 Diagnosis of Essential Thrombocythemia Failure of standard therapy, e.g. Hydroxyurea\",{\"entities\":[(0,7,\"Numeric\"),(31,46,\"Nominal\")]}),\n",
    "(\"Age >= 18 Diagnosed with Relapsed or Refractory Multiple Myeloma.\",{\"entities\":[(0,10,\"Numeric\"),(25,65,\"Nominal\")]}),\n",
    "(\"Age >= 18 Diagnosed with Myelodysplastic Syndrome (MDS)Anemia\",{\"entities\":[(0,9,\"Numeric\"),(25,61,\"Nominal\")]}),\n",
    "(\"age >= 18 Newly diagnosed multiple myeloma Ineligible for autologous stem cell transplant No prior treatment for multiple myeloma except localised radiotherapy or a short course of steroids\",{\"entities\":[(0,9,\"Numeric\"),(26,43,\"Nominal\")]}),\n",
    "(\"Age>=18 Diagnosed with Relapsed or Refractory Multiple Myeloma No long-term use of Prednisone\",{\"entities\":[(0,7,\"Numeric\"),(23,63,\"Nominal\")]}),\n",
    "(\"Aged 18 to 65 Chronic Hepatitis B infection On stable NUC treatment (e.g Entecavir orTenofovir)\",{\"entities\":[(0,13,\"Numeric\"),(13,43,\"Nominal\")]}),\n",
    "(\"Age less than 65 years, have diagnosed ulcerative colitis and experiencing increase in daily stool frequency and/or rectal bleeding, no allergy to antibiotic vancomycin, willing to undergo two colonoscopy procedures as part of the study (3 months apart)\",{\"entities\":[(0,22,\"Numeric\"),(39,57,\"Nominal\")]}),\n",
    "(\"Aged between 18-70 years old Diagnosis of Non-alcoholic Fatty Liver Disease Have a BMI between 25 to 50 kg/m2,\",{\"entities\":[(0,28,\"Numeric\"),(56,75,\"Nominal\"),(83,109,\"Numeric\")]}),\n",
    "(\"Male or postmenopausal female, aged 18-80 years old, diagnosed Nonalcoholic Steatohepatitis, no other chronic liver disease\",{\"entities\":[(31,91,\"Nominal\")]}),\n",
    " (\"Type 1 Myocardial infarction Have at least two coronary artery territories of disease > 50% Be on treatment for Diabetes\",{\"entities\":[(0,29,\"Nominal\"),(47,91,\"Nominal\"),(112,120,\"Nominal\")]}),\n",
    "(\"Aged 20 or older, myocardial ischemia, able to undergo PTCA, stenting and CABG,recent travel history, able to speak English\",{\"entities\":[(0,16,\"Numeric\"),(18,37,\"Nominal\")]}),\n",
    "(\"Patients with biopsy-proven metastatic carcinoid tumors or other neuroendocrine tumors (Islet cell, Gastrinomas and VIPomas) with at least one measurable lesion (other than bone) that has either not been previously irradiated or if previously irradiated has demonstrated progression since the radiation therapy \",{\"entities\":[(14,20,\"Nominal\"),(28,55,\"Nominal\"),(65,87,\"Nominal\"),(87,124,\"Nominal\"),]}),\n",
    "(\"Female patients must have a negative serum pregnancy test at screening. (Not applicable to patients with bilateral oophorectomy and/or hysterectomy or to those patients who are postmenopausal.) \",{\"entities\":[(37,52,\"Nominal\"),(105,127,\"Nominal\"),(135,147,\"Nominal\"),(177,191,\"Nominal\")]}),\n",
    "(\"Must have a life expectancy of greater than three (3) months \",{\"entities\":[(11,60,\"Numeric\")]}),\n",
    "(\"Patients on Sandostatin Lar (long acting somatostatin analogue) must be on a stable dose for 30 days prior to study entry and short acting somatostatin analogues must be judged to be on a clinically stable dose by the investigator prior to study entry \",{\"entities\":[(12,27,\"Nominal\"),(29,62,\"Nominal\"),(139,151,\"Nominal\")]}),\n",
    "(\"The patient has no major impairment of renal or hepatic function, as defined by the following laboratory parameters: total bilirubin <1.5 X ULN; AST, ALT<2.5X ULN (<5 X ULN if liver metastases are present) \",{\"entities\":[(39,44,\"Nominal\"),(48,64,\"Nominal\"),(117,172,\"Numeric\")]}),\n",
    "(\"Patients with biopsy-proven metastatic carcinoid tumors or other neuroendocrine tumors (Islet cell, Gastrinomas and VIPomas) with at least one measurable lesion (other than bone) that has either not been previously irradiated or if previously irradiated has demonstrated progression since the radiation therapy \",{\"entities\":[(14,20,\"Nominal\"),(28,55,\"Nominal\"),(65,87,\"Nominal\"),(87,124,\"Nominal\")]}),\n",
    "(\"Have had one prior platinum-based chemotherapy regimen for the treatment of primary disease. \",{\"entities\":[(19,54,\"Nominal\")]}),\n",
    "(\"Females of childbearing potential: negative serum or urine pregnancy test \",{\"entities\":[(0,49,\"Numeric\"),(72,153,\"Numeric\"),(181,244,\"Numeric\")]}),\n",
    "(\"Serum creatinine less than or equal to 2.0 mg/dL (Note: Patients with a serum creatinine greater than or equal to 1.4 and less than or equal to 2.0 mg/dL must demonstrate a 24-hour urinary creatinine clearance greater than or equal to 50 mL/min) \",{\"entities\":[(0,49,\"Numeric\")]}),\n",
    "(\"Serum bilirubin less than or equal to 1.5 x institutional upper limit of normal (ULN) \",{\"entities\":[(0,85,\"Numeric\")]}),\n",
    "(\"Platelet count greater than or equal to 100 x 10^9/L \",{\"entities\":[(0,52,\"Numeric\")]}),\n",
    "(\"Absolute neutrophil count (ANC) greater than or equal to 1.5 x 10^9/L without growth factor use in the 2 weeks before study randomization \",{\"entities\":[(0,70,\"Numeric\"),(103,110,\"Numeric\")]}),\n",
    "(\"18 years of age or older \",{\"entities\":[(0,24,\"Numeric\")]}),\n",
    "(\"Life expectancy greater than or equal to 6 months \",{\"entities\":[(0,49,\"Numeric\")]}),\n",
    "(\"Unresectable (locally advanced) stage IIIa or IIIb disease \",{\"entities\":[(32,58,\"Nominal\")]}),\n",
    "(\"Patients with a histologically or cytologically proven diagnosis of NSCLC \",{\"entities\":[(68,73,\"Nominal\")]}),\n",
    "(\"Meet DSM-IV criteria for BPD as assessed by the Structured Clinical Interview for DSM-IV Personality Disorders (SCID-II). \",{\"entities\":[(5,20,\"Nominal\"),(25,28,\"Nominal\"),(82,121,\"Nominal\")]}),\n",
    "(\"Be between age 18 and 55 years \",{\"entities\":[(3,30,\"Numeric\")]}),\n",
    "(\"Completion of a 14-week open label trial of one the following SRI's: fluoxetine 80 mg/day, paroxetine 60 mg/day, fluvoxamine 300 mg/day, clomipramine 250 mg/day, sertraline 200 mg/day, citalopram 60 mg/day, escitalopram 30 mg/day and demonstrating a non or partial responses to SRI treatment (CGI-I of 3 or 4, Y-BOCS reduction of < 35%) \",{\"entities\":[(69,89,\"Numeric\"),(91,111,\"Numeric\"),(113,135,\"Numeric\"),(137,160,\"Numeric\"),(162,183,\"Numeric\"),(185,205,\"Numeric\"),(207,229,\"Numeric\")]}),\n",
    "(\"Outpatient with primary DSM- IV OCD \",{\"entities\":[(24,35,\"Nominal\")]}),\n",
    "(\"Patients must have a predicted life expectancy of at least 12 weeks. \",{\"entities\":[(30,68,\"Numeric\")]}),\n",
    "(\"Tissue from tumor must be available. This may be paraffin embedded tissue from previous biopsy/resection or if it is not available, a repeat biopsy must be performed. The requirement for biopsy may be waived if alpha-fetoprotein is greater than 500 ng/mL and in the investigators, opinion not explained by a concurrent hepatic inflammatory process. \",{\"entities\":[(12,18,\"Nominal\"),(211,255,\"Numeric\")]}),\n",
    "(\"Patients must have a pre-treatment granulocyte count (i.e., segmented neutrophils + bands) of greater than or equal to 1,500/mm3, a hemoglobin level of greater than or equal to 9 gm/dl, and platelet count greater than or equal to 50,000/mm3. The granulocyte requirement may be waived if in the investigator's opinion the lower count reflects hypersplenism with adequate bone marrow reserves. \",{\"entities\":[(35,128,\"Numeric\"),(132,184,\"Numeric\"),(190,240,\"Numeric\")]}),\n",
    "(\"Patients must have a predicted life expectancy of at least 12 weeks. \",{\"entities\":[(30,68,\"Numeric\")]}),\n",
    "(\"Tissue from tumor must be available. This may be paraffin embedded tissue from previous biopsy/resection or if it is not available, a repeat biopsy must be performed. The requirement for biopsy may be waived if alpha-fetoprotein is greater than 500 ng/mL and in the investigators opinion not explained by a concurrent hepatic inflammatory process. \",{\"entities\":[(12,18,\"Nominal\"),(211,255,\"Numeric\")]}),\n",
    "(\"7. Significant stenosis has been defined as a stenosis of more than 50% in luminal diameter (in at least one view, on visual interpretation or preferably by QCA); \",{\"entities\":[(15,23,\"Nominal\")]}),\n",
    "(\"6. Total occluded vessels. One total occluded major epicardial vessel or side branch can be included and targeted as long as one other major vessel has a significant stenosis amenable for SA, provided the age of occlusion is less than one month e.g. recent instability, infarction with ECG changes in the area subtended by the occluded vessel. Patients with total occluded vessels of unknown duration or existing longer than one month and a reference over 1.50 mm should not be included, not even as a third or fourth vessel to be dilated; \",{\"entities\":[(0,24,\"Nominal\"),(26,42,\"Nominal\"),(47,67,\"Nominal\")]}),\n",
    "(\"Single or twin pregnancies \",{\"entities\":[(0,26,\"Nominal\")]}),\n",
    "(\"Pregnant women with abdomen discumfort and ultrasound diagnosis of polyhydramnios (AFI>25cm) \",{\"entities\":[(0,8,\"Nominal\")]}),\n",
    "(\"No prior treatment with Ventavis or other active treatments for primary pulmonary hypertension within 6 weeks of date of study inclusion (unless otherwise advised by Bayer Schering Pharma) \",{\"entities\":[(24,32,\"Nominal\")]}),\n",
    "(\"Patient with primary pulmonary hypertension (i.e. Idiopathic Pulmonary Arterial Hypertension or Familial Pulmonary Arterial Hypertension) and classified as NYHA functional class III (NYHA = New York Heart Association) \",{\"entities\":[(20,43,\"Nominal\"),(50,92,\"Nominal\"),(95,136,\"Nominal\")]}),\n",
    "(\"The treating physician has chosen Ventavis as a suitable long-term treatment for the patient \",{\"entities\":[(34,42,\"Nominal\"),(43,92,\"Nominal\")]}),\n",
    "(\"Patients suspected to have vitamin B12 deficiency defined as a plasma vitamin B12 below the reference interval (<200 pmol/L). \",{\"entities\":[(27,49,\"Nominal\"),(50,124,\"Nominal\")]}),\n",
    "(\"Body mass index 25-35 kg/m2 \",{\"entities\":[(0,27,\"Numeric\")]}),\n",
    "(\"Aged at least 18 years with an ability and willingness to give written informed consent. \",{\"entities\":[(0,22,\"Numeric\")]}),\n",
    "(\"Sufficient number of umbilical cord blood units available for transplantation \",{\"entities\":[(16,26,\"Nominal\"),(30,40,\"Nominal\")]}),\n",
    "(\"Women between 40 to 70 years of age. \",{\"entities\":[(6,35,\"Numeric\")]}),\n",
    "(\"Histologically proven recurrent or persistent endometrial cancer that is not amenable to curative treatment with surgery and/or radiation therapy AND has failed 2 previous treatment regimens \",{\"entities\":[(22,64,\"Nominal\")]}),\n",
    "(\"Measurable metastatic disease \",{\"entities\":[(11,29,\"Nominal\")]}),\n",
    "(\"Primary tumor must have been diagnosed histologically as either epithelial ovarian cancer, fallopian tube cancer, or primary peritoneal cancer (not borderline or low malignant potential epithelial carcinoma). \",{\"entities\":[(0,14,\"Nominal\"),(64,89,\"Nominal\"),(91,112,\"Nominal\"),(117,142,\"Nominal\"),(186,206,\"Nominal\")]}),\n",
    "(\"Measurable metastatic disease as defined by Response Evaluation Criteria in Solid Tumors (RECIST) \",{\"entities\":[(11,29,\"Nominal\")]}),\n",
    "(\"Progression on prior therapy with a hormonal agent if estrogen receptor or progesterone receptor positive, and/or with trastuzumab if HER2-neu positive. If patient has progressed through hormone or trastuzumab therapy only, must have received one chemotherapy regimen. \",{\"entities\":[(119,130,\"Nominal\")]}),\n",
    "(\"Metastatic cervical cancer (CX) \",{\"entities\":[(0,31,\"Nominal\")]}),\n",
    "(\"Metastatic endometrial cancer (EM) \",{\"entities\":[(0,34,\"Nominal\")]}),\n",
    "(\"Metastatic ovarian cancer (OV) \",{\"entities\":[(0,30,\"Nominal\")]}),\n",
    "(\"Metastatic breast cancer (BR)\",{\"entities\":[(0,29,\"Nominal\")]}),\n",
    "(\"Diagnosis of one of the following malignancies: \",{\"entities\":[(34,46,\"Nominal\")]}),\n",
    "(\"Body Mass Index (BMI) >21 kg/m^2 and <35 kg/m^2. \",{\"entities\":[(0,48,\"Numeric\")]}),\n",
    "(\"Treated with a stable dose of one of the following for at least 3 months prior to screening: * >=1000 mg/day immediate-release metformin; or metformin >=1000 mg/day and sulfonylurea; or sulfonylurea/metformin combination therapy. \",{\"entities\":[(94,136,\"Numeric\"),(141,164,\"Numeric\"),(169,181,\"Nominal\"),(186,198,\"Nominal\"),(199,228,\"Nominal\")]}),\n",
    "(\" Aged 20 or older,\",{\"entities\":[(1,17,\"Numeric\")]}),\n",
    "(\" AGE>18 years\",{\"entities\":[(1,13,\"Numeric\")]}),\n",
    "(\" Age>18 years age ,\",{\"entities\":[(1,18,\"Numeric\")]}),\n",
    "(\" age>18 years age ,\",{\"entities\":[(1,18,\"Numeric\")]}),\n",
    "(\" Aged above 18 years and under 65 years\",{\"entities\":[(1,39,\"Numeric\")]}),\n",
    "(\" Aged over 18 years and under 65 years\",{\"entities\":[]}),\n",
    "(\" Aged above 18 years and below 65 years\",{\"entities\":[(1,39,\"Numeric\")]}),\n",
    "(\" aged above 18 years and below 65 years\",{\"entities\":[(1,39,\"Numeric\")]}),\n",
    "(\" aged above 18 and under 65\",{\"entities\":[(1,27,\"Numeric\")]}),\n",
    "(\" aged above 18 and below 65\",{\"entities\":[(1,27,\"Numeric\")]}),\n",
    "(\" aged above 18\",{\"entities\":[(1,14,\"Numeric\")]}),\n",
    "(\" AGE above 10\",{\"entities\":[(1,13,\"Numeric\")]}),\n",
    "(\" age above 10\",{\"entities\":[(1,13,\"Numeric\")]}),\n",
    "(\" AGE below 10\",{\"entities\":[(1,13,\"Numeric\")]}),\n",
    "(\" age below 10\",{\"entities\":[(1,13,\"Numeric\")]}),\n",
    "(\" aged below 20\",{\"entities\":[(1,14,\"Numeric\")]}),\n",
    "(\" aged 60 and under\",{\"entities\":[(1,18,\"Numeric\")]}),\n",
    "(\" aged 20 or younger\",{\"entities\":[(1,19,\"Numeric\")]}),\n",
    "(\"aged 20\",{\"entities\":[(0,7,\"Numeric\")]}),\n",
    "(\" Age<65\",{\"entities\":[(0,6,\"Numeric\")]}),\n",
    "(\" age less than 65 years old\",{\"entities\":[(1,27,\"Numeric\")]}),\n",
    "(\" age less than 65 yrs\",{\"entities\":[(1,21,\"Numeric\")]}),\n",
    "(\" Age less than 65 years,\",{\"entities\":[(1,24,\"Numeric\")]}),\n",
    "(\" age 18 to 80 years old\",{\"entities\":[(1,23,\"Numeric\")]}),\n",
    "(\" Aged 18-80 years\",{\"entities\":[(1,17,\"Numeric\")]}),\n",
    "(\" aged 18-80 years old,\",{\"entities\":[(1,21,\"Numeric\")]}),\n",
    "(\" age under 66 yrs\",{\"entities\":[(1,17,\"Numeric\")]}),\n",
    "(\" AGE under 66\",{\"entities\":[(1,13,\"Numeric\")]}),\n",
    "(\" Age under 66\",{\"entities\":[(1,13,\"Numeric\")]}),\n",
    "(\" age under 66\",{\"entities\":[(1,13,\"Numeric\")]}),\n",
    "(\" age under 66 years\",{\"entities\":[(1,19,\"Numeric\")]}),\n",
    "(\" aged over 18 yrs\",{\"entities\":[(1,17,\"Numeric\")]}),\n",
    "(\" aged over 18 years\",{\"entities\":[(1,19,\"Numeric\")]}),\n",
    "(\" aged over 18\",{\"entities\":[(1,13,\"Numeric\")]}),\n",
    "(\" Aged over 18\",{\"entities\":[(1,13,\"Numeric\")]}),\n",
    "(\" age over 18\",{\"entities\":[(1,12,\"Numeric\")]}),\n",
    "(\" Age over 18\",{\"entities\":[(1,12,\"Numeric\")]}),\n",
    "(\" age <=65 yrs\",{\"entities\":[(1,13,\"Numeric\")]}),\n",
    "(\" age<=65yrs\",{\"entities\":[(1,11,\"Numeric\")]}),\n",
    "(\" age<18yrs\",{\"entities\":[(1,10,\"Numeric\")]}),\n",
    "(\" age>=18yrs\",{\"entities\":[(1,11,\"Numeric\")]}),\n",
    "(\" age>=18 yrs\",{\"entities\":[(1,12,\"Numeric\")]}),\n",
    "(\" age >18 yrs\",{\"entities\":[(1,12,\"Numeric\")]}),\n",
    "(\" age greater than 18 years and less than 65 years\",{\"entities\":[(1,49,\"Numeric\")]}),\n",
    "(\" age greater than 18 and less than 65 years\",{\"entities\":[(1,43,\"Numeric\")]}),\n",
    "(\" age less than 65 years\",{\"entities\":[(1,23,\"Numeric\")]}),\n",
    "(\" age lesser than 45 years\",{\"entities\":[(1,25,\"Numeric\")]}),\n",
    "(\" age greater than 18 years\",{\"entities\":[(1,26,\"Numeric\")]}),\n",
    "(\" age greater than 18\",{\"entities\":[(1,20,\"Numeric\")]}),\n",
    "(\" aged greater than 18\",{\"entities\":[(1,21,\"Numeric\")]}),\n",
    "(\" Age greater than 18\",{\"entities\":[(1,20,\"Numeric\")]}),\n",
    "(\" Aged above 18 years and under 65 years\",{\"entities\":[(1,39,\"Numeric\")]}),\n",
    "(\"Aged over 18 years and under 65 years\",{\"entities\":[(0,37,\"Numeric\")]}),\n",
    "(\" aged between 18 and 65 years\",{\"entities\":[(1,29,\"Numeric\")]}),\n",
    "(\" aged between 18 and 65\",{\"entities\":[(1,23,\"Numeric\")]}),\n",
    "(\" Aged between 18 to 65\",{\"entities\":[(1,22,\"Numeric\")]}),\n",
    "(\" aged 18 to 65\",{\"entities\":[(1,14,\"Numeric\")]}),\n",
    "(\" Aged 18 to 65,\",{\"entities\":[(1,14,\"Numeric\")]}),\n",
    "(\" AGE<=65\",{\"entities\":[(1,8,\"Numeric\")]}),\n",
    "(\" age<=65\",{\"entities\":[(1,8,\"Numeric\")]}),\n",
    "(\" age<65\",{\"entities\":[(1,7,\"Numeric\")]}),\n",
    "(\" Age<=65\",{\"entities\":[(1,8,\"Numeric\")]}),\n",
    "(\" Age<65\",{\"entities\":[(1,7,\"Numeric\")]}),\n",
    "(\" aged between 5-65\",{\"entities\":[(1,18,\"Numeric\")]}),\n",
    "(\" age between 5-65\",{\"entities\":[(1,17,\"Numeric\")]}),\n",
    "(\" aged between 5-64 years\",{\"entities\":[(1,24,\"Numeric\")]}),\n",
    "(\" Aged between 5-64 years,\",{\"entities\":[(1,24,\"Numeric\")]}),\n",
    "(\" age > 18 < 65 years\",{\"entities\":[(1,20,\"Numeric\")]}),\n",
    "(\" age>18<65years\",{\"entities\":[(1,15,\"Numeric\")]}),\n",
    "(\" age>18<65\",{\"entities\":[(1,10,\"Numeric\")]}),\n",
    "(\" age < = 65 years\",{\"entities\":[(1,17,\"Numeric\")]}),\n",
    "(\" age < = 18 years\",{\"entities\":[(1,17,\"Numeric\")]}),\n",
    "(\" age > = 18 years old\",{\"entities\":[(1,21,\"Numeric\")]}),\n",
    "(\" age > = 18 years\",{\"entities\":[(1,17,\"Numeric\")]}),\n",
    "(\" age > = 18\",{\"entities\":[(1,11,\"Numeric\")]}),\n",
    "(\" AGE>=18\",{\"entities\":[(1,8,\"Numeric\")]}),\n",
    "(\" age >= 18\",{\"entities\":[(1,10,\"Numeric\")]}),\n",
    "(\" age>=18\",{\"entities\":[(1,8,\"Numeric\")]}),\n",
    "(\" Age 18,\",{\"entities\":[(2,8,\"Numeric\")]}),\n",
    "(\" age from 18-65 years\",{\"entities\":[(1,21,\"Numeric\")]}),\n",
    "(\" age from 18-65\",{\"entities\":[(1,15,\"Numeric\")]}),\n",
    "(\" aged from 18 to 65\",{\"entities\":[(1,19,\"Numeric\")]}),\n",
    "(\"AGED from 18 to 65\",{\"entities\":[(0,18,\"Numeric\")]}),\n",
    "(\" Aged 18 years or older, \",{\"entities\":[(1,23,\"Numeric\")]}),\n",
    "(\" Aged between 5 - 14 years,\",{\"entities\":[(1,26,\"Numeric\")]}),\n",
    "(\" aged from 18 to 65 years\",{\"entities\":[(1,25,\"Numeric\")]}),\n",
    "(\" ages from 18 to 65 years\",{\"entities\":[(1,25,\"Numeric\")]}),\n",
    "(\" ages from 18 to 65\",{\"entities\":[(1,19,\"Numeric\")]}),\n",
    "(\" ages 18-65\",{\"entities\":[(1,11,\"Numeric\")]}),\n",
    "(\" age 50-65\",{\"entities\":[(1,10,\"Numeric\")]}),\n",
    "(\"age 10-15\",{\"entities\":[(0,9,\"Numeric\")]}),\n",
    "(\" ages 18 or younger\",{\"entities\":[(1,19,\"Numeric\")]}),\n",
    "(\" Aged 18 years or younger, \",{\"entities\":[(1,25,\"Numeric\")]}),\n",
    "(\"between ages 18-85 years of age\",{\"entities\":[(0,31,\"Numeric\")]}),\n",
    "(\"Male and females between ages 18-85 years of age\",{\"entities\":[(17,47,\"Numeric\")]}),   \n",
    "(\"type 2 diabetic, age 18 and over, informed consent, \",{\"entities\":[(0,15,\"Nominal\"),(17,32,\"Numeric\")]}),\n",
    "(\"Body Mass Index (BMI) >21 kg/m^2 and <35 kg/m^2.\",{\"entities\":[(0,47,\"Numeric\")]}),\n",
    "(\"Estimated life expectancy of more than 3 months \",{\"entities\":[(0,47,\"Numeric\")]}),\n",
    "(\"Age 18 to 70 years old\",{\"entities\":[(0,22,\"Numeric\")]}),\n",
    "(\"Pathologically proven unresectable adenocarcinoma of stomach \",{\"entities\":[(34,60,\"Nominal\")]}),\n",
    "(\"Adequate bone marrow function(absolute neutrophil count [ANC] 1,500/L, hemoglobin 9.0 g/dL,and platelets 100,000/L)Adequate kidney function (serum creatinine < 1.5 mg/dL)\",{\"entities\":[(39,69,\"Numeric\"),(71,90,\"Numeric\"),(94,115,\"Numeric\"),(141,169,\"Numeric\"),(0,29,\"Nominal\"),(115,140,\"Nominal\")]}),\n",
    "(\"Estimated life expectancy of more than 3 months \",{\"entities\":[(0,47,\"Numeric\")]}),\n",
    "(\"Age 18 to 70 years old\",{\"entities\":[(0,22,\"Numeric\")]}),\n",
    "(\"Pathologically proven unresectable adenocarcinoma of stomach \",{\"entities\":[(34,60,\"Nominal\")]}),\n",
    "(\"No prior radiation therapy for at least 4 weeks before enrollment in the study \",{\"entities\":[(9,27,\"Nominal\")]}),\n",
    "(\"No prior chemotherapy but prior adjuvant chemotherapy finished at least 6 months before enrollment was allowed. (but, prior adjuvant chemotherapy with capecitabine or S-1 or camptothecin analogues was excluded) \",{\"entities\":[(9,21,\"Nominal\"),(32,53,\"Nominal\")]}),\n",
    "(\"Adequate liver function (serum total bilirubin < 2 times the upper normal limit (UNL); serum transaminases levels <3 times [<5 times for patients with liver metastasis] UNL) \",{\"entities\":[(0,23,\"Nominal\"),(25,85,\"Numeric\"),(87,123,\"Numeric\"),(151,167,\"Nominal\")]}),\n",
    "(\"Adequate bone marrow function(absolute neutrophil count [ANC] 1,500/L, hemoglobin 9.0 g/dL,and platelets 100,000/L)Adequate kidney function (serum creatinine < 1.5 mg/dL)\",{\"entities\":[(39,69,\"Numeric\"),(71,90,\"Numeric\"),(94,115,\"Numeric\"),(141,169,\"Numeric\"),(0,29,\"Nominal\"),(115,140,\"Nominal\")]}),\n",
    "(\"Estimated life expectancy of more than 3 months \",{\"entities\":[(0,47,\"Numeric\")]}),\n",
    "(\"Age 18 to 70 years old\",{\"entities\":[(0,22,\"Numeric\")]}),\n",
    "(\"Pathologically proven unresectable adenocarcinoma of stomach \",{\"entities\":[(34,60,\"Nominal\")]}),\n",
    "(\"Male or female between, and including, 6-12 weeks (42 to 90 days) of age at the time of the first vaccination. \",{\"entities\":[(0,5,\"Nominal\"),(8,14,\"Nominal\"),(38,72,\"Numeric\")]}),\n",
    "(\"Born after a gestation period between 36 and 42 weeks\",{\"entities\":[(0,54,\"Numeric\")]}),\n",
    "(\"(Born after a gestation period between 36 and 42 weeks.,{entities:[]}),\",{\"entities\":[(0,53,\"Numeric\")]}),\n",
    "(\"Subjects for whom the investigator believes that their parents/guardians can and will comply with the requirements of the protocol \",{\"entities\":[(0,53,\"Numeric\")]}),\n",
    "(\"Male or female between, and including, 6-12 weeks (42 to 90 days) of age at the time of the first vaccination. \",{\"entities\":[(0,5,\"Nominal\"),(8,14,\"Nominal\"),(38,72,\"Numeric\")]}),\n",
    "(\"Women at any age with early stage breast cancer (stage I-II) and American Society of Anesthesiologists (ASA) score of I-II. \",{\"entities\":[(0,5,\"Nominal\"),(9,17,\"Numeric\"),(34,47,\"Nominal\"),(65,123,\"Numeric\")]}),\n",
    "(\"over 18 years \",{\"entities\":[(0,13,\"Numeric\")]}),\n",
    "(\"Age: 18 years \",{\"entities\":[(1,14,\"Numeric\")]}),\n",
    "(\"Adequate liver function - serum total bilirubin concentration less than 1.5 x upper limit of normal value \",{\"entities\":[(2,63,\"Numeric\"),(131,155,\"Nominal\"),(158,236,\"Numeric\")]}),\n",
    "(\"Eastern Cooperative Oncology Group (ECOG) score of 0, 1 or 2 (patients that spend less than 50% of time in bed during the day) \",{\"entities\":[(0,52,\"Numeric\")]}),\n",
    "(\"Previous chemotherapy or radiotherapy must have been performed 8 weeks prior to study entry. \",{\"entities\":[(9,22,\"Nominal\"),(25,38,\"Nominal\")]}),\n",
    "(\"Patients without prostatectomy: 2 consecutive rises in PSA levels relative to a previous reference value, separated by one month. The first measurement must occur one month after the reference value and must be above the reference value. The second confirmatory measurement taken one month after the first measurement must be greater than the first measurement. \",{\"entities\":[(17,30,\"Nominal\")]}),\n",
    "(\"Patients who have undergone prostatectomy: any rise in PSA or \",{\"entities\":[(28,41,\"Nominal\"),(55,58,\"Nominal\")]}),\n",
    "(\"PSA criteria: \",{\"entities\":[(0,3,\"Nominal\")]}),\n",
    "(\"Prostate cancer patients with a rise in PSA under hormone therapy. \",{\"entities\":[(0,15,\"Nominal\"),(50,65,\"Nominal\")]}),\n",
    "(\"Patients with histologically confirmed diagnosis of prostate cancer who have not yet developed bone metastases \",{\"entities\":[(52,68,\"Nominal\"),(95,110,\"Nominal\")]}),(\"Patient has given written informed consent prior to any study-specific procedures. Patients with psychiatric or addictive disorders which prevent them from giving their informed consent must not enter the study. \",{\"entities\":[(97,109,\"Nominal\"),(112,132,\"Nominal\")]}),\n",
    "(\"Age: 18 years \",{\"entities\":[(1,14,\"Numeric\")]}),\n",
    "(\"Adequate liver function - serum total bilirubin concentration less than 1.5 x upper limit of normal value \",{\"entities\":[(2,63,\"Numeric\"),(131,155,\"Nominal\"),(158,236,\"Numeric\")]}),\n",
    "(\"Eastern Cooperative Oncology Group (ECOG) score of 0, 1 or 2 (patients that spend less than 50% of time in bed during the day) \",{\"entities\":[(0,52,\"Numeric\")]}),\n",
    "(\"Previous chemotherapy or radiotherapy must have been performed 8 weeks prior to study entry. \",{\"entities\":[(9,22,\"Nominal\"),(25,38,\"Nominal\")]}),\n",
    "(\"Patients without prostatectomy: 2 consecutive rises in PSA levels relative to a previous reference value, separated by one month. The first measurement must occur one month after the reference value and must be above the reference value. The second confirmatory measurement taken one month after the first measurement must be greater than the first measurement. \",{\"entities\":[(17,30,\"Nominal\")]}),\n",
    "(\"Patients who have undergone prostatectomy: any rise in PSA or \",{\"entities\":[(28,41,\"Nominal\"),(55,58,\"Nominal\")]}),\n",
    "(\"PSA criteria: \",{\"entities\":[(0,3,\"Nominal\")]}),\n",
    "(\"Prostate cancer patients with a rise in PSA under hormone therapy. \",{\"entities\":[(0,15,\"Nominal\"),(50,65,\"Nominal\")]}),\n",
    "(\"Patients with histologically confirmed diagnosis of prostate cancer who have not yet developed bone metastases \",{\"entities\":[(52,68,\"Nominal\"),(95,110,\"Nominal\")]}),\n",
    "(\"Life expectancy 3 months \",{\"entities\":[(1,25,\"Numeric\")]}),\n",
    "(\"Life expectancy 3 months \",{\"entities\":[(1,25,\"Numeric\")]}),\n",
    "(\"Cohort 2: Newly-diagnosed high-grade glioma (World Health Organization [WHO] grade 3 or 4) \",{\"entities\":[(26,43,\"Nominal\")]}),\n",
    " \n",
    "    \n",
    "(\"Pregnant or lactating females. \",{\"entities\":[(0,8,\"Nominal\"),(12,21,\"Nominal\"),(22,29,\"Nominal\")]}),\n",
    "(\"HIV+ patients \",{\"entities\":[(0,4,\"Nominal\")]}),\n",
    "(\"Patients with a medical or psychiatric illness that would preclude study or informed consent and/or history of noncompliance to medical regimens or inability or unwillingness to return for all scheduled visits \",{\"entities\":[(16,46,\"Nominal\")]}),\n",
    "(\"Patients with active or suspected acute or chronic uncontrolled infection including abcesses or fistulae \",{\"entities\":[(34,73,\"Nominal\"),(84,93,\"Nominal\"),(95,104,\"Nominal\")]}),\n",
    "(\"Patients taking any experimental therapies history of another malignancy within 5 years prior to study entry except curatively treated non-melanoma skin cancer, prostate cancer, or cervical cancer in situ \",{\"entities\":[(62,72,\"Nominal\"),(148,159,\"Nominal\"),(161,176,\"Nominal\"),(181,204,\"Nominal\"),(139,147,\"Nominal\")]}),\n",
    "(\"Patients with severe cardiac insufficiency patients taking Coumadin or other warfarin-containing agents with the exception of low dose warfarin (1 mg or less) for the maintenance of in-dwelling lines or ports \",{\"entities\":[(21,42,\"Nominal\")]}),\n",
    "(\"Patients with any peripheral neuropathy or unresolved diarrhea greater than Grade 1 \",{\"entities\":[(18,39,\"Nominal\"),(43,63,\"Nominal\")]}),\n",
    "(\"Patients who have been previously treated with epothilone \",{\"entities\":[]}),\n",
    "(\"Patients who have been previously treated with radioactive directed therapies \",{\"entities\":[(47,77,\"Nominal\")]}),\n",
    "(\"Patients with hepatic artery chemoembolization within the last 6 months (one month if there are other sites of measurable disease) \",{\"entities\":[(14,46,\"Nominal\")]}),\n",
    "(\"Patients with bone metastases as the only site(s) of measurable disease \",{\"entities\":[(14,29,\"Nominal\")]}),\n",
    "(\"Patients with known brain metastases, unless these metastases have been treated and/or have been stable for at least six months prior to study start. Subjects with a history of brain metastases must have a head CT with contrast to document either response or progression. \",{\"entities\":[(20,36,\"Nominal\"),(51,62,\"Nominal\"),(177,193,\"Nominal\")]}),\n",
    "(\"Patients with symptomatic CNS metastases or leptomeningeal involvement \",{\"entities\":[(26,40,\"Nominal\"),(44,70,\"Nominal\")]}),\n",
    "(\"Concurrent severe medical problems unrelated to the malignancy which would limit full compliance with the study. \",{\"entities\":[(11,34,\"Nominal\"),(52,63,\"Nominal\")]}),\n",
    "(\"Active uncontrolled infection requiring antibiotics. \",{\"entities\":[(6,29,\"Nominal\")]}),\n",
    "(\"Concomitant or previous malignancies with the exception of adequately treated basal cell or squamous cell skin cancer, in situ cervical cancer, incidental carcinoid, or other cancer from which the patient has been disease free for 5 years. \",{\"entities\":[(0,11,\"Nominal\"),(24,36,\"Nominal\"),(78,88,\"Nominal\"),(92,117,\"Nominal\"),(122,142,\"Nominal\"),(144,164,\"Nominal\"),(169,182,\"Nominal\")]}),\n",
    "(\"Received more than one primary chemotherapy regimen. \",{\"entities\":[(30,43,\"Nominal\")]}),\n",
    "(\"Pregnant or lactating. \",{\"entities\":[(0,8,\"Nominal\"),(12,21,\"Nominal\")]}),\n",
    "(\"Women of child-bearing potential that do not practice adequate contraception. \",{\"entities\":[(0,5,\"Nominal\"),(63,76,\"Nominal\"),(9,32,\"Nominal\")]}),\n",
    "(\"(History of pancreatitis\",{\"entities\":[(11,24,\"Nominal\")]}),\n",
    "(\"Previous treatment on this study or with a fibroblast growth factor ,\",{\"entities\":[(42,67,\"Nominal\")]}),\n",
    "(\"Psychological, social, familial, or geographical reasons that would prevent regular follow-up \",{\"entities\":[(0,13,\"Nominal\"),(15,56,\"Nominal\")]}),\n",
    "(\"Pregnant or breastfeeding women \",{\"entities\":[(0,8,\"Nominal\"),(12,25,\"Nominal\"),(26,31,\"Nominal\")]}),\n",
    "(\"Known to be sero-positive for human immunodeficiency virus (HIV), hepatitis C virus (HCV), or hepatitis B virus (HBV) \",{\"entities\":[(30,64,\"Nominal\"),(66,89,\"Nominal\"),(94,117,\"Nominal\")]}),\n",
    "(\"Four weeks or less since completion of treatment using an investigational product/device in another clinical study or presence of any unresolved toxicity from previous treatment \",{\"entities\":[(0,23,\"Nominal\")]}),\n",
    "(\"Presence or history of dysphagia or conditions predisposing to dysphagia (eg, uncontrolled gastroesophageal reflux disease [GERD], dyspepsia, etc) \",{\"entities\":[(12,32,\"Nominal\"),(63,73,\"Nominal\"),(78,122,\"Nominal\"),(124,128,\"Nominal\"),(131,140,\"Nominal\")]}),\n",
    "(\"Prior invasive malignancy during the past 3 years other than non-melanomatous skin cancer. Note: Patients with prior surgically-cured malignancies [eg, stage I breast cancer or prostate cancer, in-situ carcinoma of the cervix, etc] are not excluded; however, sponsor approval must be obtained before patient is randomized. \",{\"entities\":[(15,25,\"Nominal\"),(61,89,\"Nominal\"),(134,147,\"Nominal\"),(153,173,\"Nominal\"),(177,192,\"Nominal\"),(194,225,\"Nominal\")]}),\n",
    "(\"Prior chemotherapy, radiotherapy, or surgery for NSCLC \",{\"entities\":[(6,18,\"Nominal\"),(20,32,\"Nominal\"),(49,54,\"Nominal\")]}),\n",
    "(\"Shielding of any part of the esophagus during radiotherapy (including posterior spinal cord shielding) \",{\"entities\":[(70,101,\"Nominal\")]}),\n",
    "(\"Plan to remove the tumor surgically before completing the protocol chemo/radiotherapy course \",{\"entities\":[(18,24,\"Nominal\"),(67,85,\"Nominal\")]}),\n",
    "(\"Pleural or pericardial effusion greater than 100 ml in volume as documented by appropriate imaging (positron emission tomography [PET], computed tomography [CT] scan or ultrasound). If an effusion greater than 100 ml is documented by cytology to be free from malignancy and the investigator feels the patient is capable of receiving chemo/radiotherapy for their primary disease/ NSCLC, the investigator should discuss the patient with the study physician at Amgen. Effusions smaller than 100 ml would be acceptable, unless the investigator suspects that the effusion is malignant, in which case the effusions should be evaluated by cytology. Sponsor approval must be obtained before patient is randomized. \",{\"entities\":[(0,61,\"Numeric\"),(188,217,\"Numeric\"),(259,269,\"Nominal\")]}),\n",
    "(\"Metastatic disease (M1)/stage 4 NSCLC \",{\"entities\":[(0,37,\"Nominal\")]}),\n",
    "(\"Have an Axis I diagnosis of Schizophrenia, Schizoaffective Disorder, Schizophreniform Disorder or Bipolar I Disorder as diagnosed by the Structured Clinical Interview for DSM-IV Axis I Disorders (SCID-I), and pertinent subsequent for ruling out exclusionary diagnoses. \",{\"entities\":[(8,41,\"Nominal\"),(43,67,\"Nominal\"),(69,95,\"Nominal\"),(98,116,\"Nominal\"),(137,203,\"Nominal\")]}),\n",
    "(\"Are undergoing an acute withdrawal syndrome from drugs or alcohol.\",{\"entities\":[(18,44,\"Nominal\")]}),\n",
    "(\"Are pregnant or lactating. \",{\"entities\":[(3,13,\"Nominal\"),(16,25,\"Nominal\")]}),\n",
    "(\"Patients who are currently receiving quetiapine therapy may not undergo a washout period and then restart quetiapine in the study. \",{\"entities\":[(37,55,\"Nominal\")]}),\n",
    "(\"Patients cannot begin psychotherapy during the study period, but may continue if started prior to the study. \",{\"entities\":[(22,35,\"Nominal\")]}),\n",
    "(\"Had an unsatisfactory response to a previous adequate trial of quetiapine as judged by a study investigator. \",{\"entities\":[]}),\n",
    "(\"Have an unstable medical disorder as determined by physical examination or laboratory testing. The primary investigator will be responsible for making this judgment based on the above. \",{\"entities\":[(17,33,\"Nominal\")]}),\n",
    "(\"History of kidney stones\",{\"entities\":[(10,24,\"Nominal\")]}),\n",
    "(\"BMI < 20 \",{\"entities\":[(0,8,\"Numeric\")]}),\n",
    "(\"Allergy or hypersensitivity to topiramate \",{\"entities\":[(0,7,\"Nominal\")]}),\n",
    "(\"Cognitive behavioural therapy or additional psychotherapy in past four months \",{\"entities\":[(0,30,\"Nominal\"),(44,57,\"Nominal\")]}),\n",
    "(\"Comorbid major depressive disorder diagnosis which predates OCD diagnosis \",{\"entities\":[(0,35,\"Nominal\"),(60,73,\"Nominal\")]}),\n",
    "(\"A previous adequate trial of topiramate \",{\"entities\":[(29,39,\"Nominal\")]}),\n",
    "(\"Any other primary DSM-IV diagnosis; DSM-IV criteria for body dysmorphic disorder, bipolar affective disorder, schizophrenia, psychotic disorder, current alcohol/substance abuse. \",{\"entities\":[(18,34,\"Nominal\"),(56,80,\"Nominal\"),(82,108,\"Nominal\"),(110,123,\"Nominal\"),(125,143,\"Nominal\"),(153,176,\"Nominal\"),(36,42,\"Nominal\")]}),\n",
    "(\"Patients with any other severe concurrent disease, which in the judgment of the investigator, would make the patient inappropriate for entry into this study. \",{\"entities\":[(25,49,\"Nominal\")]}),\n",
    "(\"Patients with psychiatric disorders that would interfere with consent or follow-up. Pregnant or lactating women. Men and women of reproductive potential may not participate unless they have agreed to use an effective contraceptive method. \",{\"entities\":[(14,35,\"Nominal\"),(84,92,\"Nominal\"),(96,105,\"Nominal\"),(106,111,\"Nominal\"),(113,116,\"Nominal\"),(121,126,\"Nominal\"),(130,153,\"Nominal\"),(217,230,\"Nominal\")]}),\n",
    "(\"Patients with any active or uncontrolled infection, including known HIV infection. (Patients with active hepatitis B will be placed on lamivudine. Patients with active hepatitis C will be eligible if liver tests qualify (5.1.9) \",{\"entities\":[(18,50,\"Nominal\"),(68,81,\"Nominal\"),(97,117,\"Nominal\"),(161,179,\"Nominal\"),(200,227,\"Numeric\")]}),\n",
    "(\"tients who have received prior chemotherapy for unresectable disease \",{\"entities\":[(31,43,\"Nominal\"),(48,68,\"Nominal\")]}),\n",
    "(\"History of kidney stones\",{\"entities\":[(10,24,\"Nominal\")]}),\n",
    "(\"BMI < 20 \",{\"entities\":[(0,8,\"Numeric\")]}),\n",
    "(\"Allergy or hypersensitivity to topiramate \",{\"entities\":[(0,7,\"Nominal\")]}),\n",
    "(\"Cognitive behavioural therapy or additional psychotherapy in past four months \",{\"entities\":[(0,30,\"Nominal\"),(44,57,\"Nominal\")]}),\n",
    "(\"Comorbid major depressive disorder diagnosis which predates OCD diagnosis \",{\"entities\":[(0,35,\"Nominal\"),(60,73,\"Nominal\")]}),\n",
    "(\"A previous adequate trial of topiramate \",{\"entities\":[(29,39,\"Nominal\")]}),\n",
    "(\"Any other primary DSM-IV diagnosis; DSM-IV criteria for body dysmorphic disorder, bipolar affective disorder, schizophrenia, psychotic disorder, current alcohol/substance abuse. \",{\"entities\":[(18,34,\"Nominal\"),(56,80,\"Nominal\"),(82,108,\"Nominal\"),(110,123,\"Nominal\"),(125,143,\"Nominal\"),(153,176,\"Nominal\"),(36,42,\"Nominal\")]}),\n",
    "(\"type 1 diabetic or non-diabetic \",{\"entities\":[(0,15,\"Nominal\"),(19,31,\"Nominal\")]}),\n",
    "(\"9. Intention to treat more than 1 totally occluded major epicardial vessel; \",{\"entities\":[(4,44,\"Nominal\")]}),\n",
    "(\"8. Left main stenosis of 50% or more; \",{\"entities\":[(3,36,\"Numeric\")]}),\n",
    "(\"7. History of any cerebrovascular accident; \",{\"entities\":[(18,42,\"Nominal\")]}),\n",
    "(\"6. Chest pain lasting longer than 30 minutes within 12 hours pre-procedure, if CK enzymes positive ( 2x the normal upper limit). \",{\"entities\":[(2,13,\"Nominal\"),(76,128,\"Numeric\")]}),\n",
    "(\"5. Transmural myocardial infarction within the previous seven days and CK has not returned to normal; \",{\"entities\":[(3,35,\"Nominal\")]}),\n",
    "(\"4. Congenital heart disease;\",{\"entities\":[(3,27,\"Nominal\")]}),\n",
    "(\"2. CABG or Percutaneous Coronary Intervention (PCI) procedure; \",{\"entities\":[(3,7,\"Nominal\"),(11,51,\"Nominal\")]}),\n",
    "(\"1. Congestive heart failure; \",{\"entities\":[(3,27,\"Nominal\")]}),\n",
    "(\"type 1 diabetic or non-diabetic \",{\"entities\":[(0,15,\"Nominal\"),(19,31,\"Nominal\")]}),\n",
    "(\"Pregnancy complicated with pre-eclampsia \",{\"entities\":[(0,10,\"Nominal\"),(27,40,\"Nominal\")]}),\n",
    "(\"Maternal history of placental abruptio \",{\"entities\":[(0,38,\"Nominal\")]}),\n",
    "(\"Multiple pregnancy (more than 3 fetuses) \",{\"entities\":[(0,18,\"Nominal\")]}),\n",
    "(\"9. Intention to treat more than 1 totally occluded major epicardial vessel; \",{\"entities\":[(4,44,\"Nominal\")]}),\n",
    "(\"8. Left main stenosis of 50% or more; \",{\"entities\":[(3,36,\"Numeric\")]}),\n",
    "(\"7. History of any cerebrovascular accident; \",{\"entities\":[(18,42,\"Nominal\")]}),\n",
    "(\"6. Chest pain lasting longer than 30 minutes within 12 hours pre-procedure, if CK enzymes positive ( 2x the normal upper limit). \",{\"entities\":[(2,13,\"Nominal\"),(76,128,\"Numeric\")]}),\n",
    "(\"5. Transmural myocardial infarction within the previous seven days and CK has not returned to normal; \",{\"entities\":[(3,35,\"Nominal\")]}),\n",
    "(\"4. Congenital heart disease;\",{\"entities\":[(3,27,\"Nominal\")]}),\n",
    "(\"2. CABG or Percutaneous Coronary Intervention (PCI) procedure; \",{\"entities\":[(3,7,\"Nominal\"),(11,51,\"Nominal\")]}),\n",
    "(\"1. Congestive heart failure; \",{\"entities\":[(3,27,\"Nominal\")]}),\n",
    "(\"type 1 diabetic or non-diabetic \",{\"entities\":[(0,15,\"Nominal\"),(19,31,\"Nominal\")]}),\n",
    "(\"Any condition that prevents participation in the study, including pregnancy and other contraindications for Ventavis treatment (as listed in the current Ventavis Summary of Product Characteristics and patient package insert) \",{\"entities\":[(66,75,\"Nominal\")]}),\n",
    "(\"Pregnancy complicated with pre-eclampsia \",{\"entities\":[(0,10,\"Nominal\"),(27,40,\"Nominal\")]}),\n",
    "(\"Maternal history of placental abruptio \",{\"entities\":[(0,38,\"Nominal\")]}),\n",
    "(\"Multiple pregnancy (more than 3 fetuses) \",{\"entities\":[(0,18,\"Nominal\")]}),\n",
    "(\"9. Intention to treat more than 1 totally occluded major epicardial vessel; \",{\"entities\":[(4,44,\"Nominal\")]}),\n",
    "(\"8. Left main stenosis of 50% or more; \",{\"entities\":[(3,36,\"Numeric\")]}),\n",
    "(\"7. History of any cerebrovascular accident; \",{\"entities\":[(18,42,\"Nominal\")]}),\n",
    "(\"6. Chest pain lasting longer than 30 minutes within 12 hours pre-procedure, if CK enzymes positive ( 2x the normal upper limit). \",{\"entities\":[(2,13,\"Nominal\"),(76,128,\"Numeric\")]}),\n",
    "(\"5. Transmural myocardial infarction within the previous seven days and CK has not returned to normal; \",{\"entities\":[(3,35,\"Nominal\")]}),\n",
    "(\"4. Congenital heart disease;\",{\"entities\":[(3,27,\"Nominal\")]}),\n",
    "(\"2. CABG or Percutaneous Coronary Intervention (PCI) procedure; \",{\"entities\":[(3,7,\"Nominal\"),(11,51,\"Nominal\")]}),\n",
    "(\"1. Congestive heart failure; \",{\"entities\":[(3,27,\"Nominal\")]}),\n",
    "(\"type 1 diabetic or non-diabetic \",{\"entities\":[(0,15,\"Nominal\"),(19,31,\"Nominal\")]}),\n",
    "(\"Patients who were pregnant, nursing or not able to give written informed consent were excluded. \",{\"entities\":[(18,26,\"Nominal\"),(28,35,\"Nominal\")]}),\n",
    "(\"Present alcoholism or drug abuse or use of medications that could interfere with the treatment including bronchodilators, quinolone antibiotics, monoamine oxidase inhibitors, anxiolytics, ranitidine, corticosteroids, growth hormone, antihypertensives. \",{\"entities\":[(8,18,\"Nominal\"),(22,32,\"Nominal\"),(105,120,\"Nominal\"),(122,143,\"Nominal\"),(145,173,\"Nominal\"),(175,198,\"Nominal\"),(200,215,\"Nominal\"),(217,231,\"Nominal\"),(233,250,\"Nominal\")]}),\n",
    "(\"Abnormal hepatic function (liver function test > twice the normal range), abnormal renal function (creatinine > 1.1 mg/dl), fasting plasma glucose in the diabetic range (>/= 126 mg/dl), or blood pressure > 140/90 mmHg. \",{\"entities\":[(0,26,\"Nominal\"),(74,98,\"Nominal\"),(124,184,\"Numeric\"),(99,122,\"Numeric\"),(189,217,\"Numeric\")]}),\n",
    "(\"Any condition/illness that may affect the study outcomes or would make participation potentially harmful such as pregnancy or breastfeeding, diabetes mellitus, heart disease, stroke, hypertension, malabsorption syndromes, GERD, a history of ulcer, according to a detailed medical history. \",{\"entities\":[(113,122,\"Nominal\"),(141,158,\"Nominal\"),(160,173,\"Nominal\"),(175,181,\"Nominal\"),(183,195,\"Nominal\"),(197,220,\"Nominal\"),(222,226,\"Nominal\"),(241,246,\"Nominal\"),(126,139,\"Nominal\")]}),\n",
    "(\"Pregnant \",{\"entities\":[(0,8,\"Nominal\")]}),\n",
    "(\"Diagnosed with a medical or psychiatric illness that may interfere with study participation \",{\"entities\":[(17,48,\"Nominal\")]}),\n",
    "(\"Undergoing Interleukin-2 (IL-2) therapy within 8 weeks of study entry \",{\"entities\":[(11,39,\"Nominal\")]}),\n",
    "(\"Cigarette smoking \",{\"entities\":[(0,17,\"Nominal\")]}),\n",
    "(\"Palpable fibroids or uterine prolapse: Grade 2 or 3. \",{\"entities\":[(0,17,\"Nominal\"),(20,51,\"Nominal\")]}),\n",
    "(\"Use of alternative therapies or natural products to treat postmenopausal symptoms in the four weeks prior to randomization. \",{\"entities\":[]}),\n",
    "(\"Use of any systemic estrogen, progestin, or DHEA in the eight weeks prior to randomization. \",{\"entities\":[]}),\n",
    "(\"Use of steroids or drugs that interfere with the metabolism of estrogen. \",{\"entities\":[]}),\n",
    "(\"Diagnosis of cancer. \",{\"entities\":[(13,19,\"Nominal\")]}),\n",
    "(\"Significant metabolic and endocrine diseases. \",{\"entities\":[(12,44,\"Nominal\")]}),\n",
    "(\"Body mass index (BMI) of 35 kg/m2 or more. \",{\"entities\":[(0,41,\"Numeric\")]}),\n",
    "(\"Any history of brain metastases or any other active central nervous system (CNS) disease \",{\"entities\":[(15,31,\"Nominal\"),(52,88,\"Nominal\")]}),\n",
    "(\"Concurrent malignancy (if in remission, at least 5 years disease free) except for localized (in-situ) disease, basal carcinomas and cutaneous squamous cell carcinomas that have been adequately treated \",{\"entities\":[(11,21,\"Nominal\"),(92,109,\"Nominal\"),(111,128,\"Nominal\"),(132,166,\"Nominal\")]}),\n",
    "(\"Pregnant or lactating \",{\"entities\":[(0,8,\"Nominal\"),(11,21,\"Nominal\")]}),\n",
    "(\"Active coagulation disorder not controlled with medication \",{\"entities\":[(7,27,\"Nominal\")]}),\n",
    "(\"Active autoimmune disease requiring immunosuppressive therapy within 30 days \",{\"entities\":[(6,25,\"Nominal\"),(36,61,\"Nominal\")]}),\n",
    "(\"Uncontrolled intercurrent or chronic illness \",{\"entities\":[(0,44,\"Nominal\")]}),\n",
    "(\"History of, or clinical evidence of, a condition which, in the opinion of the investigator, could confound the results of the study or put the subject at undue risk \",{\"entities\":[]}),\n",
    "(\"Cardiac ischemia, cardiac arrhythmias or congestive heart failure uncontrolled by medication \",{\"entities\":[(0,16,\"Nominal\"),(18,37,\"Nominal\"),(41,66,\"Nominal\")]}),\n",
    "(\"Active fungal infection or pulmonary infiltrates (prior treated disease stable for 2 weeks is allowable) \",{\"entities\":[(7,24,\"Nominal\"),(27,48,\"Nominal\")]}),\n",
    "(\"i. Warfarin, phenprocoumon: increase bleeding tendency ii. Increase blood concentration of phenytoin iii. sorivudine: inhibit DPD -> increase toxicity according to fluoropyrimidine iv. allopurinol : decrease activity of S-1 \",{\"entities\":[(3,11,\"Nominal\"),(13,26,\"Nominal\"),(37,54,\"Nominal\")]}),\n",
    "(\"concomitant drug medication; The following drugs cause drug interaction with S-1. \",{\"entities\":[]}),\n",
    "(\"Concomitant administration of any other experimental drug under investigation, or concomitant chemotherapy, hormonal therapy, or immunotherapy \",{\"entities\":[(82,106,\"Nominal\"),(108,124,\"Nominal\"),(129,142,\"Nominal\")]}),\n",
    "(\"Other serious underlying medical conditions which could impair the ability of the patient to participate in the study \",{\"entities\":[]}),\n",
    "(\"Active uncontrolled infection \",{\"entities\":[(7,29,\"Nominal\")]}),\n",
    "(\"History of significant neurologic or psychiatric disorders including dementia or seizures \",{\"entities\":[(23,33,\"Nominal\"),(37,58,\"Nominal\"),(0,0,\"Nominal\"),(69,77,\"Nominal\"),(80,89,\"Nominal\")]}),\n",
    "(\"Unstable cardiac disease despite treatment, myocardial infarction within 6 months prior to study entry \",{\"entities\":[(8,25,\"Nominal\"),(44,65,\"Nominal\")]}),\n",
    "(\"Other serious illness or medical conditions \",{\"entities\":[(6,21,\"Nominal\"),(25,43,\"Nominal\")]}),\n",
    "(\"Pregnant or lactating women, women of childbearing potential not employing adequate contraception \",{\"entities\":[(0,8,\"Nominal\"),(12,21,\"Nominal\"),(22,27,\"Nominal\"),(29,34,\"Nominal\"),(38,50,\"Nominal\"),(0,0,\"Nominal\"),(75,97,\"Nominal\")]}),\n",
    "(\"Past or concurrent history of neoplasm other than stomach cancer, except for curatively treated non-melanoma skin cancer or in situ carcinoma of the cervix uteri \",{\"entities\":[(8,38,\"Nominal\"),(50,64,\"Nominal\"),(96,120,\"Nominal\"),(124,161,\"Nominal\")]}),\n",
    "(\"The patient has bony lesions as the sole evaluable disease. \",{\"entities\":[(16,28,\"Nominal\")]}),\n",
    "(\"Evidence of gastrointestinal bleeding \",{\"entities\":[(12,37,\"Nominal\")]}),\n",
    "(\"Gastric outlet obstruction or intestinal obstruction \",{\"entities\":[(0,26,\"Nominal\"),(31,52,\"Nominal\")]}),\n",
    "(\"Central nervous system (CNS) metastases or prior radiation for CNS metastases \",{\"entities\":[(0,22,\"Nominal\"),(22,39,\"Nominal\"),(63,77,\"Nominal\")]}),\n",
    "(\"Other tumor type than adenocarcinoma \",{\"entities\":[(0,16,\"Nominal\"),(22,36,\"Nominal\")]}),\n",
    "(\"Major congenital defects or serious chronic illness. \",{\"entities\":[(6,24,\"Nominal\"),(28,51,\"Nominal\")]}),\n",
    "(\"A family history of congenital or hereditary immunodeficiency. \",{\"entities\":[(19,30,\"Nominal\"),(34,62,\"Nominal\")]}),\n",
    "(\"Any confirmed or suspected immunosuppressive or immunodeficient condition based on medical history and physical \",{\"entities\":[(17,44,\"Nominal\"),(48,73,\"Nominal\")]}),\n",
    "(\"Acute disease at the time of enrolment \",{\"entities\":[(0,14,\"Nominal\")]}),\n",
    "(\"History of seizures (this criterion does not apply to subjects who have had a single, uncomplicated febrile convulsion in the past) or neurological disease. \",{\"entities\":[(0,19,\"Nominal\")]}),\n",
    "(\"History of allergic disease or reactions likely to be exacerbated by any component of the vaccines. \",{\"entities\":[(11,27,\"Nominal\")]}),\n",
    "(\"History of or intercurrent diphtheria, tetanus, pertussis, hepatitis B, polio, and Haemophilus influenzae type b diseases. \",{\"entities\":[(27,37,\"Nominal\"),(39,46,\"Nominal\"),(48,57,\"Nominal\"),(59,70,\"Nominal\"),(72,77,\"Nominal\"),(83,94,\"Nominal\"),(95,112,\"Nominal\")]}),\n",
    "(\"Previous vaccination against diphtheria, tetanus, pertussis, polio, hepatitis B, Haemophilus influenzae type b, and/or S. pneumoniae with the exception of vaccines where the first dose can be given within the first two weeks of life according to the national recommendations\",{\"entities\":[(29,39,\"Nominal\"),(41,48,\"Nominal\"),(50,59,\"Nominal\"),(61,66,\"Nominal\"),(68,79,\"Nominal\"),(81,110,\"Nominal\"),(122,133,\"Nominal\")]}),\n",
    "(\"Insufficient response to pregabalin in the treatment of partial seizure, or patients currently receiving pregabalin treatment.\",{\"entities\":[(56,71,\"Nominal\"),(105,125,\"Nominal\"),(25,35,\"Nominal\")]}),\n",
    "(\"Pre-existing eye diseases (glaucoma). \",{\"entities\":[(13,25,\"Nominal\"),(27,35,\"Nominal\")]}),\n",
    "(\"Having a remote infection, \",{\"entities\":[(8,25,\"Nominal\")]}),\n",
    "(\"History of immunodeficiency, \",{\"entities\":[(11,28,\"Nominal\")]}),\n",
    "(\"History of receiving any antibiotics within prior 3 months, \",{\"entities\":[]}),\n",
    "(\"Receiving any neoadjuvant therapy, \",{\"entities\":[(14,33,\"Nominal\")]}),\n",
    "(\"Advanced or distant metastatic stage, \",{\"entities\":[(20,36,\"Nominal\")]}),\n",
    "(\"Ductal carcinoma in situ (DCIS; stage 0 cancer), \",{\"entities\":[(0,25,\"Nominal\"),(26,30,\"Nominal\"),(40,46,\"Nominal\")]}),\n",
    "(\"angioplasty with stenting \",{\"entities\":[(0,11,\"Nominal\")]}),\n",
    "(\"contra-indications of radiotherapy \",{\"entities\":[(22,34,\"Nominal\")]}),\n",
    "(\"Current active dental problems including infection of the teeth or jawbone (maxilla or mandibular); dental or fixture trauma, or a current or prior diagnosis of osteonecrosis of the jaw (ONJ), of exposed bone in the mouth, or of slow healing after dental procedures. \",{\"entities\":[(15,30,\"Nominal\"),(40,63,\"Nominal\"),(68,98,\"Nominal\"),(100,124,\"Nominal\"),(161,191,\"Nominal\")]}),\n",
    "(\"Subjects who, in the opinion of the investigator, are unlikely to cooperate fully during the study \",{\"entities\":[]}),\n",
    "(\"Known history or present abuse of alcohol or drugs \",{\"entities\":[(25,50,\"Nominal\")]}),\n",
    "(\"Use of other investigational drugs 30 days prior to the date of randomization \",{\"entities\":[]}),\n",
    "(\"Known hypersensitivity to zoledronic acid or other bisphosphonates \",{\"entities\":[(5,22,\"Nominal\")]}),\n",
    "(\"Severe physical or psychological concomitant diseases that might impair compliance with the provisions of the study protocol or that might impair the assessment of drug or patient safety, e.g. clinically significant ascites, cardiac failure, NYHA III or IV, clinically relevant pathologic findings in ECG \",{\"entities\":[(7,53,\"Nominal\"),(225,240,\"Nominal\"),(258,304,\"Nominal\")]}),\n",
    "(\"History of diseases with influence on bone metabolism such as Paget's disease and primary hyperparathyroidism \",{\"entities\":[(62,77,\"Nominal\"),(82,109,\"Nominal\"),(38,53,\"Nominal\")]}),\n",
    "(\"Patients with clinically symptomatic brain metastases \",{\"entities\":[(37,53,\"Nominal\")]}),\n",
    "(\"Corrected (adjusted for serum albumin) serum calcium concentration < 8.0 mg/dl (2.00 mmol/L) or 12.0 mg/dl (3.00 mmol/L). \",{\"entities\":[(39,93,\"Numeric\"),(97,122,\"Numeric\")]}),\n",
    "(\"Abnormal renal function as evidenced by a calculated creatinine clearance < 30 ml/minute. \",{\"entities\":[(0,24,\"Nominal\"),(42,89,\"Numeric\")]}),\n",
    "(\"Prior treatment with a bisphosphonate \",{\"entities\":[(0,24,\"Nominal\"),(42,89,\"Numeric\")]}),\n",
    "(\"Subjects who are diagnosed as suffering from psychotic illness according to DSM-IV (Axis 1)22, or with a history of CNS disease, a history of infection that might affect CNS (HIV, syphilis, cytomegalovirus, herpes), or a history of head injury with loss of consciousness,pregnant women. \",{\"entities\":[(75,93,\"Nominal\"),(45,62,\"Nominal\"),(116,127,\"Nominal\"),(142,151,\"Nominal\"),(170,173,\"Nominal\"),(175,178,\"Nominal\"),(180,188,\"Nominal\"),(190,205,\"Nominal\"),(207,213,\"Nominal\"),(271,279,\"Nominal\"),(280,285,\"Nominal\")]}),\n",
    "(\"use more than 2g a day; 5 times a week to everyday \",{\"entities\":[(0,22,\"Numeric\"),(24,38,\"Numeric\")]}),\n",
    "(\"Current active dental problems including infection of the teeth or jawbone (maxilla or mandibular); dental or fixture trauma, or a current or prior diagnosis of osteonecrosis of the jaw (ONJ), of exposed bone in the mouth, or of slow healing after dental procedures. \",{\"entities\":[(15,30,\"Nominal\"),(40,63,\"Nominal\"),(68,98,\"Nominal\"),(100,124,\"Nominal\"),(161,191,\"Nominal\")]}),\n",
    "(\"Subjects who, in the opinion of the investigator, are unlikely to cooperate fully during the study \",{\"entities\":[]}),\n",
    "(\"Known history or present abuse of alcohol or drugs \",{\"entities\":[(25,50,\"Nominal\")]}),\n",
    "(\"Use of other investigational drugs 30 days prior to the date of randomization \",{\"entities\":[]}),\n",
    "(\"Known hypersensitivity to zoledronic acid or other bisphosphonates \",{\"entities\":[(5,22,\"Nominal\")]}),\n",
    "(\"Severe physical or psychological concomitant diseases that might impair compliance with the provisions of the study protocol or that might impair the assessment of drug or patient safety, e.g. clinically significant ascites, cardiac failure, NYHA III or IV, clinically relevant pathologic findings in ECG \",{\"entities\":[(7,53,\"Nominal\"),(225,240,\"Nominal\"),(258,304,\"Nominal\")]}),\n",
    "(\"History of diseases with influence on bone metabolism such as Paget's disease and primary hyperparathyroidism \",{\"entities\":[(62,77,\"Nominal\"),(82,109,\"Nominal\"),(38,53,\"Nominal\")]}),\n",
    "(\"Patients with clinically symptomatic brain metastases \",{\"entities\":[(37,53,\"Nominal\")]}),\n",
    "(\"Corrected (adjusted for serum albumin) serum calcium concentration < 8.0 mg/dl (2.00 mmol/L) or 12.0 mg/dl (3.00 mmol/L). \",{\"entities\":[(39,93,\"Numeric\"),(97,122,\"Numeric\")]}),\n",
    "(\"Abnormal renal function as evidenced by a calculated creatinine clearance < 30 ml/minute. \",{\"entities\":[(0,24,\"Nominal\"),(42,89,\"Numeric\")]}),\n",
    "(\"Prior treatment with a bisphosphonate \",{\"entities\":[(0,24,\"Nominal\"),(42,89,\"Numeric\")]})\n",
    "         \n",
    "]\n"
   ]
  },
  {
   "cell_type": "markdown",
   "metadata": {},
   "source": [
    "### 2. Convert the annotated data into the spaCy bin object"
   ]
  },
  {
   "cell_type": "markdown",
   "metadata": {},
   "source": [
    "#### in spaCy 3.x, annotated should be converted to a doc bin "
   ]
  },
  {
   "cell_type": "code",
   "execution_count": 67,
   "metadata": {},
   "outputs": [
    {
     "name": "stderr",
     "output_type": "stream",
     "text": [
      " 45%|████▌     | 175/387 [00:00<00:00, 712.23it/s]"
     ]
    },
    {
     "name": "stdout",
     "output_type": "stream",
     "text": [
      "Skipping entity\n",
      "Skipping entity\n",
      "Skipping entity\n",
      "Skipping entity\n",
      "Skipping entity\n",
      "Skipping entity\n",
      "Skipping entity\n"
     ]
    },
    {
     "name": "stderr",
     "output_type": "stream",
     "text": [
      "100%|██████████| 387/387 [00:00<00:00, 800.18it/s]"
     ]
    },
    {
     "name": "stdout",
     "output_type": "stream",
     "text": [
      "Skipping entity\n",
      "Skipping entity\n",
      "Skipping entity\n",
      "Skipping entity\n"
     ]
    },
    {
     "name": "stderr",
     "output_type": "stream",
     "text": [
      "\n"
     ]
    }
   ],
   "source": [
    "import spacy\n",
    "from spacy.tokens import DocBin\n",
    "from tqdm import tqdm\n",
    "nlp = spacy.blank('en') # load a new spacy model\n",
    "db = DocBin() # create a DocBin object\n",
    "for text, annot in tqdm(trainData): # data in previous format\n",
    "    doc = nlp.make_doc(text) # create doc object from text\n",
    "    ents = []\n",
    "    for start, end, label in annot['entities']: # add character indexes\n",
    "        span = doc.char_span(start, end, label=label, alignment_mode='contract')\n",
    "        if span is None:\n",
    "            print('Skipping entity')\n",
    "        else:\n",
    "            ents.append(span)\n",
    "    try:\n",
    "        doc.ents = ents # label the text with the ents\n",
    "        db.add(doc)\n",
    "    except:\n",
    "        print(text, annot)\n",
    "db.to_disk('./train.spacy') # save the docbin object"
   ]
  },
  {
   "cell_type": "markdown",
   "metadata": {},
   "source": [
    "### 3. Generate the config file from the [spaCy website][https://spacy.io/usage/training]"
   ]
  },
  {
   "cell_type": "markdown",
   "metadata": {},
   "source": [
    "Select the preferred language and component as ner. As per system requirement, choose CPU/GPU and save this configuration as base_config.cfg\n",
    "\n",
    "To fill the remaining system defaults, run this command on the command line to generate the config.cfg file."
   ]
  },
  {
   "cell_type": "markdown",
   "metadata": {},
   "source": [
    "#### Generate the config file to train via Command line "
   ]
  },
  {
   "cell_type": "code",
   "execution_count": 68,
   "metadata": {},
   "outputs": [
    {
     "name": "stdout",
     "output_type": "stream",
     "text": [
      "\u001b[38;5;2m✔ Auto-filled config with all values\u001b[0m\r\n",
      "\u001b[38;5;2m✔ Saved config\u001b[0m\r\n",
      "/home/sobha/Orion-CustomNER/config.cfg\r\n",
      "You can now add your data and train your pipeline:\r\n",
      "python -m spacy train config.cfg --paths.train ./train.spacy --paths.dev ./dev.spacy\r\n"
     ]
    }
   ],
   "source": [
    "!python -m spacy init fill-config /home/sobha/Orion-CustomNER/base_config.cfg /home/sobha/Orion-CustomNER/config.cfg"
   ]
  },
  {
   "cell_type": "markdown",
   "metadata": {},
   "source": [
    "### 4. Train the model in the command line."
   ]
  },
  {
   "cell_type": "code",
   "execution_count": 8,
   "metadata": {},
   "outputs": [],
   "source": [
    "#in base_config.cfg file edited paths as below\n",
    "#train = ./train.spacy\n",
    "#dev = ./dev.spacy"
   ]
  },
  {
   "cell_type": "markdown",
   "metadata": {},
   "source": [
    "#### To save the  model output to a folder named \"Output\" as an argument at the command line."
   ]
  },
  {
   "cell_type": "code",
   "execution_count": 69,
   "metadata": {},
   "outputs": [
    {
     "name": "stdout",
     "output_type": "stream",
     "text": [
      "\u001b[38;5;4mℹ Saving to output directory: /home/sobha/Orion-CustomNER/output\u001b[0m\n",
      "\u001b[38;5;4mℹ Using CPU\u001b[0m\n",
      "\u001b[1m\n",
      "=========================== Initializing pipeline ===========================\u001b[0m\n",
      "[2022-01-20 15:03:24,395] [INFO] Set up nlp object from config\n",
      "[2022-01-20 15:03:24,412] [INFO] Pipeline: ['tok2vec', 'ner']\n",
      "[2022-01-20 15:03:24,421] [INFO] Created vocabulary\n",
      "[2022-01-20 15:03:24,422] [INFO] Finished initializing nlp object\n",
      "[2022-01-20 15:03:25,165] [INFO] Initialized pipeline components: ['tok2vec', 'ner']\n",
      "\u001b[38;5;2m✔ Initialized pipeline\u001b[0m\n",
      "\u001b[1m\n",
      "============================= Training pipeline =============================\u001b[0m\n",
      "\u001b[38;5;4mℹ Pipeline: ['tok2vec', 'ner']\u001b[0m\n",
      "\u001b[38;5;4mℹ Initial learn rate: 0.001\u001b[0m\n",
      "E    #       LOSS TOK2VEC  LOSS NER  ENTS_F  ENTS_P  ENTS_R  SCORE \n",
      "---  ------  ------------  --------  ------  ------  ------  ------\n",
      "  0       0          0.00     34.70    0.00    0.00    0.00    0.00\n",
      "  3     200        357.19   4007.50   40.74   51.16   33.85    0.41\n",
      "  7     400        580.98   1765.60   67.27   82.22   56.92    0.67\n",
      " 12     600        967.82    795.81   70.91   86.67   60.00    0.71\n",
      " 18     800        344.88    445.70   74.55   91.11   63.08    0.75\n",
      " 26    1000        346.33    361.19   74.55   91.11   63.08    0.75\n",
      " 35    1200        387.75    319.57   74.55   91.11   63.08    0.75\n",
      " 47    1400        426.89    281.58   74.55   91.11   63.08    0.75\n",
      " 61    1600        428.62    243.00   74.55   91.11   63.08    0.75\n",
      " 79    1800        511.31    198.76   74.55   91.11   63.08    0.75\n",
      "100    2000        353.46    146.82   74.55   91.11   63.08    0.75\n",
      "127    2200        346.32    161.46   74.55   91.11   63.08    0.75\n",
      "159    2400        265.52    154.24   74.55   91.11   63.08    0.75\n",
      "\u001b[38;5;2m✔ Saved pipeline to output directory\u001b[0m\n",
      "/home/sobha/Orion-CustomNER/output/model-last\n"
     ]
    }
   ],
   "source": [
    "import os\n",
    "os.environ[\"KMP_DUPLICATE_LIB_OK\"]=\"TRUE\"\n",
    "!python -m spacy train /home/sobha/Orion-CustomNER/config.cfg --paths.train /home/sobha/Orion-CustomNER/train.spacy --paths.dev /home/sobha/Orion-CustomNER/dev.spacy --output /home/sobha/Orion-CustomNER/output"
   ]
  },
  {
   "cell_type": "markdown",
   "metadata": {},
   "source": []
  },
  {
   "cell_type": "code",
   "execution_count": 10,
   "metadata": {},
   "outputs": [],
   "source": [
    "# !spacy train /home/sobha/Orion-CustomNER/config.cfg --output /home/sobha/Orion-CustomNER/output --paths.train /home/sobha/Orion-CustomNER/train.spacy --paths.dev /home/sobha/Orion-CustomNER/train.spacy"
   ]
  },
  {
   "cell_type": "markdown",
   "metadata": {},
   "source": [
    "### 5. Load & Test the model"
   ]
  },
  {
   "cell_type": "markdown",
   "metadata": {},
   "source": [
    "### Load the model."
   ]
  },
  {
   "cell_type": "code",
   "execution_count": 112,
   "metadata": {},
   "outputs": [],
   "source": [
    "import spacy\n",
    "\n",
    "nlp = spacy.load('/home/sobha/Orion-CustomNER/output/model-last') #load the model-last"
   ]
  },
  {
   "cell_type": "markdown",
   "metadata": {},
   "source": [
    "### Take the unseen data to test the model prediction."
   ]
  },
  {
   "cell_type": "code",
   "execution_count": 113,
   "metadata": {},
   "outputs": [
    {
     "data": {
      "text/html": [
       "<span class=\"tex2jax_ignore\"><div class=\"entities\" style=\"line-height: 2.5; direction: ltr\">\n",
       "<mark class=\"entity\" style=\"background: #ddd; padding: 0.45em 0.6em; margin: 0 0.25em; line-height: 1; border-radius: 0.35em;\">\n",
       "    Aged 10 or older\n",
       "    <span style=\"font-size: 0.8em; font-weight: bold; line-height: 1; border-radius: 0.35em; vertical-align: middle; margin-left: 0.5rem\">Numeric</span>\n",
       "</mark>\n",
       ", \n",
       "<mark class=\"entity\" style=\"background: #ddd; padding: 0.45em 0.6em; margin: 0 0.25em; line-height: 1; border-radius: 0.35em;\">\n",
       "    myocardial ischemia\n",
       "    <span style=\"font-size: 0.8em; font-weight: bold; line-height: 1; border-radius: 0.35em; vertical-align: middle; margin-left: 0.5rem\">Nominal</span>\n",
       "</mark>\n",
       ", able to undergo PTCA, stenting and CABG</div></span>"
      ],
      "text/plain": [
       "<IPython.core.display.HTML object>"
      ]
     },
     "metadata": {},
     "output_type": "display_data"
    }
   ],
   "source": [
    "sentence = 'Aged 10 or older, myocardial ischemia, able to undergo PTCA, stenting and CABG'\n",
    "\n",
    "doc = nlp(sentence)\n",
    "\n",
    "from spacy import displacy\n",
    "displacy.render(doc, style='ent', jupyter=True)\n"
   ]
  },
  {
   "cell_type": "code",
   "execution_count": 89,
   "metadata": {},
   "outputs": [],
   "source": [
    "\n",
    "nlp2 = spacy.load('/home/sobha/Orion-CustomNER/output/model-best') #load the model-best"
   ]
  },
  {
   "cell_type": "code",
   "execution_count": 114,
   "metadata": {},
   "outputs": [
    {
     "data": {
      "text/html": [
       "<span class=\"tex2jax_ignore\"><div class=\"entities\" style=\"line-height: 2.5; direction: ltr\">\n",
       "<mark class=\"entity\" style=\"background: #ddd; padding: 0.45em 0.6em; margin: 0 0.25em; line-height: 1; border-radius: 0.35em;\">\n",
       "    Aged 10 or older\n",
       "    <span style=\"font-size: 0.8em; font-weight: bold; line-height: 1; border-radius: 0.35em; vertical-align: middle; margin-left: 0.5rem\">Numeric</span>\n",
       "</mark>\n",
       ", \n",
       "<mark class=\"entity\" style=\"background: #ddd; padding: 0.45em 0.6em; margin: 0 0.25em; line-height: 1; border-radius: 0.35em;\">\n",
       "    myocardial ischemia\n",
       "    <span style=\"font-size: 0.8em; font-weight: bold; line-height: 1; border-radius: 0.35em; vertical-align: middle; margin-left: 0.5rem\">Nominal</span>\n",
       "</mark>\n",
       ", able to undergo PTCA, stenting and CABG</div></span>"
      ],
      "text/plain": [
       "<IPython.core.display.HTML object>"
      ]
     },
     "metadata": {},
     "output_type": "display_data"
    }
   ],
   "source": [
    "sentence = 'Aged 10 or older, myocardial ischemia, able to undergo PTCA, stenting and CABG'\n",
    "\n",
    "doc = nlp(sentence)\n",
    "\n",
    "from spacy import displacy\n",
    "displacy.render(doc, style='ent', jupyter=True)"
   ]
  },
  {
   "cell_type": "code",
   "execution_count": 91,
   "metadata": {},
   "outputs": [
    {
     "data": {
      "text/html": [
       "<span class=\"tex2jax_ignore\"><div class=\"entities\" style=\"line-height: 2.5; direction: ltr\">\n",
       "<mark class=\"entity\" style=\"background: #ddd; padding: 0.45em 0.6em; margin: 0 0.25em; line-height: 1; border-radius: 0.35em;\">\n",
       "    Type 1 Myocardial infarction\n",
       "    <span style=\"font-size: 0.8em; font-weight: bold; line-height: 1; border-radius: 0.35em; vertical-align: middle; margin-left: 0.5rem\">Nominal</span>\n",
       "</mark>\n",
       " Have at least two \n",
       "<mark class=\"entity\" style=\"background: #ddd; padding: 0.45em 0.6em; margin: 0 0.25em; line-height: 1; border-radius: 0.35em;\">\n",
       "    coronary artery territories of disease &gt; 50%\n",
       "    <span style=\"font-size: 0.8em; font-weight: bold; line-height: 1; border-radius: 0.35em; vertical-align: middle; margin-left: 0.5rem\">Nominal</span>\n",
       "</mark>\n",
       " Be on treatment for \n",
       "<mark class=\"entity\" style=\"background: #ddd; padding: 0.45em 0.6em; margin: 0 0.25em; line-height: 1; border-radius: 0.35em;\">\n",
       "    Diabetes\n",
       "    <span style=\"font-size: 0.8em; font-weight: bold; line-height: 1; border-radius: 0.35em; vertical-align: middle; margin-left: 0.5rem\">Nominal</span>\n",
       "</mark>\n",
       "</div></span>"
      ],
      "text/plain": [
       "<IPython.core.display.HTML object>"
      ]
     },
     "metadata": {},
     "output_type": "display_data"
    }
   ],
   "source": [
    "sentence2='Type 1 Myocardial infarction Have at least two coronary artery territories of disease > 50% Be on treatment for Diabetes'\n",
    "doc2 = nlp(sentence2)\n",
    "\n",
    "from spacy import displacy\n",
    "displacy.render(doc2, style='ent', jupyter=True)"
   ]
  },
  {
   "cell_type": "code",
   "execution_count": 115,
   "metadata": {},
   "outputs": [
    {
     "data": {
      "text/html": [
       "<span class=\"tex2jax_ignore\"><div class=\"entities\" style=\"line-height: 2.5; direction: ltr\">\n",
       "<mark class=\"entity\" style=\"background: #ddd; padding: 0.45em 0.6em; margin: 0 0.25em; line-height: 1; border-radius: 0.35em;\">\n",
       "    Age &gt;= 18\n",
       "    <span style=\"font-size: 0.8em; font-weight: bold; line-height: 1; border-radius: 0.35em; vertical-align: middle; margin-left: 0.5rem\">Numeric</span>\n",
       "</mark>\n",
       " Newly diagnosed \n",
       "<mark class=\"entity\" style=\"background: #ddd; padding: 0.45em 0.6em; margin: 0 0.25em; line-height: 1; border-radius: 0.35em;\">\n",
       "    multiple myeloma\n",
       "    <span style=\"font-size: 0.8em; font-weight: bold; line-height: 1; border-radius: 0.35em; vertical-align: middle; margin-left: 0.5rem\">Nominal</span>\n",
       "</mark>\n",
       " Ineligible for autologous stem cell transplant </div></span>"
      ],
      "text/plain": [
       "<IPython.core.display.HTML object>"
      ]
     },
     "metadata": {},
     "output_type": "display_data"
    }
   ],
   "source": [
    "sentence ='Age >= 18 Newly diagnosed multiple myeloma Ineligible for autologous stem cell transplant '\n",
    "doc = nlp(sentence)\n",
    "\n",
    "from spacy import displacy\n",
    "displacy.render(doc, style='ent', jupyter=True)"
   ]
  },
  {
   "cell_type": "code",
   "execution_count": 116,
   "metadata": {},
   "outputs": [
    {
     "data": {
      "text/html": [
       "<span class=\"tex2jax_ignore\"><div class=\"entities\" style=\"line-height: 2.5; direction: ltr\">\n",
       "<mark class=\"entity\" style=\"background: #ddd; padding: 0.45em 0.6em; margin: 0 0.25em; line-height: 1; border-radius: 0.35em;\">\n",
       "    Age&gt;=18\n",
       "    <span style=\"font-size: 0.8em; font-weight: bold; line-height: 1; border-radius: 0.35em; vertical-align: middle; margin-left: 0.5rem\">Numeric</span>\n",
       "</mark>\n",
       "</div></span>"
      ],
      "text/plain": [
       "<IPython.core.display.HTML object>"
      ]
     },
     "metadata": {},
     "output_type": "display_data"
    }
   ],
   "source": [
    "sentence ='Age>=18'\n",
    "doc = nlp(sentence)\n",
    "\n",
    "from spacy import displacy\n",
    "displacy.render(doc, style='ent', jupyter=True)"
   ]
  },
  {
   "cell_type": "code",
   "execution_count": 117,
   "metadata": {},
   "outputs": [
    {
     "data": {
      "text/html": [
       "<span class=\"tex2jax_ignore\"><div class=\"entities\" style=\"line-height: 2.5; direction: ltr\">\n",
       "<mark class=\"entity\" style=\"background: #ddd; padding: 0.45em 0.6em; margin: 0 0.25em; line-height: 1; border-radius: 0.35em;\">\n",
       "    age less than 18\n",
       "    <span style=\"font-size: 0.8em; font-weight: bold; line-height: 1; border-radius: 0.35em; vertical-align: middle; margin-left: 0.5rem\">Numeric</span>\n",
       "</mark>\n",
       "</div></span>"
      ],
      "text/plain": [
       "<IPython.core.display.HTML object>"
      ]
     },
     "metadata": {},
     "output_type": "display_data"
    }
   ],
   "source": [
    "sentence ='age less than 18'\n",
    "doc = nlp(sentence)\n",
    "\n",
    "from spacy import displacy\n",
    "displacy.render(doc, style='ent', jupyter=True)"
   ]
  },
  {
   "cell_type": "code",
   "execution_count": 118,
   "metadata": {},
   "outputs": [
    {
     "data": {
      "text/html": [
       "<span class=\"tex2jax_ignore\"><div class=\"entities\" style=\"line-height: 2.5; direction: ltr\">\n",
       "<mark class=\"entity\" style=\"background: #ddd; padding: 0.45em 0.6em; margin: 0 0.25em; line-height: 1; border-radius: 0.35em;\">\n",
       "    age greater than 18\n",
       "    <span style=\"font-size: 0.8em; font-weight: bold; line-height: 1; border-radius: 0.35em; vertical-align: middle; margin-left: 0.5rem\">Numeric</span>\n",
       "</mark>\n",
       "</div></span>"
      ],
      "text/plain": [
       "<IPython.core.display.HTML object>"
      ]
     },
     "metadata": {},
     "output_type": "display_data"
    }
   ],
   "source": [
    "sentence ='age greater than 18'\n",
    "doc = nlp(sentence)\n",
    "\n",
    "from spacy import displacy\n",
    "displacy.render(doc, style='ent', jupyter=True)"
   ]
  },
  {
   "cell_type": "code",
   "execution_count": 119,
   "metadata": {},
   "outputs": [
    {
     "data": {
      "text/html": [
       "<span class=\"tex2jax_ignore\"><div class=\"entities\" style=\"line-height: 2.5; direction: ltr\">\n",
       "<mark class=\"entity\" style=\"background: #ddd; padding: 0.45em 0.6em; margin: 0 0.25em; line-height: 1; border-radius: 0.35em;\">\n",
       "    Life expectancy greater than or equal to 6 months\n",
       "    <span style=\"font-size: 0.8em; font-weight: bold; line-height: 1; border-radius: 0.35em; vertical-align: middle; margin-left: 0.5rem\">Numeric</span>\n",
       "</mark>\n",
       "</div></span>"
      ],
      "text/plain": [
       "<IPython.core.display.HTML object>"
      ]
     },
     "metadata": {},
     "output_type": "display_data"
    }
   ],
   "source": [
    "sentence ='Life expectancy greater than or equal to 6 months' \n",
    "doc = nlp(sentence)\n",
    "\n",
    "from spacy import displacy\n",
    "displacy.render(doc, style='ent', jupyter=True)"
   ]
  },
  {
   "cell_type": "code",
   "execution_count": 96,
   "metadata": {},
   "outputs": [
    {
     "data": {
      "text/html": [
       "<span class=\"tex2jax_ignore\"><div class=\"entities\" style=\"line-height: 2.5; direction: ltr\">\n",
       "<mark class=\"entity\" style=\"background: #ddd; padding: 0.45em 0.6em; margin: 0 0.25em; line-height: 1; border-radius: 0.35em;\">\n",
       "    Metastatic breast cancer (BR)\n",
       "    <span style=\"font-size: 0.8em; font-weight: bold; line-height: 1; border-radius: 0.35em; vertical-align: middle; margin-left: 0.5rem\">Nominal</span>\n",
       "</mark>\n",
       " \n",
       "<mark class=\"entity\" style=\"background: #ddd; padding: 0.45em 0.6em; margin: 0 0.25em; line-height: 1; border-radius: 0.35em;\">\n",
       "    Metastatic ovarian cancer (OV)\n",
       "    <span style=\"font-size: 0.8em; font-weight: bold; line-height: 1; border-radius: 0.35em; vertical-align: middle; margin-left: 0.5rem\">Nominal</span>\n",
       "</mark>\n",
       " \n",
       "<mark class=\"entity\" style=\"background: #ddd; padding: 0.45em 0.6em; margin: 0 0.25em; line-height: 1; border-radius: 0.35em;\">\n",
       "    Metastatic endometrial cancer (EM)\n",
       "    <span style=\"font-size: 0.8em; font-weight: bold; line-height: 1; border-radius: 0.35em; vertical-align: middle; margin-left: 0.5rem\">Nominal</span>\n",
       "</mark>\n",
       " \n",
       "<mark class=\"entity\" style=\"background: #ddd; padding: 0.45em 0.6em; margin: 0 0.25em; line-height: 1; border-radius: 0.35em;\">\n",
       "    Metastatic cervical cancer (CX)\n",
       "    <span style=\"font-size: 0.8em; font-weight: bold; line-height: 1; border-radius: 0.35em; vertical-align: middle; margin-left: 0.5rem\">Nominal</span>\n",
       "</mark>\n",
       "</div></span>"
      ],
      "text/plain": [
       "<IPython.core.display.HTML object>"
      ]
     },
     "metadata": {},
     "output_type": "display_data"
    }
   ],
   "source": [
    "sentence ='Metastatic breast cancer (BR) Metastatic ovarian cancer (OV) Metastatic endometrial cancer (EM) Metastatic cervical cancer (CX)'\n",
    "doc = nlp(sentence)\n",
    "from spacy import displacy\n",
    "displacy.render(doc, style='ent', jupyter=True)"
   ]
  },
  {
   "cell_type": "code",
   "execution_count": 120,
   "metadata": {},
   "outputs": [
    {
     "data": {
      "text/html": [
       "<span class=\"tex2jax_ignore\"><div class=\"entities\" style=\"line-height: 2.5; direction: ltr\">\n",
       "<mark class=\"entity\" style=\"background: #ddd; padding: 0.45em 0.6em; margin: 0 0.25em; line-height: 1; border-radius: 0.35em;\">\n",
       "    type 2 diabetic\n",
       "    <span style=\"font-size: 0.8em; font-weight: bold; line-height: 1; border-radius: 0.35em; vertical-align: middle; margin-left: 0.5rem\">Nominal</span>\n",
       "</mark>\n",
       ", \n",
       "<mark class=\"entity\" style=\"background: #ddd; padding: 0.45em 0.6em; margin: 0 0.25em; line-height: 1; border-radius: 0.35em;\">\n",
       "    age 18 and over\n",
       "    <span style=\"font-size: 0.8em; font-weight: bold; line-height: 1; border-radius: 0.35em; vertical-align: middle; margin-left: 0.5rem\">Numeric</span>\n",
       "</mark>\n",
       ", informed consent</div></span>"
      ],
      "text/plain": [
       "<IPython.core.display.HTML object>"
      ]
     },
     "metadata": {},
     "output_type": "display_data"
    }
   ],
   "source": [
    "sentence='type 2 diabetic, age 18 and over, informed consent'\n",
    "doc = nlp(sentence)\n",
    "from spacy import displacy\n",
    "displacy.render(doc, style='ent', jupyter=True)"
   ]
  },
  {
   "cell_type": "code",
   "execution_count": 121,
   "metadata": {},
   "outputs": [
    {
     "data": {
      "text/html": [
       "<span class=\"tex2jax_ignore\"><div class=\"entities\" style=\"line-height: 2.5; direction: ltr\">\n",
       "<mark class=\"entity\" style=\"background: #ddd; padding: 0.45em 0.6em; margin: 0 0.25em; line-height: 1; border-radius: 0.35em;\">\n",
       "    Aged between 18-70 years old\n",
       "    <span style=\"font-size: 0.8em; font-weight: bold; line-height: 1; border-radius: 0.35em; vertical-align: middle; margin-left: 0.5rem\">Numeric</span>\n",
       "</mark>\n",
       " ,Diagnosis of \n",
       "<mark class=\"entity\" style=\"background: #ddd; padding: 0.45em 0.6em; margin: 0 0.25em; line-height: 1; border-radius: 0.35em;\">\n",
       "    Fatty Liver Disease\n",
       "    <span style=\"font-size: 0.8em; font-weight: bold; line-height: 1; border-radius: 0.35em; vertical-align: middle; margin-left: 0.5rem\">Nominal</span>\n",
       "</mark>\n",
       " ,Have a \n",
       "<mark class=\"entity\" style=\"background: #ddd; padding: 0.45em 0.6em; margin: 0 0.25em; line-height: 1; border-radius: 0.35em;\">\n",
       "    BMI between 25 to 50 kg/m2\n",
       "    <span style=\"font-size: 0.8em; font-weight: bold; line-height: 1; border-radius: 0.35em; vertical-align: middle; margin-left: 0.5rem\">Numeric</span>\n",
       "</mark>\n",
       "</div></span>"
      ],
      "text/plain": [
       "<IPython.core.display.HTML object>"
      ]
     },
     "metadata": {},
     "output_type": "display_data"
    }
   ],
   "source": [
    "sentence='Aged between 18-70 years old ,Diagnosis of Fatty Liver Disease ,Have a BMI between 25 to 50 kg/m2'\n",
    "doc = nlp(sentence)\n",
    "from spacy import displacy\n",
    "displacy.render(doc, style='ent', jupyter=True)"
   ]
  },
  {
   "cell_type": "code",
   "execution_count": 24,
   "metadata": {},
   "outputs": [],
   "source": [
    "# observed  age<=18 is not tretaed as numeric and havea bmi between  is treated as nominal"
   ]
  },
  {
   "cell_type": "code",
   "execution_count": 123,
   "metadata": {},
   "outputs": [
    {
     "data": {
      "text/html": [
       "<span class=\"tex2jax_ignore\"><div class=\"entities\" style=\"line-height: 2.5; direction: ltr\">\n",
       "<mark class=\"entity\" style=\"background: #ddd; padding: 0.45em 0.6em; margin: 0 0.25em; line-height: 1; border-radius: 0.35em;\">\n",
       "    Aged between 18-70 years old\n",
       "    <span style=\"font-size: 0.8em; font-weight: bold; line-height: 1; border-radius: 0.35em; vertical-align: middle; margin-left: 0.5rem\">Numeric</span>\n",
       "</mark>\n",
       " ,Diagnosis of \n",
       "<mark class=\"entity\" style=\"background: #ddd; padding: 0.45em 0.6em; margin: 0 0.25em; line-height: 1; border-radius: 0.35em;\">\n",
       "    Fatty Liver Disease\n",
       "    <span style=\"font-size: 0.8em; font-weight: bold; line-height: 1; border-radius: 0.35em; vertical-align: middle; margin-left: 0.5rem\">Nominal</span>\n",
       "</mark>\n",
       " ,Have a \n",
       "<mark class=\"entity\" style=\"background: #ddd; padding: 0.45em 0.6em; margin: 0 0.25em; line-height: 1; border-radius: 0.35em;\">\n",
       "    BMI between 25 to 50 kg/m2\n",
       "    <span style=\"font-size: 0.8em; font-weight: bold; line-height: 1; border-radius: 0.35em; vertical-align: middle; margin-left: 0.5rem\">Numeric</span>\n",
       "</mark>\n",
       ",</br>            \n",
       "<mark class=\"entity\" style=\"background: #ddd; padding: 0.45em 0.6em; margin: 0 0.25em; line-height: 1; border-radius: 0.35em;\">\n",
       "    type 2 diabetic\n",
       "    <span style=\"font-size: 0.8em; font-weight: bold; line-height: 1; border-radius: 0.35em; vertical-align: middle; margin-left: 0.5rem\">Nominal</span>\n",
       "</mark>\n",
       ",\n",
       "<mark class=\"entity\" style=\"background: #ddd; padding: 0.45em 0.6em; margin: 0 0.25em; line-height: 1; border-radius: 0.35em;\">\n",
       "    age 18 and over\n",
       "    <span style=\"font-size: 0.8em; font-weight: bold; line-height: 1; border-radius: 0.35em; vertical-align: middle; margin-left: 0.5rem\">Numeric</span>\n",
       "</mark>\n",
       ", informed consent</br>            \n",
       "<mark class=\"entity\" style=\"background: #ddd; padding: 0.45em 0.6em; margin: 0 0.25em; line-height: 1; border-radius: 0.35em;\">\n",
       "    Metastatic breast cancer (BR)\n",
       "    <span style=\"font-size: 0.8em; font-weight: bold; line-height: 1; border-radius: 0.35em; vertical-align: middle; margin-left: 0.5rem\">Nominal</span>\n",
       "</mark>\n",
       " \n",
       "<mark class=\"entity\" style=\"background: #ddd; padding: 0.45em 0.6em; margin: 0 0.25em; line-height: 1; border-radius: 0.35em;\">\n",
       "    Metastatic ovarian cancer (OV)\n",
       "    <span style=\"font-size: 0.8em; font-weight: bold; line-height: 1; border-radius: 0.35em; vertical-align: middle; margin-left: 0.5rem\">Nominal</span>\n",
       "</mark>\n",
       " \n",
       "<mark class=\"entity\" style=\"background: #ddd; padding: 0.45em 0.6em; margin: 0 0.25em; line-height: 1; border-radius: 0.35em;\">\n",
       "    Metastatic endometrial cancer (EM)\n",
       "    <span style=\"font-size: 0.8em; font-weight: bold; line-height: 1; border-radius: 0.35em; vertical-align: middle; margin-left: 0.5rem\">Nominal</span>\n",
       "</mark>\n",
       " \n",
       "<mark class=\"entity\" style=\"background: #ddd; padding: 0.45em 0.6em; margin: 0 0.25em; line-height: 1; border-radius: 0.35em;\">\n",
       "    Metastatic cervical cancer (CX)\n",
       "            Age &gt;= 18\n",
       "    <span style=\"font-size: 0.8em; font-weight: bold; line-height: 1; border-radius: 0.35em; vertical-align: middle; margin-left: 0.5rem\">Nominal</span>\n",
       "</mark>\n",
       " Newly diagnosed \n",
       "<mark class=\"entity\" style=\"background: #ddd; padding: 0.45em 0.6em; margin: 0 0.25em; line-height: 1; border-radius: 0.35em;\">\n",
       "    multiple myeloma\n",
       "    <span style=\"font-size: 0.8em; font-weight: bold; line-height: 1; border-radius: 0.35em; vertical-align: middle; margin-left: 0.5rem\">Nominal</span>\n",
       "</mark>\n",
       " </br>            \n",
       "<mark class=\"entity\" style=\"background: #ddd; padding: 0.45em 0.6em; margin: 0 0.25em; line-height: 1; border-radius: 0.35em;\">\n",
       "    Type 1 Myocardial infarction\n",
       "    <span style=\"font-size: 0.8em; font-weight: bold; line-height: 1; border-radius: 0.35em; vertical-align: middle; margin-left: 0.5rem\">Nominal</span>\n",
       "</mark>\n",
       " Have at least two \n",
       "<mark class=\"entity\" style=\"background: #ddd; padding: 0.45em 0.6em; margin: 0 0.25em; line-height: 1; border-radius: 0.35em;\">\n",
       "    coronary artery territories of disease &gt; 50%\n",
       "    <span style=\"font-size: 0.8em; font-weight: bold; line-height: 1; border-radius: 0.35em; vertical-align: middle; margin-left: 0.5rem\">Nominal</span>\n",
       "</mark>\n",
       " Be on treatment for \n",
       "<mark class=\"entity\" style=\"background: #ddd; padding: 0.45em 0.6em; margin: 0 0.25em; line-height: 1; border-radius: 0.35em;\">\n",
       "    Diabetes\n",
       "    <span style=\"font-size: 0.8em; font-weight: bold; line-height: 1; border-radius: 0.35em; vertical-align: middle; margin-left: 0.5rem\">Nominal</span>\n",
       "</mark>\n",
       "</br>            \n",
       "<mark class=\"entity\" style=\"background: #ddd; padding: 0.45em 0.6em; margin: 0 0.25em; line-height: 1; border-radius: 0.35em;\">\n",
       "    Aged 18 or older\n",
       "    <span style=\"font-size: 0.8em; font-weight: bold; line-height: 1; border-radius: 0.35em; vertical-align: middle; margin-left: 0.5rem\">Numeric</span>\n",
       "</mark>\n",
       ", \n",
       "<mark class=\"entity\" style=\"background: #ddd; padding: 0.45em 0.6em; margin: 0 0.25em; line-height: 1; border-radius: 0.35em;\">\n",
       "    myocardial ischemia\n",
       "    <span style=\"font-size: 0.8em; font-weight: bold; line-height: 1; border-radius: 0.35em; vertical-align: middle; margin-left: 0.5rem\">Nominal</span>\n",
       "</mark>\n",
       ", able to undergo PTCA, stenting and CABG</br>            Pre-existing \n",
       "<mark class=\"entity\" style=\"background: #ddd; padding: 0.45em 0.6em; margin: 0 0.25em; line-height: 1; border-radius: 0.35em;\">\n",
       "    eye diseases\n",
       "    <span style=\"font-size: 0.8em; font-weight: bold; line-height: 1; border-radius: 0.35em; vertical-align: middle; margin-left: 0.5rem\">Nominal</span>\n",
       "</mark>\n",
       " (\n",
       "<mark class=\"entity\" style=\"background: #ddd; padding: 0.45em 0.6em; margin: 0 0.25em; line-height: 1; border-radius: 0.35em;\">\n",
       "    glaucoma\n",
       "    <span style=\"font-size: 0.8em; font-weight: bold; line-height: 1; border-radius: 0.35em; vertical-align: middle; margin-left: 0.5rem\">Nominal</span>\n",
       "</mark>\n",
       "). Having a \n",
       "<mark class=\"entity\" style=\"background: #ddd; padding: 0.45em 0.6em; margin: 0 0.25em; line-height: 1; border-radius: 0.35em;\">\n",
       "    remote infection\n",
       "            \n",
       "    <span style=\"font-size: 0.8em; font-weight: bold; line-height: 1; border-radius: 0.35em; vertical-align: middle; margin-left: 0.5rem\">Nominal</span>\n",
       "</mark>\n",
       "History of \n",
       "<mark class=\"entity\" style=\"background: #ddd; padding: 0.45em 0.6em; margin: 0 0.25em; line-height: 1; border-radius: 0.35em;\">\n",
       "    immunodeficiency,\n",
       "    <span style=\"font-size: 0.8em; font-weight: bold; line-height: 1; border-radius: 0.35em; vertical-align: middle; margin-left: 0.5rem\">Nominal</span>\n",
       "</mark>\n",
       " </br></br>          </div></span>"
      ],
      "text/plain": [
       "<IPython.core.display.HTML object>"
      ]
     },
     "metadata": {},
     "output_type": "display_data"
    }
   ],
   "source": [
    "sentence='''Aged between 18-70 years old ,Diagnosis of Fatty Liver Disease ,Have a BMI between 25 to 50 kg/m2,\n",
    "            type 2 diabetic,age 18 and over, informed consent\n",
    "            Metastatic breast cancer (BR) Metastatic ovarian cancer (OV) Metastatic endometrial cancer (EM) Metastatic cervical cancer (CX)\n",
    "            Age >= 18 Newly diagnosed multiple myeloma \n",
    "            Type 1 Myocardial infarction Have at least two coronary artery territories of disease > 50% Be on treatment for Diabetes\n",
    "            Aged 18 or older, myocardial ischemia, able to undergo PTCA, stenting and CABG\n",
    "            Pre-existing eye diseases (glaucoma). Having a remote infection\n",
    "            History of immunodeficiency, \n",
    "\n",
    "          '''\n",
    "doc = nlp(sentence)\n",
    "from spacy import displacy\n",
    "displacy.render(doc, style='ent', jupyter=True)"
   ]
  },
  {
   "cell_type": "code",
   "execution_count": 52,
   "metadata": {},
   "outputs": [],
   "source": [
    "# Testing Spacy NER model\n",
    "#spacy evaluate ./dev.spacy"
   ]
  },
  {
   "cell_type": "markdown",
   "metadata": {},
   "source": [
    "## Age information Extraction"
   ]
  },
  {
   "cell_type": "code",
   "execution_count": 109,
   "metadata": {},
   "outputs": [],
   "source": [
    "import spacy\n",
    "from spacy.lang.en import English\n",
    "from spacy.matcher import Matcher\n",
    "nlp = spacy.load(\"en_core_web_sm\")\n",
    "matcher = Matcher(nlp.vocab)\n",
    "\n",
    "patterns = [\n",
    "   [{\"LOWER\" : \"age>=\"},{\"LIKE_NUM\" : True},{\"LEMMA\" : \"year\"}],\n",
    "   [{\"LOWER\" : \"age<=\"},{\"LIKE_NUM\" : True},{\"LEMMA\" : \"year\"}], \n",
    "   [{\"LOWER\" : \"age\"},{\"ORTH\" : \"<\"},{\"LIKE_NUM\" : True},{\"LEMMA\": \"year\"}], \n",
    "   [{\"LOWER\" : \"age\"},{\"ORTH\" : \">\"},{\"LIKE_NUM\" : True},{\"LEMMA\": \"year\"}],\n",
    "   [{\"LOWER\" : \"age\"},{\"ORTH\" : \"<\"},{\"ORTH\" : \"=\"},{\"LIKE_NUM\" : True},{\"LEMMA\": \"year\"}], \n",
    "   [{\"LOWER\" : \"age\"},{\"ORTH\" : \">\"},{\"ORTH\" : \"=\"},{\"LIKE_NUM\" : True},{\"LEMMA\": \"year\"}],\n",
    "   [{\"LOWER\" : \"aged\"},{\"LIKE_NUM\" : True},{\"LOWER\" : \"or\"},{\"LEMMA\" : \"old\"}],\n",
    "   [{\"LOWER\" : \"aged\"},{\"LIKE_NUM\" : True},{\"LOWER\" : \"and\"},{\"LEMMA\" : \"old\"}],\n",
    "   [{\"LOWER\" : \"aged\"},{\"LIKE_NUM\" : True},{\"LOWER\" : \"and\"},{\"LOWER\" : \"under\"}],\n",
    "   [{\"LOWER\" : \"aged\"},{\"LIKE_NUM\" : True},{\"LOWER\" : \"or\"},{\"LOWER\" : \"under\"}],\n",
    "   [{\"LOWER\" : \"aged\"},{\"LIKE_NUM\" : True},{\"LOWER\" : \"and\"},{\"LOWER\" : \"over\"}],\n",
    "   [{\"LOWER\" : \"aged\"},{\"LIKE_NUM\" : True},{\"LOWER\" : \"or\"},{\"LOWER\" : \"over\"}],\n",
    "   [{\"LOWER\" : \"aged\"},{\"LIKE_NUM\" : True},{\"LEMMA\": \"year\"},{\"LOWER\" : \"or\"},{\"LEMMA\" : \"old\"}],\n",
    "   [{\"LOWER\" : \"aged\"},{\"LIKE_NUM\" : True},{\"LOWER\" : \"and\"},{\"LEMMA\": \"year\"},{\"LEMMA\" : \"old\"}],\n",
    "   [{\"LOWER\" : \"aged\"},{\"LIKE_NUM\" : True},{\"LOWER\" : \"and\"},{\"LEMMA\": \"year\"},{\"LOWER\" : \"under\"}],\n",
    "   [{\"LOWER\" : \"aged\"},{\"LIKE_NUM\" : True},{\"LOWER\" : \"or\"},{\"LEMMA\": \"year\"},{\"LOWER\" : \"under\"}],\n",
    "   [{\"LOWER\" : \"aged\"},{\"LIKE_NUM\" : True},{\"LOWER\" : \"and\"},{\"LEMMA\": \"year\"},{\"LOWER\" : \"over\"}],\n",
    "   [{\"LOWER\" : \"aged\"},{\"LIKE_NUM\" : True},{\"LOWER\" : \"or\"},{\"LEMMA\": \"year\"},{\"LOWER\" : \"over\"}],\n",
    "   [{\"LOWER\" : \"age\"},{\"LIKE_NUM\" : True},{\"LEMMA\": \"year\"},{\"LOWER\" : \"or\"},{\"LEMMA\" : \"old\"}],\n",
    "   [{\"LOWER\" : \"age\"},{\"LIKE_NUM\" : True},{\"LOWER\" : \"and\"},{\"LEMMA\": \"year\"},{\"LEMMA\" : \"old\"}],\n",
    "   [{\"LOWER\" : \"age\"},{\"LIKE_NUM\" : True},{\"LOWER\" : \"and\"},{\"LEMMA\": \"year\"},{\"LOWER\" : \"under\"}],\n",
    "   [{\"LOWER\" : \"age\"},{\"LIKE_NUM\" : True},{\"LOWER\" : \"or\"},{\"LEMMA\": \"year\"},{\"LOWER\" : \"under\"}],\n",
    "   [{\"LOWER\" : \"age\"},{\"LIKE_NUM\" : True},{\"LOWER\" : \"and\"},{\"LEMMA\": \"year\"},{\"LOWER\" : \"over\"}],\n",
    "   [{\"LOWER\" : \"age\"},{\"LIKE_NUM\" : True},{\"LOWER\" : \"or\"},{\"LEMMA\": \"year\"},{\"LOWER\" : \"over\"}],\n",
    "   [{\"LOWER\" : \"aged\"},{\"TEXT\" : \"between\"},{\"LIKE_NUM\" : True},{\"ORTH\": \"-\"},{\"LIKE_NUM\" : True},{\"LEMMA\": \"year\"}],\n",
    "   [{\"LOWER\" : \"age\"},{\"ORTH\" : \"<\"},{\"LIKE_NUM\" : True}], \n",
    "   [{\"LOWER\" : \"age\"},{\"ORTH\" : \">\"},{\"LIKE_NUM\" : True}],  \n",
    "   [{\"TEXT\" : \"age <=\"},{\"LIKE_NUM\" : True},{\"LEMMA\": \"year\"}],\n",
    "   [{\"TEXT\" : \"age >=\"},{\"LIKE_NUM\" : True},{\"LEMMA\": \"year\"}],\n",
    "   [{\"LOWER\" : \"age\"},{\"LOWER\" : \"greater\"},{\"LOWER\" : \"than\"},{\"LIKE_NUM\" : True},{\"LEMMA\": \"year\"}],\n",
    "   [{\"LOWER\" : \"age\"},{\"LOWER\" : \"less\"},{\"LOWER\" : \"than\"},{\"LIKE_NUM\" : True},{\"LEMMA\": \"year\"}],\n",
    "   [{\"LOWER\" : \"age\"},{\"LOWER\" : \"over\"},{\"LIKE_NUM\" : True},{\"LEMMA\": \"year\"}],\n",
    "   [{\"LOWER\" : \"age\"},{\"LOWER\" : \"under\"},{\"LIKE_NUM\" : True},{\"LEMMA\": \"year\"}],\n",
    "   [{\"LOWER\" : \"age\"},{\"LOWER\" : \"above\"},{\"LIKE_NUM\" : True},{\"LEMMA\": \"year\"}], \n",
    "   [{\"LOWER\" : \"age\"},{\"LOWER\" : \"below\"},{\"LIKE_NUM\" : True},{\"LEMMA\": \"year\"}],\n",
    "   [{\"LOWER\" : \"aged\"},{\"LOWER\" : \"over\"},{\"LIKE_NUM\" : True},{\"LEMMA\": \"year\"}],\n",
    "   [{\"LOWER\" : \"aged\"},{\"LOWER\" : \"under\"},{\"LIKE_NUM\" : True},{\"LEMMA\": \"year\"}],\n",
    "   [{\"LOWER\" : \"aged\"},{\"LOWER\" : \"above\"},{\"LIKE_NUM\" : True},{\"LEMMA\": \"year\"}], \n",
    "   [{\"LOWER\" : \"aged\"},{\"LOWER\" : \"below\"},{\"LIKE_NUM\" : True},{\"LEMMA\": \"year\"}],\n",
    "   [{\"LOWER\" : \"aged\"},{\"LOWER\": \"between\"},{\"LIKE_NUM\" : True},{\"TEXT\" : \"and\"},{\"LIKE_NUM\" : True}], \n",
    "   [{\"LOWER\" : \"age\"},{\"LOWER\": \"between\"},{\"LIKE_NUM\" : True},{\"TEXT\" : \"and\"},{\"LIKE_NUM\" : True}],\n",
    "   [{\"LIKE_NUM\": True}, {\"LEMMA\": \"year\"}, {\"LEMMA\": \"old\"}],\n",
    "   [{\"LEMMA\" : \"age\"}, {\"LIKE_NUM\" : True}, {\"LEMMA\": \"year\"}],\n",
    "   [{\"LOWER\" : \"age\"}, {\"LIKE_NUM\" : True}, {\"LEMMA\": \"year\"}],\n",
    "    [{\"LOWER\": \"between\"},{\"LIKE_NUM\" : True},{\"TEXT\" : \"to\"},{\"LIKE_NUM\" : True},{\"LEMMA\": \"year\"},{\"TEXT\" : \"of\"},{\"LOWER\" : \"age\"},],\n",
    "    [{\"LOWER\" : \"aged\"},{\"LOWER\": \"between\"},{\"LIKE_NUM\" : True},{\"TEXT\" : \"to\"},{\"LIKE_NUM\" : True},{\"LEMMA\": \"year\"}], \n",
    "  # [{\"Text\" : \"Age\"}, {\"LIKE_NUM\" : True}, {\"TEXT\" : \"or older\"}]\n",
    "  # [{\"Text\" : \"Aged\"}, {\"LIKE_NUM\" : True}, {\"TEXT\" : \"or older\"}]\n",
    "  #  [{\"TEXT\" IN{'age','ages','aged'},{\"LIKE_NUM\" : True}]\n",
    "  ] \n",
    "\n",
    "matcher.add(\"age_rule\", patterns)\n",
    "\n"
   ]
  },
  {
   "cell_type": "code",
   "execution_count": 110,
   "metadata": {},
   "outputs": [
    {
     "name": "stdout",
     "output_type": "stream",
     "text": [
      "3741705598786462532,      age_rule,    0,   4,     Aged 22 and older\n",
      "3741705598786462532,      age_rule,    13,   17,     Age over 18 years\n",
      "3741705598786462532,      age_rule,    18,   23,     Age less than 65 years\n",
      "3741705598786462532,      age_rule,    29,   33,     Aged 20 or older\n",
      "3741705598786462532,      age_rule,    38,   42,     Aged over 18 years\n",
      "3741705598786462532,      age_rule,    50,   56,     Aged between 18-70 years\n",
      "3741705598786462532,      age_rule,    54,   57,     70 years old\n",
      "3741705598786462532,      age_rule,    66,   71,     Age >= 10 years\n",
      "3741705598786462532,      age_rule,    79,   84,     Aged between 40 and 85\n",
      "3741705598786462532,      age_rule,    90,   97,     between 40 to 70 years of age\n",
      "3741705598786462532,      age_rule,    99,   104,     Aged 18 years or older\n"
     ]
    }
   ],
   "source": [
    "text = '''Aged 22 and older, undergoing 1 or 2 level spinal decompression.Age over 18 years.Age less than 65 years, have diagnosed ulcerative colitis \n",
    "          Aged 20 or older, myocardial ischemia, \n",
    "          Aged over 18 years Confirmed diagnosis of bronchiectasis within 5 years\n",
    "          Aged between 18-70 years old Diagnosis of Non-alcoholic Fatty Liver Disease\n",
    "          Age >= 10 years Diagnosed with Relapsed or Refractory Multiple Myeloma\n",
    "          Aged between 40 and 85 years Diagnosed with COPD \n",
    "          Women between 40 to 70 years of age.\n",
    "          Aged 18 years or older Diagnosis of Ankylosing Spondylitis or Axial '''\n",
    "doc = nlp(text)\n",
    "\n",
    "matches = matcher(doc)\n",
    "for match_id, start, end in matches:\n",
    "    string_id = nlp.vocab.strings[match_id]  # Get string representation\n",
    "    span = doc[start:end]  # The matched span\n",
    "   # print(f'Matching ID ,  Age Criteria ,  Texy Matched is ')\n",
    "    print(f'{match_id},      {string_id},    {start},   {end},     {span.text}')\n",
    "   # data.frame(match_id,string_id,start, end, span.text)"
   ]
  },
  {
   "cell_type": "code",
   "execution_count": null,
   "metadata": {},
   "outputs": [],
   "source": []
  },
  {
   "cell_type": "markdown",
   "metadata": {},
   "source": [
    "\n",
    "\n"
   ]
  }
 ],
 "metadata": {
  "kernelspec": {
   "display_name": "Python 3",
   "language": "python",
   "name": "python3"
  },
  "language_info": {
   "codemirror_mode": {
    "name": "ipython",
    "version": 3
   },
   "file_extension": ".py",
   "mimetype": "text/x-python",
   "name": "python",
   "nbconvert_exporter": "python",
   "pygments_lexer": "ipython3",
   "version": "3.7.6"
  }
 },
 "nbformat": 4,
 "nbformat_minor": 5
}
