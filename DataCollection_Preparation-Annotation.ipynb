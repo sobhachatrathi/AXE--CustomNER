{
 "cells": [
  {
   "cell_type": "markdown",
   "metadata": {},
   "source": [
    "## Task : Automatically Identify Numerical and Nominal Entities,Age from free text (clinical EHR)\n"
   ]
  },
  {
   "cell_type": "markdown",
   "metadata": {},
   "source": [
    "### NLP(Natural Language Processing)technique can be used to identify Entities from free text.SpaCy is an open-source python library used for Natural Language Processing(NLP). \n",
    "Named Entity Recognition(NER) is the NLP task that recognizes entities in a given text. NER is a model which performs two tasks: Detect and Categorize"
   ]
  },
  {
   "cell_type": "markdown",
   "metadata": {},
   "source": [
    "### Build a Custom NER model using spaCy 3.0  \n",
    "\n",
    "Followed the blog and the link to it is [https://turbolab.in/build-a-custom-ner-model-using-spacy-3-0/]"
   ]
  },
  {
   "cell_type": "markdown",
   "metadata": {},
   "source": [
    "\n",
    "### Load a spaCy model and check if it has ner pipeline"
   ]
  },
  {
   "cell_type": "markdown",
   "metadata": {},
   "source": [
    "#### Install Spacy"
   ]
  },
  {
   "cell_type": "code",
   "execution_count": 4,
   "metadata": {},
   "outputs": [],
   "source": [
    "#!pip install spacy\n",
    "#!python -m spacy download en"
   ]
  },
  {
   "cell_type": "code",
   "execution_count": 11,
   "metadata": {},
   "outputs": [],
   "source": [
    "## import the library\n",
    "#import spacy\n",
    "#import collections\n",
    "#from collections import Counter"
   ]
  },
  {
   "cell_type": "markdown",
   "metadata": {},
   "source": [
    "#### Check the spaCy Version"
   ]
  },
  {
   "cell_type": "code",
   "execution_count": 1,
   "metadata": {},
   "outputs": [
    {
     "name": "stdout",
     "output_type": "stream",
     "text": [
      "\u001b[1m\r\n",
      "============================== Info about spaCy ==============================\u001b[0m\r\n",
      "\r\n",
      "spaCy version    3.1.4                         \r\n",
      "Location         /home/sobha/anaconda3/lib/python3.7/site-packages/spacy\r\n",
      "Platform         Linux-5.11.0-44-generic-x86_64-with-debian-bullseye-sid\r\n",
      "Python version   3.7.6                         \r\n",
      "Pipelines        en_core_web_sm (3.1.0)        \r\n",
      "\r\n"
     ]
    }
   ],
   "source": [
    "!python -m spacy info"
   ]
  },
  {
   "cell_type": "markdown",
   "metadata": {},
   "source": [
    "SpaCy provides the following four pre-trained models with MIT license for the English language:\n",
    "\n",
    "en_core_web_sm(12 mb)\n",
    "en_core_web_md(43 mb)\n",
    "en_core_web_lg(741 mb)\n",
    "en_core_web_trf(438 mb)"
   ]
  },
  {
   "cell_type": "markdown",
   "metadata": {},
   "source": [
    "### Load spaCy's en_core_web_sm' model"
   ]
  },
  {
   "cell_type": "code",
   "execution_count": 2,
   "metadata": {},
   "outputs": [],
   "source": [
    "#!python -m spacy download en_core_web_sm\n"
   ]
  },
  {
   "cell_type": "code",
   "execution_count": 2,
   "metadata": {},
   "outputs": [
    {
     "data": {
      "text/plain": [
       "['tok2vec', 'tagger', 'parser', 'attribute_ruler', 'lemmatizer', 'ner']"
      ]
     },
     "execution_count": 2,
     "metadata": {},
     "output_type": "execute_result"
    }
   ],
   "source": [
    "# import the language training model\n",
    "import spacy \n",
    "nlp = spacy.load('en_core_web_sm')\n",
    "nlp.pipe_names"
   ]
  },
  {
   "cell_type": "markdown",
   "metadata": {},
   "source": [
    "## ner is in the pipeline, let’s test how the entity detection will work on a sentence."
   ]
  },
  {
   "cell_type": "code",
   "execution_count": 3,
   "metadata": {},
   "outputs": [
    {
     "data": {
      "text/html": [
       "<span class=\"tex2jax_ignore\"><div class=\"entities\" style=\"line-height: 2.5; direction: ltr\">Aged \n",
       "<mark class=\"entity\" style=\"background: #bfe1d9; padding: 0.45em 0.6em; margin: 0 0.25em; line-height: 1; border-radius: 0.35em;\">\n",
       "    20 or older\n",
       "    <span style=\"font-size: 0.8em; font-weight: bold; line-height: 1; border-radius: 0.35em; vertical-align: middle; margin-left: 0.5rem\">DATE</span>\n",
       "</mark>\n",
       ", myocardial ischemia, able to undergo \n",
       "<mark class=\"entity\" style=\"background: #7aecec; padding: 0.45em 0.6em; margin: 0 0.25em; line-height: 1; border-radius: 0.35em;\">\n",
       "    PTCA\n",
       "    <span style=\"font-size: 0.8em; font-weight: bold; line-height: 1; border-radius: 0.35em; vertical-align: middle; margin-left: 0.5rem\">ORG</span>\n",
       "</mark>\n",
       ", stenting and CABG</div></span>"
      ],
      "text/plain": [
       "<IPython.core.display.HTML object>"
      ]
     },
     "metadata": {},
     "output_type": "display_data"
    }
   ],
   "source": [
    "sentence = 'Aged 20 or older, myocardial ischemia, able to undergo PTCA, stenting and CABG'\n",
    "doc = nlp(sentence)\n",
    "\n",
    "from spacy import displacy\n",
    "displacy.render(doc, style='ent', jupyter=True)"
   ]
  },
  {
   "cell_type": "markdown",
   "metadata": {},
   "source": [
    "Currently the spacy 'en_core_web_sm' model recognizes the phrase' 20 or older' as DATE but the current goal is to recognise 'Aged 20 or older ' as Numeric Entity and 'myocardial ischemia' should be recognised as Nominal Entity."
   ]
  },
  {
   "cell_type": "markdown",
   "metadata": {},
   "source": [
    "### Observing doc to see how entities are being identified/tagged by the model."
   ]
  },
  {
   "cell_type": "code",
   "execution_count": 4,
   "metadata": {},
   "outputs": [
    {
     "data": {
      "text/plain": [
       "[(20, 'B', 'DATE'),\n",
       " (or, 'I', 'DATE'),\n",
       " (older, 'I', 'DATE'),\n",
       " (PTCA, 'B', 'ORG')]"
      ]
     },
     "execution_count": 4,
     "metadata": {},
     "output_type": "execute_result"
    }
   ],
   "source": [
    "[(X, X.ent_iob_, X.ent_type_) for X in doc if X.ent_type_]"
   ]
  },
  {
   "cell_type": "markdown",
   "metadata": {},
   "source": [
    "## Steps to build the custom NER model for detecting the Numeric and Nominal Entities in spaCy 3.0:"
   ]
  },
  {
   "cell_type": "markdown",
   "metadata": {},
   "source": [
    "### 1. Annotate the data to train the model."
   ]
  },
  {
   "cell_type": "markdown",
   "metadata": {},
   "source": [
    "#### Used SpaCy NER annotation tool by agateteam- http://agateteam.org/spacynerannotate/ to annotate and got the text below which i asssigned to \"trainData\" ( also for future rerference saved the annotated data to file named spacyannotation.json)\n",
    "\n"
   ]
  },
  {
   "cell_type": "markdown",
   "metadata": {},
   "source": [
    "###              Numeric   Nominal   Ordinal  Sentence/Sentiment                      - Entities"
   ]
  },
  {
   "cell_type": "code",
   "execution_count": 5,
   "metadata": {},
   "outputs": [],
   "source": [
    "trainData=[\n",
    "(\"Aged 22 and older, undergoing 1 or 2 level spinal decompression\",{\"entities\":[(0,18,\"Numeric\"),(19,63,\"Ordinal\")]}),\n",
    "(\"Age 50 or over Diagnosed Giant Cell Arthritis Headache, jaw pain, vision loss Shoulder and/or hip pain\",{\"entities\":[(0,15,\"Numeric\"),(25,46,\"Nominal\"),(46,102,\"Ordinal\")]}),\n",
    "(\"Aged between 50-80.Have been diagnosed with Polymyalgia Rheumatica (PMR).Have experienced improvement in PMR symptoms with Prednisone.\",{\"entities\":[(0,18,\"Numeric\"),(44,72,\"Nominal\"),(73,134,\"Ordinal\")]}),\n",
    "(\"Aged 18 years or older Diagnosis of Ankylosing Spondylitis or Axial Spondyloarthritis\",{\"entities\":[(0,23,\"Numeric\"),(36,85,\"Nominal\")]}),\n",
    "(\"Aged over 18 years Confirmed diagnosis of bronchiectasis within 5 years Pulmonary exacerbation requiring antibiotics in the past 12 months\",{\"entities\":[(0,18,\"Numeric\"),(42,56,\"Nominal\"),(72,138,\"Ordinal\")]}),\n",
    "(\"Aged between 40 and 85 years Diagnosed with COPD A history of cardiovascular disease, including heart failure, ischaemic heart disease, tachyarrhythmias, and hypertension\",{\"entities\":[(0,29,\"Numeric\"),(44,48,\"Nominal\"),(49,170,\"Ordinal\")]}),\n",
    "(\"Aged 18-85, diagnosed non-cystic fibrosis bronchiectasis, two or more exacerbations in the past 12 months.\",{\"entities\":[(0,10,\"Numeric\"),(22,56,\"Nominal\"),(58,106,\"Ordinal\")]}),\n",
    "(\"Aged 18 or older, diagnosis of IgAN, on a stable dose of an ACE inhibitor or ARB / unable to tolerate this therapy.\",{\"entities\":[(0,16,\"Numeric\"),(31,35,\"Nominal\"),(37,115,\"Ordinal\")]}),\n",
    "(\"Aged 18 years or older, hypertensive, no more than 3 current blood-pressure lowering medications.\",{\"entities\":[(0,23,\"Numeric\"),(24,36,\"Nominal\"),(38,97,\"Ordinal\")]}),\n",
    "(\" 18 years of age, undergoing a surgical procedure resulting in a closed approximately linear incision\",{\"entities\":[(1,16,\"Numeric\"),(17,100,\"Ordinal\")]}),\n",
    "(\"Are 18-50 years of age. Have a current/recent skin infection.No ongoing illness or history of serious chronic/progressive disease.\",{\"entities\":[(0,22,\"Numeric\"),(61,130,\"Ordinal\"),(24,60,\"Nominal\")]}),\n",
    "(\"Healthy woman aged between 18 and 49 years of age Pregnant with no known increased risk for complications Singleton pregnancy\",{\"entities\":[(14,49,\"Numeric\"),(50,125,\"Ordinal\")]}),\n",
    "(\"Aged between 5 - 14 years Newly diagnosed with Acute rheumatic fever\",{\"entities\":[(0,25,\"Numeric\"),(47,68,\"Nominal\")]}),\n",
    "(\"Viral respiratory disease Acute presentation to Middlemore Emergency Department or Intensive care unit\",{\"entities\":[(26,102,\"Ordinal\"),(0,26,\"Nominal\")]}),\n",
    "(\"Age>=18 Diagnosis of Essential Thrombocythemia Failure of standard therapy, e.g. Hydroxyurea\",{\"entities\":[(0,7,\"Numeric\"),(31,46,\"Nominal\"),(47,92,\"Ordinal\")]}),\n",
    "(\"Age >= 18 Diagnosed with Relapsed or Refractory Multiple Myeloma.\",{\"entities\":[(0,10,\"Numeric\"),(25,65,\"Nominal\")]}),\n",
    "(\"Age >= 18 Diagnosed with Myelodysplastic Syndrome (MDS)Anemia\",{\"entities\":[(0,9,\"Numeric\"),(25,61,\"Nominal\")]}),\n",
    "(\"age >= 18 Newly diagnosed multiple myeloma Ineligible for autologous stem cell transplant No prior treatment for multiple myeloma except localised radiotherapy or a short course of steroids\",{\"entities\":[(0,9,\"Numeric\"),(26,43,\"Nominal\"),(43,189,\"Ordinal\")]}),\n",
    "(\"Age>=18 Diagnosed with Relapsed or Refractory Multiple Myeloma No long-term use of Prednisone\",{\"entities\":[(0,7,\"Numeric\"),(23,63,\"Nominal\")]}),\n",
    "(\"Aged 18 to 65 Chronic Hepatitis B infection On stable NUC treatment (e.g Entecavir orTenofovir)\",{\"entities\":[(0,13,\"Numeric\"),(13,43,\"Nominal\"),(44,95,\"Ordinal\")]}),\n",
    "(\"Age less than 65 years, have diagnosed ulcerative colitis and experiencing increase in daily stool frequency and/or rectal bleeding, no allergy to antibiotic vancomycin, willing to undergo two colonoscopy procedures as part of the study (3 months apart)\",{\"entities\":[(0,22,\"Numeric\"),(39,57,\"Nominal\"),(170,253,\"Ordinal\")]}),\n",
    "(\"Aged between 18-70 years old Diagnosis of Non-alcoholic Fatty Liver Disease Have a BMI between 25 to 50 kg/m2\",{\"entities\":[(0,29,\"Numeric\"),(42,75,\"Nominal\"),(83,109,\"Numeric\")]}),\n",
    "(\"Male or postmenopausal female, aged 18-80 years old, diagnosed Nonalcoholic Steatohepatitis, no other chronic liver disease\",{\"entities\":[(31,91,\"Nominal\")]}),\n",
    "(\"Type 1 Myocardial infarction Have at least two coronary artery territories of disease > 50% Be on treatment for Diabetes\",{\"entities\":[(0,28,\"Nominal\"),(92,120,\"Ordinal\"),(29,91,\"Ordinal\")]}),\n",
    "(\"Aged 20 or older, myocardial ischemia, able to undergo PTCA, stenting and CABG,recent travel history, able to speak English\",{\"entities\":[(0,16,\"Numeric\"),(18,37,\"Nominal\"),(39,78,\"Ordinal\"),(79,123,\"Sentence/Sentiment\")]}),\n",
    "(\"Patients with biopsy-proven metastatic carcinoid tumors or other neuroendocrine tumors (Islet cell, Gastrinomas and VIPomas) with at least one measurable lesion (other than bone) that has either not been previously irradiated or if previously irradiated has demonstrated progression since the radiation therapy \",{\"entities\":[(14,20,\"Nominal\"),(28,55,\"Nominal\"),(65,87,\"Nominal\"),(87,124,\"Nominal\"),(133,161,\"Ordinal\"),(179,310,\"Sentence/Sentiment\")]}),\n",
    "(\"Female patients must have a negative serum pregnancy test at screening. (Not applicable to patients with bilateral oophorectomy and/or hysterectomy or to those patients who are postmenopausal.) \",{\"entities\":[(37,52,\"Nominal\"),(73,99,\"Sentence/Sentiment\"),(105,127,\"Nominal\"),(135,147,\"Nominal\"),(177,191,\"Nominal\")]}),\n",
    "(\"Karnofsky Performance Status > 60 \",{\"entities\":[(0,33,\"Ordinal\")]}),\n",
    "(\"Must have a life expectancy of greater than three (3) months \",{\"entities\":[(11,60,\"Numeric\")]}),\n",
    "(\"Patients on Sandostatin Lar (long acting somatostatin analogue) must be on a stable dose for 30 days prior to study entry and short acting somatostatin analogues must be judged to be on a clinically stable dose by the investigator prior to study entry \",{\"entities\":[(12,27,\"Nominal\"),(29,62,\"Nominal\"),(63,122,\"Sentence/Sentiment\"),(139,151,\"Nominal\"),(162,251,\"Sentence/Sentiment\")]}),\n",
    "(\"The patient has no major impairment of renal or hepatic function, as defined by the following laboratory parameters: total bilirubin <1.5 X ULN; AST, ALT<2.5X ULN (<5 X ULN if liver metastases are present) \",{\"entities\":[(39,44,\"Nominal\"),(48,64,\"Nominal\"),(117,172,\"Numeric\")]}),\n",
    "(\"Patients with biopsy-proven metastatic carcinoid tumors or other neuroendocrine tumors (Islet cell, Gastrinomas and VIPomas) with at least one measurable lesion (other than bone) that has either not been previously irradiated or if previously irradiated has demonstrated progression since the radiation therapy \",{\"entities\":[(14,20,\"Nominal\"),(28,55,\"Nominal\"),(65,87,\"Nominal\"),(87,124,\"Nominal\"),(133,161,\"Ordinal\"),(179,310,\"Sentence/Sentiment\")]}),\n",
    "(\"ECOG performance status of 0,1, or 2. \",{\"entities\":[(0,37,\"Ordinal\")]}),\n",
    "(\"Must have had a treatment-free interval of greater than 6 months following response to platinum. \",{\"entities\":[(0,96,\"Sentence/Sentiment\")]}),\n",
    "(\"At least 4 weeks since last surgery or radiation therapy. \",{\"entities\":[(0,57,\"Sentence/Sentiment\")]}),\n",
    "(\"Have had one prior platinum-based chemotherapy regimen for the treatment of primary disease. \",{\"entities\":[(19,54,\"Nominal\"),(54,92,\"Sentence/Sentiment\")]}),\n",
    "(\"Have had one prior platinum-based chemotherapy regimen for the treatment of primary disease. \",{\"entities\":[]}),\n",
    "(\"Patients with reproductive capability must agree to practice adequate contraception methods. \",{\"entities\":[(0,92,\"Sentence/Sentiment\")]}),\n",
    "(\"Patient must give written informed consent before participating in any study-specific procedure, randomization, or receiving investigational product. \",{\"entities\":[(0,149,\"Sentence/Sentiment\")]}),\n",
    "(\"Females of childbearing potential: negative serum or urine pregnancy test \",{\"entities\":[(0,49,\"Numeric\"),(72,153,\"Numeric\"),(181,244,\"Numeric\")]}),\n",
    "(\"Serum creatinine less than or equal to 2.0 mg/dL (Note: Patients with a serum creatinine greater than or equal to 1.4 and less than or equal to 2.0 mg/dL must demonstrate a 24-hour urinary creatinine clearance greater than or equal to 50 mL/min) \",{\"entities\":[(0,49,\"Numeric\")]}),\n",
    "(\"Serum bilirubin less than or equal to 1.5 x institutional upper limit of normal (ULN) \",{\"entities\":[(0,85,\"Numeric\")]}),\n",
    "(\"Platelet count greater than or equal to 100 x 10^9/L \",{\"entities\":[(0,52,\"Numeric\")]}),\n",
    "(\"Absolute neutrophil count (ANC) greater than or equal to 1.5 x 10^9/L without growth factor use in the 2 weeks before study randomization \",{\"entities\":[(0,70,\"Numeric\"),(103,110,\"Numeric\")]}),\n",
    "(\"Hemoglobin (hgb) greater than or equal to 10 g/dL without transfusional support or growth factor use in the 4 weeks before study randomization \",{\"entities\":[(0,50,\"Numeric\"),(108,115,\"Numeric\")]}),\n",
    "(\"Eastern Cooperative Oncology Group (ECOG) performance status of 0 - 2 \",{\"entities\":[(0,69,\"Ordinal\")]}),\n",
    "(\"18 years of age or older \",{\"entities\":[(0,24,\"Numeric\")]}),\n",
    "(\"Measurable disease \",{\"entities\":[(0,18,\"Sentence/Sentiment\")]}),\n",
    "(\"Estimated weight loss less than or equal to 10% in the 3 months before study randomization \",{\"entities\":[(0,47,\"Ordinal\"),(55,64,\"Numeric\")]}),\n",
    "(\"Life expectancy greater than or equal to 6 months \",{\"entities\":[(0,49,\"Numeric\")]}),\n",
    "(\"Initial radiotherapy field of treatment to encompass greater than or equal to 30% of the esophagus \",{\"entities\":[(8,98,\"Ordinal\")]}),\n",
    "(\"Unresectable (locally advanced) stage IIIa or IIIb disease \",{\"entities\":[(32,58,\"Nominal\")]}),\n",
    "(\"Patients with a histologically or cytologically proven diagnosis of NSCLC \",{\"entities\":[(0,67,\"Sentence/Sentiment\"),(68,73,\"Nominal\")]}),\n",
    "(\"Meet DSM-IV criteria for BPD as assessed by the Structured Clinical Interview for DSM-IV Personality Disorders (SCID-II). \",{\"entities\":[(5,20,\"Nominal\"),(25,28,\"Nominal\"),(82,121,\"Nominal\")]}),\n",
    "(\"Be able to speak, read and write English and follow simple instructions for completing self-rated scales \",{\"entities\":[(0,104,\"Sentence/Sentiment\")]}),\n",
    "(\"Be between age 18 and 55 years \",{\"entities\":[(3,30,\"Numeric\")]}),\n",
    "(\"Provide written informed consent before beginning any study related activities \",{\"entities\":[(0,78,\"Sentence/Sentiment\")]}),\n",
    "(\"Stable (8 wks or longer) concurrent medications including benzodiazepines, sedative hypnotics, antipsychotics, and antidepressants.\",{\"entities\":[(0,131,\"Sentence/Sentiment\")]}),\n",
    "(\"Completion of a 14-week open label trial of one the following SRI's: fluoxetine 80 mg/day, paroxetine 60 mg/day, fluvoxamine 300 mg/day, clomipramine 250 mg/day, sertraline 200 mg/day, citalopram 60 mg/day, escitalopram 30 mg/day and demonstrating a non or partial responses to SRI treatment (CGI-I of 3 or 4, Y-BOCS reduction of < 35%) \",{\"entities\":[(69,89,\"Numeric\"),(91,111,\"Numeric\"),(113,135,\"Numeric\"),(137,160,\"Numeric\"),(162,183,\"Numeric\"),(185,205,\"Numeric\"),(207,229,\"Numeric\")]}),\n",
    "(\"Outpatient with primary DSM- IV OCD \",{\"entities\":[(24,35,\"Nominal\")]}),\n",
    "(\"Patients must have a predicted life expectancy of at least 12 weeks. \",{\"entities\":[(30,68,\"Numeric\")]}),\n",
    "(\"Patients must have a Zubrod performance status of 0-2. \",{\"entities\":[(0,53,\"Ordinal\")]}),\n",
    "(\"Patients must have measurable disease. If prior radiation therapy was administered, measurable disease must be outside the radiation field. \",{\"entities\":[(0,37,\"Ordinal\"),(39,82,\"Ordinal\"),(84,138,\"Ordinal\")]}),\n",
    "(\"Patients must agree to have a 20 cc blood sample drawn in addition to routine labs with each cycle of chemotherapy. \",{\"entities\":[(23,115,\"Ordinal\")]}),\n",
    "(\"Tissue from tumor must be available. This may be paraffin embedded tissue from previous biopsy/resection or if it is not available, a repeat biopsy must be performed. The requirement for biopsy may be waived if alpha-fetoprotein is greater than 500 ng/mL and in the investigators opinion not explained by a concurrent hepatic inflammatory process. \",{\"entities\":[(12,18,\"Nominal\"),(211,255,\"Numeric\"),(255,347,\"Sentence/Sentiment\")]}),\n",
    "(\"Unresectable, histologically confirmed hepatocellular carcinoma with evident disease limited to liver. \",{\"entities\":[(0,102,\"Ordinal\")]}),\n",
    "(\"Patients must have adequate hepatic function as documented by a serum bilirubin less than or equal to 2x the institutional upper limit of normal, regardless of whether patients have liver involvement secondary to tumor. Patients may not have ascites or the ascites must be responsive to diuretics. \",{\"entities\":[(14,144,\"Ordinal\"),(177,218,\"Ordinal\")]}),\n",
    "(\"Patients must have adequate renal function as documented by a calculated creatinine clearance 60. \",{\"entities\":[(15,98,\"Ordinal\")]}),\n",
    "(\"Patients must have a pre-treatment granulocyte count (i.e., segmented neutrophils + bands) of greater than or equal to 1,500/mm3, a hemoglobin level of greater than or equal to 9 gm/dl, and platelet count greater than or equal to 50,000/mm3. The granulocyte requirement may be waived if in the investigator's opinion the lower count reflects hypersplenism with adequate bone marrow reserves. \",{\"entities\":[(35,128,\"Numeric\"),(132,184,\"Numeric\"),(190,240,\"Numeric\")]}),\n",
    "(\"Patients must have a predicted life expectancy of at least 12 weeks. \",{\"entities\":[(30,68,\"Numeric\")]}),\n",
    "(\"Patients must have a Zubrod performance status of 0-2. \",{\"entities\":[(0,53,\"Ordinal\")]}),\n",
    "(\"Patients must have measurable disease. If prior radiation therapy was administered, measurable disease must be outside the radiation field. \",{\"entities\":[(0,37,\"Ordinal\"),(39,82,\"Ordinal\"),(84,138,\"Ordinal\")]}),\n",
    "(\"Patients must agree to have a 20 cc blood sample drawn in addition to routine labs with each cycle of chemotherapy. \",{\"entities\":[(23,115,\"Ordinal\")]}),\n",
    "(\"Tissue from tumor must be available. This may be paraffin embedded tissue from previous biopsy/resection or if it is not available, a repeat biopsy must be performed. The requirement for biopsy may be waived if alpha-fetoprotein is greater than 500 ng/mL and in the investigators opinion not explained by a concurrent hepatic inflammatory process. \",{\"entities\":[(12,18,\"Nominal\"),(211,255,\"Numeric\"),(255,347,\"Sentence/Sentiment\")]}),\n",
    "(\"Unresectable, histologically confirmed hepatocellular carcinoma with evident disease limited to liver. \",{\"entities\":[(0,102,\"Ordinal\")]}),\n",
    "(\"8. Left ventricular ejection fraction should be at least 30%. \",{\"entities\":[(3,61,\"Ordinal\")]}),\n",
    "(\"7. Significant stenosis has been defined as a stenosis of more than 50% in luminal diameter (in at least one view, on visual interpretation or preferably by QCA); \",{\"entities\":[(15,23,\"Nominal\"),(24,161,\"Ordinal\")]}),\n",
    "(\"6. Total occluded vessels. One total occluded major epicardial vessel or side branch can be included and targeted as long as one other major vessel has a significant stenosis amenable for SA, provided the age of occlusion is less than one month e.g. recent instability, infarction with ECG changes in the area subtended by the occluded vessel. Patients with total occluded vessels of unknown duration or existing longer than one month and a reference over 1.50 mm should not be included, not even as a third or fourth vessel to be dilated; \",{\"entities\":[(0,24,\"Nominal\"),(26,42,\"Nominal\"),(47,67,\"Nominal\"),(94,257,\"Ordinal\"),(259,313,\"Ordinal\")]}),\n",
    "(\"5. Multivessel disease with at least one significant stenosis in LAD and with treatment of the lesion in another major epicardial coronary artery. A two-vessel disease or a three-vessel disease may be viewed as a combination of a side branch and a main epicardial vessel provided they supply different territories; left anterior descending, left circumflex and right coronary artery); \",{\"entities\":[(3,69,\"Ordinal\"),(73,145,\"Ordinal\"),(147,313,\"Ordinal\")]}),\n",
    "(\"4. de novo native vessels; \",{\"entities\":[(0,22,\"Ordinal\")]}),\n",
    "(\"3. At least 2 lesions (located in different vessels and in different territories) potentially amenable to stent implantation; \",{\"entities\":[(81,124,\"Ordinal\"),(3,80,\"Ordinal\")]}),\n",
    "(\"2. Patients who are eligible for coronary revascularization (angioplasty or CABG); \",{\"entities\":[(0,78,\"Ordinal\")]}),\n",
    "(\"Patients with stable (Canadian Cardiovascular Society 1, 2, 3 or 4) or unstable (Braunwald class IB, IC, IIB, IIC, IIIB, IIIC) angina pectoris and ischemia, or patients with atypical chest pain or even those who are asymptomatic provided they have documented myocardial ischaemia (e.g. treadmill exercise test, radionuclide scintigraphy, stress echocardiography, Holter tape); \",{\"entities\":[(0,67,\"Ordinal\"),(71,126,\"Ordinal\"),(126,155,\"Ordinal\"),(160,194,\"Ordinal\"),(259,279,\"Nominal\")]}),\n",
    "(\"Single or twin pregnancies \",{\"entities\":[(0,26,\"Nominal\")]}),\n",
    "(\"Pregnant women with abdomen discumfort and ultrasound diagnosis of polyhydramnios (AFI>25cm) \",{\"entities\":[(0,8,\"Nominal\"),(15,92,\"Ordinal\")]}),\n",
    "(\"No prior treatment with Ventavis or other active treatments for primary pulmonary hypertension within 6 weeks of date of study inclusion (unless otherwise advised by Bayer Schering Pharma) \",{\"entities\":[(24,32,\"Nominal\"),(36,188,\"Ordinal\")]}),\n",
    "(\"Patient with primary pulmonary hypertension (i.e. Idiopathic Pulmonary Arterial Hypertension or Familial Pulmonary Arterial Hypertension) and classified as NYHA functional class III (NYHA = New York Heart Association) \",{\"entities\":[(20,43,\"Nominal\"),(50,92,\"Nominal\"),(95,136,\"Nominal\"),(156,217,\"Ordinal\")]}),\n",
    "(\"The treating physician has chosen Ventavis as a suitable long-term treatment for the patient \",{\"entities\":[(34,42,\"Nominal\"),(43,92,\"Nominal\")]}),\n",
    "(\"Patients suspected to have vitamin B12 deficiency defined as a plasma vitamin B12 below the reference interval (<200 pmol/L). \",{\"entities\":[(27,49,\"Nominal\"),(50,124,\"Nominal\")]}),\n",
    "(\"Non-smoking \",{\"entities\":[(0,11,\"Ordinal\")]}),\n",
    "(\"Users of at least 2 cups of caffeinated coffee per day who are willing to be randomized to any of the interventions. \",{\"entities\":[(0,116,\"Sentence/Sentiment\")]}),\n",
    "(\"Body mass index 25-35 kg/m2 \",{\"entities\":[(0,27,\"Numeric\")]}),\n",
    "(\"Aged at least 18 years with an ability and willingness to give written informed consent. \",{\"entities\":[(0,22,\"Numeric\"),(23,87,\"Ordinal\")]}),\n",
    "(\"If female, willing to use contraception throughout the study \",{\"entities\":[(11,60,\"Ordinal\")]}),\n",
    "(\"Sufficient number of umbilical cord blood units available for transplantation \",{\"entities\":[(16,26,\"Nominal\"),(30,40,\"Nominal\"),(40,154,\"Ordinal\"),(155,232,\"Ordinal\")]}),\n",
    "(\"Women between 40 to 70 years of age. \",{\"entities\":[(6,35,\"Numeric\")]}),\n",
    "(\"Healthy postmenopausal women with 50 or more moderate to severe hot flushes. \",{\"entities\":[(0,75,\"Ordinal\")]}),\n",
    "(\"Histologically proven recurrent or persistent endometrial cancer that is not amenable to curative treatment with surgery and/or radiation therapy AND has failed 2 previous treatment regimens \",{\"entities\":[(22,64,\"Nominal\"),(66,190,\"Ordinal\")]}),\n",
    "(\"Measurable metastatic disease \",{\"entities\":[(11,29,\"Nominal\")]}),\n",
    "(\"Subjects must have failed at least two previous chemotherapy regimens. Paclitaxel must have been a component of one or both regimens and cisplatin or carboplatin must have been a component of one or both regimens. \",{\"entities\":[(0,69,\"Ordinal\"),(71,213,\"Ordinal\")]}),\n",
    "(\"Primary tumor must have been diagnosed histologically as either epithelial ovarian cancer, fallopian tube cancer, or primary peritoneal cancer (not borderline or low malignant potential epithelial carcinoma). \",{\"entities\":[(0,14,\"Nominal\"),(64,89,\"Nominal\"),(91,112,\"Nominal\"),(117,142,\"Nominal\"),(186,206,\"Nominal\")]}),\n",
    "(\"Measurable metastatic disease as defined by Response Evaluation Criteria in Solid Tumors (RECIST) \",{\"entities\":[(11,29,\"Nominal\"),(44,97,\"Ordinal\")]}),\n",
    "(\"Progression on prior therapy with a hormonal agent if estrogen receptor or progesterone receptor positive, and/or with trastuzumab if HER2-neu positive. If patient has progressed through hormone or trastuzumab therapy only, must have received one chemotherapy regimen. \",{\"entities\":[(0,105,\"Ordinal\"),(119,130,\"Nominal\"),(134,151,\"Ordinal\"),(153,267,\"Ordinal\")]}),\n",
    "(\"Progression on or failure to respond to at least one previous chemotherapy regimen for metastatic disease \",{\"entities\":[(0,105,\"Ordinal\")]}),\n",
    "(\"Measurable metastatic disease (>1cm) in at least one site other than bone-only \",{\"entities\":[(0,78,\"Ordinal\")]}),\n",
    "(\"Metastatic cervical cancer (CX) \",{\"entities\":[(0,31,\"Nominal\")]}),\n",
    "(\"Metastatic endometrial cancer (EM) \",{\"entities\":[(0,34,\"Nominal\")]}),\n",
    "(\"Metastatic ovarian cancer (OV) \",{\"entities\":[(0,30,\"Nominal\")]}),\n",
    "(\"Metastatic breast cancer (BR)\",{\"entities\":[(0,29,\"Nominal\")]}),\n",
    "(\"Diagnosis of one of the following malignancies: \",{\"entities\":[(34,46,\"Nominal\")]}),\n",
    "(\"Normal organ function within 14 days of study entry\",{\"entities\":[(0,51,\"Ordinal\")]}),\n",
    "(\"If female and of childbearing potential, are willing to use adequate contraception (hormonal, barrier method, abstinence) prior to study entry and for the duration of study participation. \",{\"entities\":[(17,39,\"Nominal\"),(41,83,\"Ordinal\"),(84,92,\"Ordinal\"),(94,108,\"Ordinal\"),(110,120,\"Ordinal\"),(122,187,\"Sentence/Sentiment\")]}),\n",
    "(\"Ovarian, endometrial or cervical - Gynecologic Oncology Group (GOG) performance score 2\",{\"entities\":[(0,87,\"Ordinal\")]}),\n",
    "(\"Breast - Karnofsky score > 50; \",{\"entities\":[(0,29,\"Ordinal\")]}),\n",
    "(\"Body Mass Index (BMI) >21 kg/m^2 and <35 kg/m^2. \",{\"entities\":[(0,48,\"Numeric\")]}),\n",
    "(\"HbA1c between 7.1% and 11.0%, inclusive. \",{\"entities\":[(0,39,\"Ordinal\")]}),\n",
    "(\"Treated with a stable dose of one of the following for at least 3 months prior to screening: * >=1000 mg/day immediate-release metformin; or metformin >=1000 mg/day and sulfonylurea; or sulfonylurea/metformin combination therapy. \",{\"entities\":[(94,136,\"Numeric\"),(141,164,\"Numeric\"),(169,181,\"Nominal\"),(186,198,\"Nominal\"),(199,228,\"Nominal\"),(0,91,\"Ordinal\")]}),\n",
    "(\" Aged 20 or older,\",{\"entities\":[(1,17,\"Numeric\")]}),\n",
    "(\" AGE>18 years\",{\"entities\":[(1,13,\"Numeric\")]}),\n",
    "(\" Age>18 years age ,\",{\"entities\":[(1,18,\"Numeric\")]}),\n",
    "(\" age>18 years age ,\",{\"entities\":[(1,18,\"Numeric\")]}),\n",
    "(\" Aged above 18 years and under 65 years\",{\"entities\":[(1,39,\"Numeric\")]}),\n",
    "(\" Aged over 18 years and under 65 years\",{\"entities\":[]}),\n",
    "(\" Aged above 18 years and below 65 years\",{\"entities\":[(1,39,\"Numeric\")]}),\n",
    "(\" aged above 18 years and below 65 years\",{\"entities\":[(1,39,\"Numeric\")]}),\n",
    "(\" aged above 18 and under 65\",{\"entities\":[(1,27,\"Numeric\")]}),\n",
    "(\" aged above 18 and below 65\",{\"entities\":[(1,27,\"Numeric\")]}),\n",
    "(\" aged above 18\",{\"entities\":[(1,14,\"Numeric\")]}),\n",
    "(\" AGE above 10\",{\"entities\":[(1,13,\"Numeric\")]}),\n",
    "(\" age above 10\",{\"entities\":[(1,13,\"Numeric\")]}),\n",
    "(\" AGE below 10\",{\"entities\":[(1,13,\"Numeric\")]}),\n",
    "(\" age below 10\",{\"entities\":[(1,13,\"Numeric\")]}),\n",
    "(\" aged below 20\",{\"entities\":[(1,14,\"Numeric\")]}),\n",
    "(\" aged 60 and under\",{\"entities\":[(1,18,\"Numeric\")]}),\n",
    "(\" aged 20 or younger\",{\"entities\":[(1,19,\"Numeric\")]}),\n",
    "(\"aged 20\",{\"entities\":[(0,7,\"Numeric\")]}),\n",
    "(\" Age<65\",{\"entities\":[(0,6,\"Numeric\")]}),\n",
    "(\" age less than 65 years old\",{\"entities\":[(1,27,\"Numeric\")]}),\n",
    "(\" age less than 65 yrs\",{\"entities\":[(1,21,\"Numeric\")]}),\n",
    "(\" Age less than 65 years,\",{\"entities\":[(1,24,\"Numeric\")]}),\n",
    "(\" age 18 to 80 years old\",{\"entities\":[(1,23,\"Numeric\")]}),\n",
    "(\" Aged 18-80 years\",{\"entities\":[(1,17,\"Numeric\")]}),\n",
    "(\" aged 18-80 years old,\",{\"entities\":[(1,21,\"Numeric\")]}),\n",
    "(\" age under 66 yrs\",{\"entities\":[(1,17,\"Numeric\")]}),\n",
    "(\" AGE under 66\",{\"entities\":[(1,13,\"Numeric\")]}),\n",
    "(\" Age under 66\",{\"entities\":[(1,13,\"Numeric\")]}),\n",
    "(\" age under 66\",{\"entities\":[(1,13,\"Numeric\")]}),\n",
    "(\" age under 66 years\",{\"entities\":[(1,19,\"Numeric\")]}),\n",
    "(\" aged over 18 yrs\",{\"entities\":[(1,17,\"Numeric\")]}),\n",
    "(\" aged over 18 years\",{\"entities\":[(1,19,\"Numeric\")]}),\n",
    "(\" aged over 18\",{\"entities\":[(1,13,\"Numeric\")]}),\n",
    "(\" Aged over 18\",{\"entities\":[(1,13,\"Numeric\")]}),\n",
    "(\" age over 18\",{\"entities\":[(1,12,\"Numeric\")]}),\n",
    "(\" Age over 18\",{\"entities\":[(1,12,\"Numeric\")]}),\n",
    "(\" age <=65 yrs\",{\"entities\":[(1,13,\"Numeric\")]}),\n",
    "(\" age<=65yrs\",{\"entities\":[(1,11,\"Numeric\")]}),\n",
    "(\" age<18yrs\",{\"entities\":[(1,10,\"Numeric\")]}),\n",
    "(\" age>=18yrs\",{\"entities\":[(1,11,\"Numeric\")]}),\n",
    "(\" age>=18 yrs\",{\"entities\":[(1,12,\"Numeric\")]}),\n",
    "(\" age >18 yrs\",{\"entities\":[(1,12,\"Numeric\")]}),\n",
    "(\" age greater than 18 years and less than 65 years\",{\"entities\":[(1,49,\"Numeric\")]}),\n",
    "(\" age greater than 18 and less than 65 years\",{\"entities\":[(1,43,\"Numeric\")]}),\n",
    "(\" age less than 65 years\",{\"entities\":[(1,23,\"Numeric\")]}),\n",
    "(\" age lesser than 45 years\",{\"entities\":[(1,25,\"Numeric\")]}),\n",
    "(\" age greater than 18 years\",{\"entities\":[(1,26,\"Numeric\")]}),\n",
    "(\" age greater than 18\",{\"entities\":[(1,20,\"Numeric\")]}),\n",
    "(\" aged greater than 18\",{\"entities\":[(1,21,\"Numeric\")]}),\n",
    "(\" Age greater than 18\",{\"entities\":[(1,20,\"Numeric\")]}),\n",
    "(\" Aged above 18 years and under 65 years\",{\"entities\":[(1,39,\"Numeric\")]}),\n",
    "(\"Aged over 18 years and under 65 years\",{\"entities\":[(0,37,\"Numeric\")]}),\n",
    "(\" aged between 18 and 65 years\",{\"entities\":[(1,29,\"Numeric\")]}),\n",
    "(\" aged between 18 and 65\",{\"entities\":[(1,23,\"Numeric\")]}),\n",
    "(\" Aged between 18 to 65\",{\"entities\":[(1,22,\"Numeric\")]}),\n",
    "(\" aged 18 to 65\",{\"entities\":[(1,14,\"Numeric\")]}),\n",
    "(\" Aged 18 to 65,\",{\"entities\":[(1,14,\"Numeric\")]}),\n",
    "(\" AGE<=65\",{\"entities\":[(1,8,\"Numeric\")]}),\n",
    "(\" age<=65\",{\"entities\":[(1,8,\"Numeric\")]}),\n",
    "(\" age<65\",{\"entities\":[(1,7,\"Numeric\")]}),\n",
    "(\" Age<=65\",{\"entities\":[(1,8,\"Numeric\")]}),\n",
    "(\" Age<65\",{\"entities\":[(1,7,\"Numeric\")]}),\n",
    "(\" aged between 5-65\",{\"entities\":[(1,18,\"Numeric\")]}),\n",
    "(\" age between 5-65\",{\"entities\":[(1,17,\"Numeric\")]}),\n",
    "(\" aged between 5-64 years\",{\"entities\":[(1,24,\"Numeric\")]}),\n",
    "(\" Aged between 5-64 years,\",{\"entities\":[(1,24,\"Numeric\")]}),\n",
    "(\" age > 18 < 65 years\",{\"entities\":[(1,20,\"Numeric\")]}),\n",
    "(\" age>18<65years\",{\"entities\":[(1,15,\"Numeric\")]}),\n",
    "(\" age>18<65\",{\"entities\":[(1,10,\"Numeric\")]}),\n",
    "(\" age < = 65 years\",{\"entities\":[(1,17,\"Numeric\")]}),\n",
    "(\" age < = 18 years\",{\"entities\":[(1,17,\"Numeric\")]}),\n",
    "(\" age > = 18 years old\",{\"entities\":[(1,21,\"Numeric\")]}),\n",
    "(\" age > = 18 years\",{\"entities\":[(1,17,\"Numeric\")]}),\n",
    "(\" age > = 18\",{\"entities\":[(1,11,\"Numeric\")]}),\n",
    "(\" AGE>=18\",{\"entities\":[(1,8,\"Numeric\")]}),\n",
    "(\" age >= 18\",{\"entities\":[(1,10,\"Numeric\")]}),\n",
    "(\" age>=18\",{\"entities\":[(1,8,\"Numeric\")]}),\n",
    "(\" Age 18,\",{\"entities\":[(2,8,\"Numeric\")]}),\n",
    "(\" age from 18-65 years\",{\"entities\":[(1,21,\"Numeric\")]}),\n",
    "(\" age from 18-65\",{\"entities\":[(1,15,\"Numeric\")]}),\n",
    "(\" aged from 18 to 65\",{\"entities\":[(1,19,\"Numeric\")]}),\n",
    "(\"AGED from 18 to 65\",{\"entities\":[(0,18,\"Numeric\")]}),\n",
    "(\" Aged 18 years or older, \",{\"entities\":[(1,23,\"Numeric\")]}),\n",
    "(\" Aged between 5 - 14 years,\",{\"entities\":[(1,26,\"Numeric\")]}),\n",
    "(\" aged from 18 to 65 years\",{\"entities\":[(1,25,\"Numeric\")]}),\n",
    "(\" ages from 18 to 65 years\",{\"entities\":[(1,25,\"Numeric\")]}),\n",
    "(\" ages from 18 to 65\",{\"entities\":[(1,19,\"Numeric\")]}),\n",
    "(\" ages 18-65\",{\"entities\":[(1,11,\"Numeric\")]}),\n",
    "(\" age 50-65\",{\"entities\":[(1,10,\"Numeric\")]}),\n",
    "(\"age 10-15\",{\"entities\":[(0,9,\"Numeric\")]}),\n",
    "(\" ages 18 or younger\",{\"entities\":[(1,19,\"Numeric\")]}),\n",
    "(\" Aged 18 years or younger, \",{\"entities\":[(1,25,\"Numeric\")]}),\n",
    "(\"between ages 18-85 years of age\",{\"entities\":[(0,31,\"Numeric\")]}),\n",
    "(\"Male and females between ages 18-85 years of age\",{\"entities\":[(17,47,\"Numeric\")]}),   \n",
    "(\"type 2 diabetic, age 18 and over, informed consent, \",{\"entities\":[(0,15,\"Nominal\"),(17,32,\"Numeric\"),(34,50,\"Sentence/Sentiment\")]})  \n",
    "]\n"
   ]
  },
  {
   "cell_type": "markdown",
   "metadata": {},
   "source": [
    "### 2. Convert the annotated data into the spaCy bin object"
   ]
  },
  {
   "cell_type": "markdown",
   "metadata": {},
   "source": [
    "#### in spaCy 3.x, it needs to be converted to a doc bin object.  Assigned the above-annotated data to the variable called trainData and convert to doc bin object using the function below:"
   ]
  },
  {
   "cell_type": "code",
   "execution_count": 6,
   "metadata": {},
   "outputs": [
    {
     "name": "stderr",
     "output_type": "stream",
     "text": [
      "100%|██████████| 213/213 [00:00<00:00, 911.73it/s]"
     ]
    },
    {
     "name": "stdout",
     "output_type": "stream",
     "text": [
      "Skipping entity\n",
      "Skipping entity\n",
      "Skipping entity\n",
      "Skipping entity\n"
     ]
    },
    {
     "name": "stderr",
     "output_type": "stream",
     "text": [
      "\n"
     ]
    }
   ],
   "source": [
    "import spacy\n",
    "from spacy.tokens import DocBin\n",
    "from tqdm import tqdm\n",
    "nlp = spacy.blank('en') # load a new spacy model\n",
    "db = DocBin() # create a DocBin object\n",
    "for text, annot in tqdm(trainData): # data in previous format\n",
    "    doc = nlp.make_doc(text) # create doc object from text\n",
    "    ents = []\n",
    "    for start, end, label in annot['entities']: # add character indexes\n",
    "        span = doc.char_span(start, end, label=label, alignment_mode='contract')\n",
    "        if span is None:\n",
    "            print('Skipping entity')\n",
    "        else:\n",
    "            ents.append(span)\n",
    "    try:\n",
    "        doc.ents = ents # label the text with the ents\n",
    "        db.add(doc)\n",
    "    except:\n",
    "        print(text, annot)\n",
    "db.to_disk('./train.spacy') # save the docbin object"
   ]
  },
  {
   "cell_type": "markdown",
   "metadata": {},
   "source": [
    "### 3. Generate the config file from the [spaCy website][https://spacy.io/usage/training]"
   ]
  },
  {
   "cell_type": "markdown",
   "metadata": {},
   "source": [
    "Select the preferred language and component as ner. As per system requirement, choose CPU/GPU and save this configuration as base_config.cfg\n",
    "\n",
    "To fill the remaining system defaults, run this command on the command line to generate the config.cfg file."
   ]
  },
  {
   "cell_type": "markdown",
   "metadata": {},
   "source": [
    "#### Generate the config file to train via Command line "
   ]
  },
  {
   "cell_type": "code",
   "execution_count": 7,
   "metadata": {},
   "outputs": [
    {
     "name": "stdout",
     "output_type": "stream",
     "text": [
      "\u001b[38;5;2m✔ Auto-filled config with all values\u001b[0m\n",
      "\u001b[38;5;2m✔ Saved config\u001b[0m\n",
      "/home/sobha/Orion-CustomNER/config.cfg\n",
      "You can now add your data and train your pipeline:\n",
      "python -m spacy train config.cfg --paths.train ./train.spacy --paths.dev ./dev.spacy\n"
     ]
    }
   ],
   "source": [
    "!python -m spacy init fill-config /home/sobha/Orion-CustomNER/base_config.cfg /home/sobha/Orion-CustomNER/config.cfg"
   ]
  },
  {
   "cell_type": "markdown",
   "metadata": {},
   "source": [
    "### 4. Train the model in the command line."
   ]
  },
  {
   "cell_type": "code",
   "execution_count": 8,
   "metadata": {},
   "outputs": [],
   "source": [
    "#in base_config.cfg file edited paths as below\n",
    "#train = ./train.spacy\n",
    "#dev = ./dev.spacy"
   ]
  },
  {
   "cell_type": "markdown",
   "metadata": {},
   "source": [
    "#### To save the  model output in the specified folder as an argument at the command line."
   ]
  },
  {
   "cell_type": "code",
   "execution_count": 9,
   "metadata": {},
   "outputs": [
    {
     "name": "stdout",
     "output_type": "stream",
     "text": [
      "\u001b[38;5;4mℹ Saving to output directory: /home/sobha/Orion-CustomNER/output\u001b[0m\n",
      "\u001b[38;5;4mℹ Using CPU\u001b[0m\n",
      "\u001b[1m\n",
      "=========================== Initializing pipeline ===========================\u001b[0m\n",
      "[2022-01-18 14:20:53,481] [INFO] Set up nlp object from config\n",
      "[2022-01-18 14:20:53,497] [INFO] Pipeline: ['tok2vec', 'ner']\n",
      "[2022-01-18 14:20:53,503] [INFO] Created vocabulary\n",
      "[2022-01-18 14:20:53,505] [INFO] Finished initializing nlp object\n",
      "[2022-01-18 14:20:54,000] [INFO] Initialized pipeline components: ['tok2vec', 'ner']\n",
      "\u001b[38;5;2m✔ Initialized pipeline\u001b[0m\n",
      "\u001b[1m\n",
      "============================= Training pipeline =============================\u001b[0m\n",
      "\u001b[38;5;4mℹ Pipeline: ['tok2vec', 'ner']\u001b[0m\n",
      "\u001b[38;5;4mℹ Initial learn rate: 0.001\u001b[0m\n",
      "E    #       LOSS TOK2VEC  LOSS NER  ENTS_F  ENTS_P  ENTS_R  SCORE \n",
      "---  ------  ------------  --------  ------  ------  ------  ------\n",
      "  0       0          0.00     45.56    0.00    0.00    0.00    0.00\n",
      "  6     200       1429.26   4104.22   36.04   43.48   30.77    0.36\n",
      " 13     400       2694.80   3207.53   80.31   82.26   78.46    0.80\n",
      " 23     600       2821.73   1914.56   91.34   93.55   89.23    0.91\n",
      " 35     800       1625.94    718.01   92.91   95.16   90.77    0.93\n",
      " 49    1000       3977.77    563.99   92.91   95.16   90.77    0.93\n",
      " 67    1200        841.90    279.42   92.91   95.16   90.77    0.93\n",
      " 89    1400        560.29    230.99   92.91   95.16   90.77    0.93\n",
      "116    1600        426.37    200.78   92.91   95.16   90.77    0.93\n",
      "149    1800       1508.02    245.75   92.91   95.16   90.77    0.93\n",
      "188    2000        165.61    206.18   92.91   95.16   90.77    0.93\n",
      "237    2200        151.24    244.17   92.91   95.16   90.77    0.93\n",
      "297    2400        265.04    267.06   92.91   95.16   90.77    0.93\n",
      "\u001b[38;5;2m✔ Saved pipeline to output directory\u001b[0m\n",
      "/home/sobha/Orion-CustomNER/output/model-last\n"
     ]
    }
   ],
   "source": [
    "import os\n",
    "os.environ[\"KMP_DUPLICATE_LIB_OK\"]=\"TRUE\"\n",
    "!python -m spacy train /home/sobha/Orion-CustomNER/config.cfg --paths.train /home/sobha/Orion-CustomNER/train.spacy --paths.dev /home/sobha/Orion-CustomNER/dev.spacy --output /home/sobha/Orion-CustomNER/output"
   ]
  },
  {
   "cell_type": "markdown",
   "metadata": {},
   "source": []
  },
  {
   "cell_type": "code",
   "execution_count": 10,
   "metadata": {},
   "outputs": [],
   "source": [
    "# !spacy train /home/sobha/Orion-CustomNER/config.cfg --output /home/sobha/Orion-CustomNER/output --paths.train /home/sobha/Orion-CustomNER/train.spacy --paths.dev /home/sobha/Orion-CustomNER/train.spacy"
   ]
  },
  {
   "cell_type": "markdown",
   "metadata": {},
   "source": [
    "### Load & Test the model"
   ]
  },
  {
   "cell_type": "markdown",
   "metadata": {},
   "source": [
    "#### Load the model."
   ]
  },
  {
   "cell_type": "code",
   "execution_count": 11,
   "metadata": {},
   "outputs": [],
   "source": [
    "import spacy\n",
    "\n",
    "nlp = spacy.load('/home/sobha/Orion-CustomNER/output/model-last') #load the model-last"
   ]
  },
  {
   "cell_type": "markdown",
   "metadata": {},
   "source": [
    "#### Take the unseen data to test the model prediction."
   ]
  },
  {
   "cell_type": "code",
   "execution_count": 12,
   "metadata": {},
   "outputs": [
    {
     "data": {
      "text/html": [
       "<span class=\"tex2jax_ignore\"><div class=\"entities\" style=\"line-height: 2.5; direction: ltr\">\n",
       "<mark class=\"entity\" style=\"background: #ddd; padding: 0.45em 0.6em; margin: 0 0.25em; line-height: 1; border-radius: 0.35em;\">\n",
       "    Aged 10 or older\n",
       "    <span style=\"font-size: 0.8em; font-weight: bold; line-height: 1; border-radius: 0.35em; vertical-align: middle; margin-left: 0.5rem\">Numeric</span>\n",
       "</mark>\n",
       ", \n",
       "<mark class=\"entity\" style=\"background: #ddd; padding: 0.45em 0.6em; margin: 0 0.25em; line-height: 1; border-radius: 0.35em;\">\n",
       "    myocardial ischemia\n",
       "    <span style=\"font-size: 0.8em; font-weight: bold; line-height: 1; border-radius: 0.35em; vertical-align: middle; margin-left: 0.5rem\">Nominal</span>\n",
       "</mark>\n",
       ", \n",
       "<mark class=\"entity\" style=\"background: #e4e7d2; padding: 0.45em 0.6em; margin: 0 0.25em; line-height: 1; border-radius: 0.35em;\">\n",
       "    able to undergo PTCA, stenting and CABG\n",
       "    <span style=\"font-size: 0.8em; font-weight: bold; line-height: 1; border-radius: 0.35em; vertical-align: middle; margin-left: 0.5rem\">Ordinal</span>\n",
       "</mark>\n",
       "</div></span>"
      ],
      "text/plain": [
       "<IPython.core.display.HTML object>"
      ]
     },
     "metadata": {},
     "output_type": "display_data"
    }
   ],
   "source": [
    "sentence = 'Aged 10 or older, myocardial ischemia, able to undergo PTCA, stenting and CABG'\n",
    "\n",
    "doc = nlp(sentence)\n",
    "\n",
    "from spacy import displacy\n",
    "displacy.render(doc, style='ent', jupyter=True)\n"
   ]
  },
  {
   "cell_type": "code",
   "execution_count": 13,
   "metadata": {},
   "outputs": [],
   "source": [
    "\n",
    "nlp2 = spacy.load('/home/sobha/Orion-CustomNER/output/model-best') #load the model-best"
   ]
  },
  {
   "cell_type": "code",
   "execution_count": 14,
   "metadata": {},
   "outputs": [
    {
     "data": {
      "text/html": [
       "<span class=\"tex2jax_ignore\"><div class=\"entities\" style=\"line-height: 2.5; direction: ltr\">\n",
       "<mark class=\"entity\" style=\"background: #ddd; padding: 0.45em 0.6em; margin: 0 0.25em; line-height: 1; border-radius: 0.35em;\">\n",
       "    Aged 10 or older\n",
       "    <span style=\"font-size: 0.8em; font-weight: bold; line-height: 1; border-radius: 0.35em; vertical-align: middle; margin-left: 0.5rem\">Numeric</span>\n",
       "</mark>\n",
       ", \n",
       "<mark class=\"entity\" style=\"background: #ddd; padding: 0.45em 0.6em; margin: 0 0.25em; line-height: 1; border-radius: 0.35em;\">\n",
       "    myocardial ischemia\n",
       "    <span style=\"font-size: 0.8em; font-weight: bold; line-height: 1; border-radius: 0.35em; vertical-align: middle; margin-left: 0.5rem\">Nominal</span>\n",
       "</mark>\n",
       ", \n",
       "<mark class=\"entity\" style=\"background: #e4e7d2; padding: 0.45em 0.6em; margin: 0 0.25em; line-height: 1; border-radius: 0.35em;\">\n",
       "    able to undergo PTCA, stenting and CABG\n",
       "    <span style=\"font-size: 0.8em; font-weight: bold; line-height: 1; border-radius: 0.35em; vertical-align: middle; margin-left: 0.5rem\">Ordinal</span>\n",
       "</mark>\n",
       "</div></span>"
      ],
      "text/plain": [
       "<IPython.core.display.HTML object>"
      ]
     },
     "metadata": {},
     "output_type": "display_data"
    }
   ],
   "source": [
    "sentence = 'Aged 10 or older, myocardial ischemia, able to undergo PTCA, stenting and CABG'\n",
    "\n",
    "doc = nlp(sentence)\n",
    "\n",
    "from spacy import displacy\n",
    "displacy.render(doc, style='ent', jupyter=True)"
   ]
  },
  {
   "cell_type": "code",
   "execution_count": null,
   "metadata": {},
   "outputs": [],
   "source": []
  },
  {
   "cell_type": "code",
   "execution_count": 15,
   "metadata": {},
   "outputs": [
    {
     "data": {
      "text/html": [
       "<span class=\"tex2jax_ignore\"><div class=\"entities\" style=\"line-height: 2.5; direction: ltr\">\n",
       "<mark class=\"entity\" style=\"background: #ddd; padding: 0.45em 0.6em; margin: 0 0.25em; line-height: 1; border-radius: 0.35em;\">\n",
       "    Type 1 Myocardial infarction\n",
       "    <span style=\"font-size: 0.8em; font-weight: bold; line-height: 1; border-radius: 0.35em; vertical-align: middle; margin-left: 0.5rem\">Nominal</span>\n",
       "</mark>\n",
       " \n",
       "<mark class=\"entity\" style=\"background: #e4e7d2; padding: 0.45em 0.6em; margin: 0 0.25em; line-height: 1; border-radius: 0.35em;\">\n",
       "    Have at least two coronary artery territories of disease &gt; 50%\n",
       "    <span style=\"font-size: 0.8em; font-weight: bold; line-height: 1; border-radius: 0.35em; vertical-align: middle; margin-left: 0.5rem\">Ordinal</span>\n",
       "</mark>\n",
       " \n",
       "<mark class=\"entity\" style=\"background: #e4e7d2; padding: 0.45em 0.6em; margin: 0 0.25em; line-height: 1; border-radius: 0.35em;\">\n",
       "    Be on treatment for Diabetes\n",
       "    <span style=\"font-size: 0.8em; font-weight: bold; line-height: 1; border-radius: 0.35em; vertical-align: middle; margin-left: 0.5rem\">Ordinal</span>\n",
       "</mark>\n",
       "</div></span>"
      ],
      "text/plain": [
       "<IPython.core.display.HTML object>"
      ]
     },
     "metadata": {},
     "output_type": "display_data"
    }
   ],
   "source": [
    "sentence2='Type 1 Myocardial infarction Have at least two coronary artery territories of disease > 50% Be on treatment for Diabetes'\n",
    "doc2 = nlp(sentence2)\n",
    "\n",
    "from spacy import displacy\n",
    "displacy.render(doc2, style='ent', jupyter=True)"
   ]
  },
  {
   "cell_type": "code",
   "execution_count": 16,
   "metadata": {},
   "outputs": [
    {
     "data": {
      "text/html": [
       "<span class=\"tex2jax_ignore\"><div class=\"entities\" style=\"line-height: 2.5; direction: ltr\">\n",
       "<mark class=\"entity\" style=\"background: #ddd; padding: 0.45em 0.6em; margin: 0 0.25em; line-height: 1; border-radius: 0.35em;\">\n",
       "    Age &gt;= 18\n",
       "    <span style=\"font-size: 0.8em; font-weight: bold; line-height: 1; border-radius: 0.35em; vertical-align: middle; margin-left: 0.5rem\">Numeric</span>\n",
       "</mark>\n",
       " Newly diagnosed \n",
       "<mark class=\"entity\" style=\"background: #ddd; padding: 0.45em 0.6em; margin: 0 0.25em; line-height: 1; border-radius: 0.35em;\">\n",
       "    multiple myeloma\n",
       "    <span style=\"font-size: 0.8em; font-weight: bold; line-height: 1; border-radius: 0.35em; vertical-align: middle; margin-left: 0.5rem\">Nominal</span>\n",
       "</mark>\n",
       " \n",
       "<mark class=\"entity\" style=\"background: #e4e7d2; padding: 0.45em 0.6em; margin: 0 0.25em; line-height: 1; border-radius: 0.35em;\">\n",
       "    Ineligible for autologous stem cell transplant\n",
       "    <span style=\"font-size: 0.8em; font-weight: bold; line-height: 1; border-radius: 0.35em; vertical-align: middle; margin-left: 0.5rem\">Ordinal</span>\n",
       "</mark>\n",
       " </div></span>"
      ],
      "text/plain": [
       "<IPython.core.display.HTML object>"
      ]
     },
     "metadata": {},
     "output_type": "display_data"
    }
   ],
   "source": [
    "sentence ='Age >= 18 Newly diagnosed multiple myeloma Ineligible for autologous stem cell transplant '\n",
    "doc = nlp(sentence)\n",
    "\n",
    "from spacy import displacy\n",
    "displacy.render(doc, style='ent', jupyter=True)"
   ]
  },
  {
   "cell_type": "code",
   "execution_count": 17,
   "metadata": {},
   "outputs": [
    {
     "data": {
      "text/html": [
       "<span class=\"tex2jax_ignore\"><div class=\"entities\" style=\"line-height: 2.5; direction: ltr\">\n",
       "<mark class=\"entity\" style=\"background: #ddd; padding: 0.45em 0.6em; margin: 0 0.25em; line-height: 1; border-radius: 0.35em;\">\n",
       "    Age&gt;=18\n",
       "    <span style=\"font-size: 0.8em; font-weight: bold; line-height: 1; border-radius: 0.35em; vertical-align: middle; margin-left: 0.5rem\">Numeric</span>\n",
       "</mark>\n",
       "</div></span>"
      ],
      "text/plain": [
       "<IPython.core.display.HTML object>"
      ]
     },
     "metadata": {},
     "output_type": "display_data"
    }
   ],
   "source": [
    "sentence ='Age>=18'\n",
    "doc = nlp(sentence)\n",
    "\n",
    "from spacy import displacy\n",
    "displacy.render(doc, style='ent', jupyter=True)"
   ]
  },
  {
   "cell_type": "code",
   "execution_count": 18,
   "metadata": {},
   "outputs": [
    {
     "data": {
      "text/html": [
       "<span class=\"tex2jax_ignore\"><div class=\"entities\" style=\"line-height: 2.5; direction: ltr\">\n",
       "<mark class=\"entity\" style=\"background: #ddd; padding: 0.45em 0.6em; margin: 0 0.25em; line-height: 1; border-radius: 0.35em;\">\n",
       "    age less than 18\n",
       "    <span style=\"font-size: 0.8em; font-weight: bold; line-height: 1; border-radius: 0.35em; vertical-align: middle; margin-left: 0.5rem\">Numeric</span>\n",
       "</mark>\n",
       "</div></span>"
      ],
      "text/plain": [
       "<IPython.core.display.HTML object>"
      ]
     },
     "metadata": {},
     "output_type": "display_data"
    }
   ],
   "source": [
    "sentence ='age less than 18'\n",
    "doc = nlp(sentence)\n",
    "\n",
    "from spacy import displacy\n",
    "displacy.render(doc, style='ent', jupyter=True)"
   ]
  },
  {
   "cell_type": "code",
   "execution_count": 19,
   "metadata": {},
   "outputs": [
    {
     "data": {
      "text/html": [
       "<span class=\"tex2jax_ignore\"><div class=\"entities\" style=\"line-height: 2.5; direction: ltr\">\n",
       "<mark class=\"entity\" style=\"background: #ddd; padding: 0.45em 0.6em; margin: 0 0.25em; line-height: 1; border-radius: 0.35em;\">\n",
       "    age greater than 18\n",
       "    <span style=\"font-size: 0.8em; font-weight: bold; line-height: 1; border-radius: 0.35em; vertical-align: middle; margin-left: 0.5rem\">Numeric</span>\n",
       "</mark>\n",
       "</div></span>"
      ],
      "text/plain": [
       "<IPython.core.display.HTML object>"
      ]
     },
     "metadata": {},
     "output_type": "display_data"
    }
   ],
   "source": [
    "sentence ='age greater than 18'\n",
    "doc = nlp(sentence)\n",
    "\n",
    "from spacy import displacy\n",
    "displacy.render(doc, style='ent', jupyter=True)"
   ]
  },
  {
   "cell_type": "code",
   "execution_count": 20,
   "metadata": {},
   "outputs": [
    {
     "data": {
      "text/html": [
       "<span class=\"tex2jax_ignore\"><div class=\"entities\" style=\"line-height: 2.5; direction: ltr\">\n",
       "<mark class=\"entity\" style=\"background: #ddd; padding: 0.45em 0.6em; margin: 0 0.25em; line-height: 1; border-radius: 0.35em;\">\n",
       "    Life expectancy greater than or equal to 6 months\n",
       "    <span style=\"font-size: 0.8em; font-weight: bold; line-height: 1; border-radius: 0.35em; vertical-align: middle; margin-left: 0.5rem\">Numeric</span>\n",
       "</mark>\n",
       "</div></span>"
      ],
      "text/plain": [
       "<IPython.core.display.HTML object>"
      ]
     },
     "metadata": {},
     "output_type": "display_data"
    }
   ],
   "source": [
    "sentence ='Life expectancy greater than or equal to 6 months' \n",
    "doc = nlp(sentence)\n",
    "\n",
    "from spacy import displacy\n",
    "displacy.render(doc, style='ent', jupyter=True)"
   ]
  },
  {
   "cell_type": "code",
   "execution_count": 21,
   "metadata": {},
   "outputs": [
    {
     "data": {
      "text/html": [
       "<span class=\"tex2jax_ignore\"><div class=\"entities\" style=\"line-height: 2.5; direction: ltr\">\n",
       "<mark class=\"entity\" style=\"background: #ddd; padding: 0.45em 0.6em; margin: 0 0.25em; line-height: 1; border-radius: 0.35em;\">\n",
       "    Metastatic breast cancer (BR)\n",
       "    <span style=\"font-size: 0.8em; font-weight: bold; line-height: 1; border-radius: 0.35em; vertical-align: middle; margin-left: 0.5rem\">Nominal</span>\n",
       "</mark>\n",
       " \n",
       "<mark class=\"entity\" style=\"background: #ddd; padding: 0.45em 0.6em; margin: 0 0.25em; line-height: 1; border-radius: 0.35em;\">\n",
       "    Metastatic ovarian cancer (OV)\n",
       "    <span style=\"font-size: 0.8em; font-weight: bold; line-height: 1; border-radius: 0.35em; vertical-align: middle; margin-left: 0.5rem\">Nominal</span>\n",
       "</mark>\n",
       " \n",
       "<mark class=\"entity\" style=\"background: #ddd; padding: 0.45em 0.6em; margin: 0 0.25em; line-height: 1; border-radius: 0.35em;\">\n",
       "    Metastatic endometrial cancer (EM)\n",
       "    <span style=\"font-size: 0.8em; font-weight: bold; line-height: 1; border-radius: 0.35em; vertical-align: middle; margin-left: 0.5rem\">Nominal</span>\n",
       "</mark>\n",
       " \n",
       "<mark class=\"entity\" style=\"background: #ddd; padding: 0.45em 0.6em; margin: 0 0.25em; line-height: 1; border-radius: 0.35em;\">\n",
       "    Metastatic cervical cancer (CX)\n",
       "    <span style=\"font-size: 0.8em; font-weight: bold; line-height: 1; border-radius: 0.35em; vertical-align: middle; margin-left: 0.5rem\">Nominal</span>\n",
       "</mark>\n",
       "</div></span>"
      ],
      "text/plain": [
       "<IPython.core.display.HTML object>"
      ]
     },
     "metadata": {},
     "output_type": "display_data"
    }
   ],
   "source": [
    "sentence ='Metastatic breast cancer (BR) Metastatic ovarian cancer (OV) Metastatic endometrial cancer (EM) Metastatic cervical cancer (CX)'\n",
    "doc = nlp(sentence)\n",
    "from spacy import displacy\n",
    "displacy.render(doc, style='ent', jupyter=True)"
   ]
  },
  {
   "cell_type": "code",
   "execution_count": 22,
   "metadata": {},
   "outputs": [
    {
     "data": {
      "text/html": [
       "<span class=\"tex2jax_ignore\"><div class=\"entities\" style=\"line-height: 2.5; direction: ltr\">\n",
       "<mark class=\"entity\" style=\"background: #ddd; padding: 0.45em 0.6em; margin: 0 0.25em; line-height: 1; border-radius: 0.35em;\">\n",
       "    type 2 diabetic\n",
       "    <span style=\"font-size: 0.8em; font-weight: bold; line-height: 1; border-radius: 0.35em; vertical-align: middle; margin-left: 0.5rem\">Nominal</span>\n",
       "</mark>\n",
       ", \n",
       "<mark class=\"entity\" style=\"background: #ddd; padding: 0.45em 0.6em; margin: 0 0.25em; line-height: 1; border-radius: 0.35em;\">\n",
       "    age 18 and over\n",
       "    <span style=\"font-size: 0.8em; font-weight: bold; line-height: 1; border-radius: 0.35em; vertical-align: middle; margin-left: 0.5rem\">Numeric</span>\n",
       "</mark>\n",
       ", \n",
       "<mark class=\"entity\" style=\"background: #ddd; padding: 0.45em 0.6em; margin: 0 0.25em; line-height: 1; border-radius: 0.35em;\">\n",
       "    informed consent\n",
       "    <span style=\"font-size: 0.8em; font-weight: bold; line-height: 1; border-radius: 0.35em; vertical-align: middle; margin-left: 0.5rem\">Sentence/Sentiment</span>\n",
       "</mark>\n",
       "</div></span>"
      ],
      "text/plain": [
       "<IPython.core.display.HTML object>"
      ]
     },
     "metadata": {},
     "output_type": "display_data"
    }
   ],
   "source": [
    "sentence='type 2 diabetic, age 18 and over, informed consent'\n",
    "doc = nlp(sentence)\n",
    "from spacy import displacy\n",
    "displacy.render(doc, style='ent', jupyter=True)"
   ]
  },
  {
   "cell_type": "code",
   "execution_count": 23,
   "metadata": {},
   "outputs": [
    {
     "data": {
      "text/html": [
       "<span class=\"tex2jax_ignore\"><div class=\"entities\" style=\"line-height: 2.5; direction: ltr\">\n",
       "<mark class=\"entity\" style=\"background: #ddd; padding: 0.45em 0.6em; margin: 0 0.25em; line-height: 1; border-radius: 0.35em;\">\n",
       "    Aged between 18-70 years ,old\n",
       "    <span style=\"font-size: 0.8em; font-weight: bold; line-height: 1; border-radius: 0.35em; vertical-align: middle; margin-left: 0.5rem\">Numeric</span>\n",
       "</mark>\n",
       " Diagnosis of \n",
       "<mark class=\"entity\" style=\"background: #ddd; padding: 0.45em 0.6em; margin: 0 0.25em; line-height: 1; border-radius: 0.35em;\">\n",
       "    Non-alcoholic Fatty Liver Disease\n",
       "    <span style=\"font-size: 0.8em; font-weight: bold; line-height: 1; border-radius: 0.35em; vertical-align: middle; margin-left: 0.5rem\">Nominal</span>\n",
       "</mark>\n",
       " ,\n",
       "<mark class=\"entity\" style=\"background: #ddd; padding: 0.45em 0.6em; margin: 0 0.25em; line-height: 1; border-radius: 0.35em;\">\n",
       "    Have a BMI between 25 to 50 kg/m2\n",
       "    <span style=\"font-size: 0.8em; font-weight: bold; line-height: 1; border-radius: 0.35em; vertical-align: middle; margin-left: 0.5rem\">Nominal</span>\n",
       "</mark>\n",
       "</div></span>"
      ],
      "text/plain": [
       "<IPython.core.display.HTML object>"
      ]
     },
     "metadata": {},
     "output_type": "display_data"
    }
   ],
   "source": [
    "sentence='Aged between 18-70 years ,old Diagnosis of Non-alcoholic Fatty Liver Disease ,Have a BMI between 25 to 50 kg/m2'\n",
    "doc = nlp(sentence)\n",
    "from spacy import displacy\n",
    "displacy.render(doc, style='ent', jupyter=True)"
   ]
  },
  {
   "cell_type": "code",
   "execution_count": 24,
   "metadata": {},
   "outputs": [],
   "source": [
    "# observed  age<=18 is not tretaed as numeric and havea bmi between  is treated as nominal"
   ]
  },
  {
   "cell_type": "markdown",
   "metadata": {},
   "source": [
    "## Age information Extraction"
   ]
  },
  {
   "cell_type": "code",
   "execution_count": 28,
   "metadata": {},
   "outputs": [],
   "source": [
    "import spacy\n",
    "from spacy.lang.en import English\n",
    "from spacy.matcher import Matcher\n",
    "\n",
    "nlp = spacy.load(\"en_core_web_sm\")\n",
    "matcher = Matcher(nlp.vocab)\n",
    "\n",
    "patterns = [\n",
    "   [{\"LOWER\" : \"age>=\"},{\"LIKE_NUM\" : True},{\"LEMMA\" : \"year\"}],\n",
    "   [{\"LOWER\" : \"age<=\"},{\"LIKE_NUM\" : True},{\"LEMMA\" : \"year\"}], \n",
    "   [{\"LOWER\" : \"age\"},{\"ORTH\" : \"<\"},{\"LIKE_NUM\" : True},{\"LEMMA\": \"year\"}], \n",
    "   [{\"LOWER\" : \"age\"},{\"ORTH\" : \">\"},{\"LIKE_NUM\" : True},{\"LEMMA\": \"year\"}],\n",
    "   [{\"LOWER\" : \"age\"},{\"ORTH\" : \"<\"},{\"ORTH\" : \"=\"},{\"LIKE_NUM\" : True},{\"LEMMA\": \"year\"}], \n",
    "   [{\"LOWER\" : \"age\"},{\"ORTH\" : \">\"},{\"ORTH\" : \"=\"},{\"LIKE_NUM\" : True},{\"LEMMA\": \"year\"}],\n",
    "   [{\"LOWER\" : \"aged\"},{\"LIKE_NUM\" : True},{\"LOWER\" : \"or\"},{\"LEMMA\" : \"old\"}],\n",
    "   [{\"LOWER\" : \"aged\"},{\"LIKE_NUM\" : True},{\"LOWER\" : \"and\"},{\"LEMMA\" : \"old\"}],\n",
    "   [{\"LOWER\" : \"aged\"},{\"LIKE_NUM\" : True},{\"LOWER\" : \"and\"},{\"LOWER\" : \"under\"}],\n",
    "   [{\"LOWER\" : \"aged\"},{\"TEXT\" : \"between\"},{\"LIKE_NUM\" : True},{\"ORTH\": \"-\"},{\"LIKE_NUM\" : True},{\"LEMMA\": \"year\"}],\n",
    "   [{\"LOWER\" : \"age\"},{\"ORTH\" : \"<\"},{\"LIKE_NUM\" : True}], \n",
    "   [{\"LOWER\" : \"age\"},{\"ORTH\" : \">\"},{\"LIKE_NUM\" : True}],  \n",
    "   [{\"TEXT\" : \"age <=\"},{\"LIKE_NUM\" : True},{\"LEMMA\": \"year\"}],\n",
    "   [{\"TEXT\" : \"age >=\"},{\"LIKE_NUM\" : True},{\"LEMMA\": \"year\"}],\n",
    "   [{\"LOWER\" : \"age\"},{\"LOWER\" : \"greater\"},{\"LOWER\" : \"than\"},{\"LIKE_NUM\" : True},{\"LEMMA\": \"year\"}],\n",
    "   [{\"LOWER\" : \"age\"},{\"LOWER\" : \"less\"},{\"LOWER\" : \"than\"},{\"LIKE_NUM\" : True},{\"LEMMA\": \"year\"}],\n",
    "   [{\"LOWER\" : \"age\"},{\"LOWER\" : \"over\"},{\"LIKE_NUM\" : True},{\"LEMMA\": \"year\"}],\n",
    "   [{\"LOWER\" : \"age\"},{\"LOWER\" : \"under\"},{\"LIKE_NUM\" : True},{\"LEMMA\": \"year\"}],\n",
    "   [{\"LOWER\" : \"age\"},{\"LOWER\" : \"above\"},{\"LIKE_NUM\" : True},{\"LEMMA\": \"year\"}], \n",
    "   [{\"LOWER\" : \"age\"},{\"LOWER\" : \"below\"},{\"LIKE_NUM\" : True},{\"LEMMA\": \"year\"}],\n",
    "   [{\"LOWER\" : \"age\"},{\"LOWER\": \"between\"},{\"LIKE_NUM\" : True},{\"TEXT\" : \"and\"},{\"LIKE_NUM\" : True}],\n",
    "   [{\"LIKE_NUM\": True}, {\"LEMMA\": \"year\"}, {\"LEMMA\": \"old\"}],\n",
    "   [{\"LEMMA\" : \"age\"}, {\"LIKE_NUM\" : True}, {\"LEMMA\": \"year\"}],\n",
    "   [{\"LOWER\" : \"age\"}, {\"LIKE_NUM\" : True}, {\"LEMMA\": \"year\"}]\n",
    "  # [{\"Text\" : \"Age\"}, {\"LIKE_NUM\" : True}, {\"TEXT\" : \"or older\"}]\n",
    "  # [{\"Text\" : \"Aged\"}, {\"LIKE_NUM\" : True}, {\"TEXT\" : \"or older\"}]\n",
    "  #  [{\"TEXT\" IN{'age','ages','aged'},{\"LIKE_NUM\" : True}]\n",
    "  ] \n",
    "\n",
    "matcher.add(\"age_rule\", patterns)\n",
    "\n"
   ]
  },
  {
   "cell_type": "code",
   "execution_count": 30,
   "metadata": {},
   "outputs": [
    {
     "name": "stdout",
     "output_type": "stream",
     "text": [
      "3741705598786462532 age_rule 2 7 age >= 10 years\n"
     ]
    }
   ],
   "source": [
    "sentence_1 = \"Mary, age >= 10 years lady\"\n",
    "doc = nlp(sentence_1)\n",
    "\n",
    "matches = matcher(doc)\n",
    "for match_id, start, end in matches:\n",
    "    string_id = nlp.vocab.strings[match_id]  # Get string representation\n",
    "    span = doc[start:end]  # The matched span\n",
    "    print(match_id, string_id, start, end, span.text)"
   ]
  },
  {
   "cell_type": "code",
   "execution_count": null,
   "metadata": {},
   "outputs": [],
   "source": []
  },
  {
   "cell_type": "code",
   "execution_count": null,
   "metadata": {},
   "outputs": [],
   "source": []
  },
  {
   "cell_type": "code",
   "execution_count": null,
   "metadata": {},
   "outputs": [],
   "source": [
    "import spacy\n",
    "from spacy.matcher import Matcher\n",
    "\n",
    "nlp = spacy.load(\"en_core_web_sm\")\n",
    "matcher = Matcher(nlp.vocab)\n",
    "\n",
    "patterns = [\n",
    "  [{\"TEXT\" : \"age>=\"},{\"LIKE_NUM\" : True}],\n",
    "   [{\"TEXT\" : \"age<=\"},{\"LIKE_NUM\" : True}], \n",
    "   [{\"TEXT\" : \"age>\"},{\"LIKE_NUM\" : True}],\n",
    "   [{\"TEXT\" : \"age<\"},{\"LIKE_NUM\" : True}],\n",
    "   [{\"TEXT\" : \"age <=\"},{\"LIKE_NUM\" : True}],\n",
    "   [{\"TEXT\" : \"age >=\"},{\"LIKE_NUM\" : True}],\n",
    "   [{\"TEXT\" : \"age greater than\"},{\"LIKE_NUM\" : True}],\n",
    "   [{\"TEXT\" : \"age less than\"},{\"LIKE_NUM\" : True}]\n",
    "]\n",
    "\n",
    "matcher.add(\"agerule\", patterns)\n",
    "sentence1 = \"Mary, age>= 10 years lady\"\n",
    "doc = nlp(sentence1)\n",
    "\n",
    "matches = matcher(doc)\n",
    "for match_id, start, end in matches:\n",
    "    string_id = nlp.vocab.strings[match_id]  # Get string representation\n",
    "    span = doc[start:end]  # The matched span\n",
    "    print(match_id, string_id, start, end, span.text)"
   ]
  },
  {
   "cell_type": "code",
   "execution_count": null,
   "metadata": {},
   "outputs": [],
   "source": [
    "import spacy\n",
    "from spacy.matcher import PhraseMatcher\n",
    "#nlp = spacy.load('en_core_web_sm')\n",
    "\n",
    "matcher = PhraseMatcher(nlp.vocab)\n",
    "def on_match(matcher, doc, id, matches):\n",
    " \n",
    "  print('Matched!', matches)\n",
    "\n",
    "matcher = PhraseMatcher(nlp.vocab)\n",
    "patterns = [nlp(\"age>=\"), nlp(\"age >\"),nlp(\"age<=\"),nlp(\"age<\"),nlp(\"age =\"),nlp(\"age greater than\"),nlp(\"age less than\")]\n",
    "matcher.add(\"age\", patterns, on_match=on_match)\n",
    "doc = nlp(\"age greater than 50 years\")\n",
    "matches = matcher(doc)\n",
    "match_id_string = nlp.vocab.strings[match_id]\n"
   ]
  },
  {
   "cell_type": "code",
   "execution_count": null,
   "metadata": {},
   "outputs": [],
   "source": [
    "import spacy\n",
    "from spacy.matcher import PhraseMatcher\n",
    "#nlp = spacy.load('en_core_web_sm')\n",
    "\n",
    "matcher = PhraseMatcher(nlp.vocab)\n",
    "def on_match(matcher, doc, id, matches):\n",
    " \n",
    "  print('Matched!', matches,match_id_string,span.text)\n",
    "\n",
    "matcher = PhraseMatcher(nlp.vocab)\n",
    "patterns = [nlp(\"age>=\"), nlp(\"age >=\"),nlp(\"age<=\"),nlp(\"age<\"),nlp(\"age =\"),nlp(\"age greater than\"),nlp(\"age less than\")]\n",
    "matcher.add(\"age\", patterns, on_match=on_match)\n",
    "doc = nlp(\"age <=42\")\n",
    "matches = matcher(doc)\n",
    "span = doc[start:end] \n",
    "match_id_string = nlp.vocab.strings[match_id]\n"
   ]
  },
  {
   "cell_type": "code",
   "execution_count": null,
   "metadata": {},
   "outputs": [],
   "source": [
    "import spacy\n",
    "sp_sm = spacy.load('en_core_web_sm')\n",
    "{(ent.text.strip(), ent.label_) for ent in sp_sm(\"age 10 years \").ents}"
   ]
  },
  {
   "cell_type": "code",
   "execution_count": null,
   "metadata": {},
   "outputs": [],
   "source": [
    "import spacy\n",
    "nlp = spacy.load('en_core_web_sm')\n",
    "from spacy.matcher import Matcher \n",
    "text=\"Steve Jones, Age: 32\"\n",
    "age_patterns = [\n",
    "# e.g Steve Jones, Age: 32,\n",
    "[{\"LOWER\": \"aged\"}, {\"IS_PUNCT\": True,\"OP\":\"?\"},{\"LIKE_NUM\": True}],\n",
    "[{\"LOWER\": \"age\"}, {\"IS_PUNCT\": True,\"OP\":\"?\"}, {\"LIKE_NUM\": True}],\n",
    "# e.g \"Peter Parker (45) will be our next administrator\" OR \"Amanda B. Bynes, 34, is an actress\"\n",
    "[{'POS':'PROPN'},{\"IS_PUNCT\": True}, {\"LIKE_NUM\": True}, {\"IS_PUNCT\": True}],\n",
    "# e.g \"Mr. Dylan is 46 years old.\"\n",
    "[{\"LIKE_NUM\": True},{\"IS_PUNCT\": True,\"OP\":\"*\"},{\"LEMMA\": \"year\"}, {\"IS_PUNCT\": True,\"OP\":\"*\"},\n",
    " {\"LEMMA\": \"old\"},{\"IS_ALPHA\": True, \"OP\":\"*\"},{'POS':'PROPN',\"OP\":\"*\"},{'POS':'PROPN',\"OP\":\"*\"}  ]\n",
    "]\n",
    "\n",
    "doc = nlp(text)\n",
    "matcher = Matcher(nlp.vocab) \n",
    "matcher.add(\"matching\", age_patterns) \n",
    "matches = matcher(doc)\n",
    "\n",
    "schemes = []\n",
    "for i in range(0,len(matches)):\n",
    "\n",
    "    # match: id, start, end\n",
    "    start, end = matches[i][1], matches[i][2]\n",
    "\n",
    "    if doc[start].pos_=='DET':\n",
    "        start = start+1\n",
    "\n",
    "    # matched string\n",
    "    span = str(doc[start:end])\n",
    "\n",
    "    if (len(schemes)!=0) and (schemes[-1] in span):\n",
    "        schemes[-1] = span\n",
    "    else:\n",
    "        schemes.append(span)\n",
    "\n"
   ]
  },
  {
   "cell_type": "code",
   "execution_count": null,
   "metadata": {},
   "outputs": [],
   "source": [
    "import spacy\n",
    "from spacy.matcher import PhraseMatcher\n",
    "matcher = PhraseMatcher(nlp.vocab)\n",
    "patterns = [\n",
    "  [{\"TEXT\" : \"age greater than\"},{\"LIKE_NUM\" : True}]\n",
    "]\n",
    "matcher = PhraseMatcher(nlp.vocab)\n",
    "\n",
    "PhraseMatcher.add('AgeCriteria', None, *patterns)\n",
    "\n",
    "doc = nlp(\"age greater than 20\")\n",
    "matches = PhraseMatcher(doc)\n",
    "for match_id, start, end in matches:\n",
    "    rule_id = nlp.vocab.strings[match_id]  # get the unicode ID, i.e. 'COLOR'\n",
    "    span = doc[start : end]  # get the matched slice of the doc\n",
    "    print(rule_id, span.text)\n"
   ]
  },
  {
   "cell_type": "code",
   "execution_count": null,
   "metadata": {},
   "outputs": [],
   "source": [
    "import spacy\n",
    "\n",
    "nlp = spacy.load(\"en_core_web_sm\")\n",
    "\n",
    "txt= 'XYZ School has 25% higher pass students than ABC School \\\n",
    "      while ABC school top mark is 5% higher than that of XYZ'\n",
    "\n",
    "# Finding the tokens which are numbers followed by % \n",
    "\n",
    "doc=nlp(txt)\n",
    "\n",
    "for token in doc:\n",
    "\n",
    "  if token.like_num:\n",
    "    ind_next_token= token.i+ 1\n",
    "    next_token= doc[ind_next_token]\n",
    "\n",
    "    if next_token.text == '%':\n",
    "      print(token.text)"
   ]
  },
  {
   "cell_type": "markdown",
   "metadata": {},
   "source": []
  },
  {
   "cell_type": "markdown",
   "metadata": {},
   "source": [
    "\n",
    "\n"
   ]
  }
 ],
 "metadata": {
  "kernelspec": {
   "display_name": "Python 3",
   "language": "python",
   "name": "python3"
  },
  "language_info": {
   "codemirror_mode": {
    "name": "ipython",
    "version": 3
   },
   "file_extension": ".py",
   "mimetype": "text/x-python",
   "name": "python",
   "nbconvert_exporter": "python",
   "pygments_lexer": "ipython3",
   "version": "3.7.6"
  }
 },
 "nbformat": 4,
 "nbformat_minor": 5
}
