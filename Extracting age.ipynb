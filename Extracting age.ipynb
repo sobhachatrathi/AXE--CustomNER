{
 "cells": [
  {
   "cell_type": "code",
   "execution_count": 75,
   "metadata": {},
   "outputs": [],
   "source": [
    "import spacy\n",
    "from spacy.lang.en import English\n",
    "from spacy.matcher import Matcher\n",
    "nlp = spacy.load(\"en_core_web_sm\")\n",
    "matcher = Matcher(nlp.vocab)\n",
    "\n",
    "patterns = [\n",
    "   [{\"LOWER\" : \"age>=\"},{\"LIKE_NUM\" : True},{\"LEMMA\" : \"year\"}],\n",
    "   [{\"LOWER\" : \"age<=\"},{\"LIKE_NUM\" : True},{\"LEMMA\" : \"year\"}], \n",
    "   [{\"LOWER\" : \"age\"},{\"ORTH\" : \"<\"},{\"LIKE_NUM\" : True},{\"LEMMA\": \"year\"}], \n",
    "   [{\"LOWER\" : \"age\"},{\"ORTH\" : \">\"},{\"LIKE_NUM\" : True},{\"LEMMA\": \"year\"}],\n",
    "   [{\"LOWER\" : \"age\"},{\"ORTH\" : \"<\"},{\"ORTH\" : \"=\"},{\"LIKE_NUM\" : True},{\"LEMMA\": \"year\"}], \n",
    "   [{\"LOWER\" : \"age\"},{\"ORTH\" : \">\"},{\"ORTH\" : \"=\"},{\"LIKE_NUM\" : True},{\"LEMMA\": \"year\"}],\n",
    "   [{\"LOWER\" : \"aged\"},{\"LIKE_NUM\" : True},{\"LOWER\" : \"or\"},{\"LEMMA\" : \"old\"}],\n",
    "   [{\"LOWER\" : \"aged\"},{\"LIKE_NUM\" : True},{\"LOWER\" : \"and\"},{\"LEMMA\" : \"old\"}],\n",
    "   [{\"LOWER\" : \"aged\"},{\"LIKE_NUM\" : True},{\"LOWER\" : \"and\"},{\"LOWER\" : \"under\"}],\n",
    "   [{\"LOWER\" : \"aged\"},{\"LIKE_NUM\" : True},{\"LOWER\" : \"or\"},{\"LOWER\" : \"under\"}],\n",
    "   [{\"LOWER\" : \"aged\"},{\"LIKE_NUM\" : True},{\"LOWER\" : \"and\"},{\"LOWER\" : \"over\"}],\n",
    "   [{\"LOWER\" : \"aged\"},{\"LIKE_NUM\" : True},{\"LOWER\" : \"or\"},{\"LOWER\" : \"over\"}],\n",
    "   [{\"LOWER\" : \"aged\"},{\"LIKE_NUM\" : True},{\"LEMMA\": \"year\"},{\"LOWER\" : \"or\"},{\"LEMMA\" : \"old\"}],\n",
    "   [{\"LOWER\" : \"aged\"},{\"LIKE_NUM\" : True},{\"LOWER\" : \"and\"},{\"LEMMA\": \"year\"},{\"LEMMA\" : \"old\"}],\n",
    "   [{\"LOWER\" : \"aged\"},{\"LIKE_NUM\" : True},{\"LOWER\" : \"and\"},{\"LEMMA\": \"year\"},{\"LOWER\" : \"under\"}],\n",
    "   [{\"LOWER\" : \"aged\"},{\"LIKE_NUM\" : True},{\"LOWER\" : \"or\"},{\"LEMMA\": \"year\"},{\"LOWER\" : \"under\"}],\n",
    "   [{\"LOWER\" : \"aged\"},{\"LIKE_NUM\" : True},{\"LOWER\" : \"and\"},{\"LEMMA\": \"year\"},{\"LOWER\" : \"over\"}],\n",
    "   [{\"LOWER\" : \"aged\"},{\"LIKE_NUM\" : True},{\"LOWER\" : \"or\"},{\"LEMMA\": \"year\"},{\"LOWER\" : \"over\"}],\n",
    "   [{\"LOWER\" : \"age\"},{\"LIKE_NUM\" : True},{\"LEMMA\": \"year\"},{\"LOWER\" : \"or\"},{\"LEMMA\" : \"old\"}],\n",
    "   [{\"LOWER\" : \"age\"},{\"LIKE_NUM\" : True},{\"LOWER\" : \"and\"},{\"LEMMA\": \"year\"},{\"LEMMA\" : \"old\"}],\n",
    "   [{\"LOWER\" : \"age\"},{\"LIKE_NUM\" : True},{\"LOWER\" : \"and\"},{\"LEMMA\": \"year\"},{\"LOWER\" : \"under\"}],\n",
    "   [{\"LOWER\" : \"age\"},{\"LIKE_NUM\" : True},{\"LOWER\" : \"or\"},{\"LEMMA\": \"year\"},{\"LOWER\" : \"under\"}],\n",
    "   [{\"LOWER\" : \"age\"},{\"LIKE_NUM\" : True},{\"LOWER\" : \"and\"},{\"LEMMA\": \"year\"},{\"LOWER\" : \"over\"}],\n",
    "   [{\"LOWER\" : \"age\"},{\"LIKE_NUM\" : True},{\"LOWER\" : \"or\"},{\"LEMMA\": \"year\"},{\"LOWER\" : \"over\"}],\n",
    "   [{\"LOWER\" : \"aged\"},{\"TEXT\" : \"between\"},{\"LIKE_NUM\" : True},{\"ORTH\": \"-\"},{\"LIKE_NUM\" : True},{\"LEMMA\": \"year\"}],\n",
    "   [{\"LOWER\" : \"age\"},{\"ORTH\" : \"<\"},{\"LIKE_NUM\" : True}], \n",
    "   [{\"LOWER\" : \"age\"},{\"ORTH\" : \">\"},{\"LIKE_NUM\" : True}],  \n",
    "   [{\"TEXT\" : \"age <=\"},{\"LIKE_NUM\" : True},{\"LEMMA\": \"year\"}],\n",
    "   [{\"TEXT\" : \"age >=\"},{\"LIKE_NUM\" : True},{\"LEMMA\": \"year\"}],\n",
    "   [{\"LOWER\" : \"age\"},{\"LOWER\" : \"greater\"},{\"LOWER\" : \"than\"},{\"LIKE_NUM\" : True},{\"LEMMA\": \"year\"}],\n",
    "   [{\"LOWER\" : \"age\"},{\"LOWER\" : \"less\"},{\"LOWER\" : \"than\"},{\"LIKE_NUM\" : True},{\"LEMMA\": \"year\"}],\n",
    "   [{\"LOWER\" : \"age\"},{\"LOWER\" : \"over\"},{\"LIKE_NUM\" : True},{\"LEMMA\": \"year\"}],\n",
    "   [{\"LOWER\" : \"age\"},{\"LOWER\" : \"under\"},{\"LIKE_NUM\" : True},{\"LEMMA\": \"year\"}],\n",
    "   [{\"LOWER\" : \"age\"},{\"LOWER\" : \"above\"},{\"LIKE_NUM\" : True},{\"LEMMA\": \"year\"}], \n",
    "   [{\"LOWER\" : \"age\"},{\"LOWER\" : \"below\"},{\"LIKE_NUM\" : True},{\"LEMMA\": \"year\"}],\n",
    "   [{\"LOWER\" : \"aged\"},{\"LOWER\" : \"over\"},{\"LIKE_NUM\" : True},{\"LEMMA\": \"year\"}],\n",
    "   [{\"LOWER\" : \"aged\"},{\"LOWER\" : \"under\"},{\"LIKE_NUM\" : True},{\"LEMMA\": \"year\"}],\n",
    "   [{\"LOWER\" : \"aged\"},{\"LOWER\" : \"above\"},{\"LIKE_NUM\" : True},{\"LEMMA\": \"year\"}], \n",
    "   [{\"LOWER\" : \"aged\"},{\"LOWER\" : \"below\"},{\"LIKE_NUM\" : True},{\"LEMMA\": \"year\"}],\n",
    "   [{\"LOWER\" : \"aged\"},{\"LOWER\": \"between\"},{\"LIKE_NUM\" : True},{\"TEXT\" : \"and\"},{\"LIKE_NUM\" : True}], \n",
    "   [{\"LOWER\" : \"age\"},{\"LOWER\": \"between\"},{\"LIKE_NUM\" : True},{\"TEXT\" : \"and\"},{\"LIKE_NUM\" : True}],\n",
    "   [{\"LIKE_NUM\": True}, {\"LEMMA\": \"year\"}, {\"LEMMA\": \"old\"}],\n",
    "   [{\"LEMMA\" : \"age\"}, {\"LIKE_NUM\" : True}, {\"LEMMA\": \"year\"}],\n",
    "   [{\"LOWER\" : \"age\"}, {\"LIKE_NUM\" : True}, {\"LEMMA\": \"year\"}],\n",
    "    [{\"LOWER\": \"between\"},{\"LIKE_NUM\" : True},{\"TEXT\" : \"to\"},{\"LIKE_NUM\" : True},{\"LEMMA\": \"year\"},{\"TEXT\" : \"of\"},{\"LOWER\" : \"age\"},],\n",
    "    [{\"LOWER\" : \"aged\"},{\"LOWER\": \"between\"},{\"LIKE_NUM\" : True},{\"TEXT\" : \"to\"},{\"LIKE_NUM\" : True},{\"LEMMA\": \"year\"}], \n",
    "  # [{\"Text\" : \"Age\"}, {\"LIKE_NUM\" : True}, {\"TEXT\" : \"or older\"}]\n",
    "  # [{\"Text\" : \"Aged\"}, {\"LIKE_NUM\" : True}, {\"TEXT\" : \"or older\"}]\n",
    "  #  [{\"TEXT\" IN{'age','ages','aged'},{\"LIKE_NUM\" : True}]\n",
    "  ] \n",
    "\n",
    "matcher.add(\"age_rule\", patterns)\n"
   ]
  },
  {
   "cell_type": "code",
   "execution_count": 66,
   "metadata": {},
   "outputs": [
    {
     "name": "stdout",
     "output_type": "stream",
     "text": [
      "3741705598786462532 age_rule 2 5 age>= 10 years\n"
     ]
    }
   ],
   "source": [
    "sentence_1 = \"Mary, age>= 10 years lady\"\n",
    "doc = nlp(sentence_1)\n",
    "\n",
    "matches = matcher(doc)\n",
    "for match_id, start, end in matches:\n",
    "    string_id = nlp.vocab.strings[match_id]  # Get string representation\n",
    "    span = doc[start:end]  # The matched span\n",
    "    print(match_id, string_id, start, end, span.text)"
   ]
  },
  {
   "cell_type": "code",
   "execution_count": 67,
   "metadata": {},
   "outputs": [
    {
     "name": "stdout",
     "output_type": "stream",
     "text": [
      "3741705598786462532 age_rule 2 5 age<= 10 years\n"
     ]
    }
   ],
   "source": [
    "sentence_2 = \"Mary, age<= 10 years lady\"\n",
    "doc = nlp(sentence_2)\n",
    "\n",
    "matches = matcher(doc)\n",
    "for match_id, start, end in matches:\n",
    "    string_id = nlp.vocab.strings[match_id]  # Get string representation\n",
    "    span = doc[start:end]  # The matched span\n",
    "    print(match_id, string_id, start, end, span.text)"
   ]
  },
  {
   "cell_type": "code",
   "execution_count": 68,
   "metadata": {},
   "outputs": [
    {
     "name": "stdout",
     "output_type": "stream",
     "text": [
      "3741705598786462532 age_rule 2 5 age < 10\n",
      "3741705598786462532 age_rule 2 6 age < 10 years\n"
     ]
    }
   ],
   "source": [
    "#Worked after addin ORTH\n",
    "sentence_3 = \"Mary, age < 10 years lady\"\n",
    "doc = nlp(sentence_3)\n",
    "\n",
    "matches = matcher(doc)\n",
    "for match_id, start, end in matches:\n",
    "    string_id = nlp.vocab.strings[match_id]  # Get string representation\n",
    "    span = doc[start:end]  # The matched span\n",
    "    print(match_id, string_id, start, end, span.text)"
   ]
  },
  {
   "cell_type": "code",
   "execution_count": 69,
   "metadata": {},
   "outputs": [
    {
     "name": "stdout",
     "output_type": "stream",
     "text": [
      "3741705598786462532 age_rule 2 5 age > 10\n"
     ]
    }
   ],
   "source": [
    "sentence_4 = \"Mary, age > 10  lady\"\n",
    "doc = nlp(sentence_4)\n",
    "\n",
    "matches = matcher(doc)\n",
    "for match_id, start, end in matches:\n",
    "    string_id = nlp.vocab.strings[match_id]  # Get string representation\n",
    "    span = doc[start:end]  # The matched span\n",
    "    print(match_id, string_id, start, end, span.text)"
   ]
  },
  {
   "cell_type": "code",
   "execution_count": 70,
   "metadata": {},
   "outputs": [
    {
     "name": "stdout",
     "output_type": "stream",
     "text": [
      "3741705598786462532 age_rule 2 7 age <= 10 years\n"
     ]
    }
   ],
   "source": [
    "sentence_5 = \"Mary, age <= 10 years lady\"\n",
    "doc = nlp(sentence_5)\n",
    "\n",
    "matches = matcher(doc)\n",
    "for match_id, start, end in matches:\n",
    "    string_id = nlp.vocab.strings[match_id]  # Get string representation\n",
    "    span = doc[start:end]  # The matched span\n",
    "    print(match_id, string_id, start, end, span.text)"
   ]
  },
  {
   "cell_type": "code",
   "execution_count": 71,
   "metadata": {},
   "outputs": [
    {
     "name": "stdout",
     "output_type": "stream",
     "text": [
      "3741705598786462532 age_rule 2 7 Age >= 10 years\n"
     ]
    }
   ],
   "source": [
    "sentence_6 = \"Mary, Age >= 10 years lady\"\n",
    "doc = nlp(sentence_6)\n",
    "\n",
    "matches = matcher(doc)\n",
    "for match_id, start, end in matches:\n",
    "    string_id = nlp.vocab.strings[match_id]  # Get string representation\n",
    "    span = doc[start:end]  # The matched span\n",
    "    print(match_id, string_id, start, end, span.text)"
   ]
  },
  {
   "cell_type": "code",
   "execution_count": 24,
   "metadata": {},
   "outputs": [
    {
     "name": "stdout",
     "output_type": "stream",
     "text": [
      "3741705598786462532 age_rule 0 4 Aged 20 or older\n"
     ]
    }
   ],
   "source": [
    "sentence_7 = \"Aged 20 or older\"\n",
    "doc = nlp(sentence_7)\n",
    "\n",
    "matches = matcher(doc)\n",
    "for match_id, start, end in matches:\n",
    "    string_id = nlp.vocab.strings[match_id]  # Get string representation\n",
    "    span = doc[start:end]  # The matched span\n",
    "    print(match_id, string_id, start, end, span.text)"
   ]
  },
  {
   "cell_type": "code",
   "execution_count": 25,
   "metadata": {},
   "outputs": [
    {
     "name": "stdout",
     "output_type": "stream",
     "text": [
      "3741705598786462532 age_rule 0 4 Aged 20 and older\n"
     ]
    }
   ],
   "source": [
    "sentence_8 = \"Aged 20 and older\"\n",
    "doc = nlp(sentence_8)\n",
    "\n",
    "matches = matcher(doc)\n",
    "for match_id, start, end in matches:\n",
    "    string_id = nlp.vocab.strings[match_id]  # Get string representation\n",
    "    span = doc[start:end]  # The matched span\n",
    "    print(match_id, string_id, start, end, span.text)"
   ]
  },
  {
   "cell_type": "code",
   "execution_count": 26,
   "metadata": {},
   "outputs": [
    {
     "name": "stdout",
     "output_type": "stream",
     "text": [
      "3741705598786462532 age_rule 0 4 Aged 20 and under\n"
     ]
    }
   ],
   "source": [
    "sentence_9 = \"Aged 20 and under\"\n",
    "doc = nlp(sentence_9)\n",
    "\n",
    "matches = matcher(doc)\n",
    "for match_id, start, end in matches:\n",
    "    string_id = nlp.vocab.strings[match_id]  # Get string representation\n",
    "    span = doc[start:end]  # The matched span\n",
    "    print(match_id, string_id, start, end, span.text)"
   ]
  },
  {
   "cell_type": "code",
   "execution_count": 27,
   "metadata": {},
   "outputs": [
    {
     "name": "stdout",
     "output_type": "stream",
     "text": [
      "3741705598786462532 age_rule 0 6 Aged between 5 - 14 years\n"
     ]
    }
   ],
   "source": [
    "sentence_10=\"Aged between 5 - 14 years\"\n",
    "doc = nlp(sentence_10)\n",
    "\n",
    "matches = matcher(doc)\n",
    "for match_id, start, end in matches:\n",
    "    string_id = nlp.vocab.strings[match_id]  # Get string representation\n",
    "    span = doc[start:end]  # The matched span\n",
    "    print(match_id, string_id, start, end, span.text)"
   ]
  },
  {
   "cell_type": "code",
   "execution_count": 36,
   "metadata": {},
   "outputs": [
    {
     "name": "stdout",
     "output_type": "stream",
     "text": [
      "3741705598786462532 age_rule 0 3 Age < 18\n"
     ]
    }
   ],
   "source": [
    "sentence_11=\"Age < 18 Diagnosed with Relapsed or Refractory Multiple Myeloma\"\n",
    "doc = nlp(sentence_11)\n",
    "\n",
    "matches = matcher(doc)\n",
    "for match_id, start, end in matches:\n",
    "    string_id = nlp.vocab.strings[match_id]  # Get string representation\n",
    "    span = doc[start:end]  # The matched span\n",
    "    print(match_id, string_id, start, end, span.text)"
   ]
  },
  {
   "cell_type": "code",
   "execution_count": 29,
   "metadata": {},
   "outputs": [
    {
     "name": "stdout",
     "output_type": "stream",
     "text": [
      "3741705598786462532 age_rule 0 3 Age > 18\n"
     ]
    }
   ],
   "source": [
    "sentence_12=\"Age > 18\"\n",
    "doc = nlp(sentence_12)\n",
    "\n",
    "matches = matcher(doc)\n",
    "for match_id, start, end in matches:\n",
    "    string_id = nlp.vocab.strings[match_id]  # Get string representation\n",
    "    span = doc[start:end]  # The matched span\n",
    "    print(match_id, string_id, start, end, span.text)"
   ]
  },
  {
   "cell_type": "code",
   "execution_count": 30,
   "metadata": {},
   "outputs": [
    {
     "name": "stdout",
     "output_type": "stream",
     "text": [
      "3741705598786462532 age_rule 0 5 Age greater than 18 years\n"
     ]
    }
   ],
   "source": [
    "sentence_13=\"Age greater than 18 years\"\n",
    "doc = nlp(sentence_13)\n",
    "\n",
    "matches = matcher(doc)\n",
    "for match_id, start, end in matches:\n",
    "    string_id = nlp.vocab.strings[match_id]  # Get string representation\n",
    "    span = doc[start:end]  # The matched span\n",
    "    print(match_id, string_id, start, end, span.text)"
   ]
  },
  {
   "cell_type": "code",
   "execution_count": null,
   "metadata": {},
   "outputs": [],
   "source": []
  },
  {
   "cell_type": "code",
   "execution_count": 35,
   "metadata": {},
   "outputs": [
    {
     "name": "stdout",
     "output_type": "stream",
     "text": [
      "3741705598786462532 age_rule 0 3 Age > 10\n"
     ]
    }
   ],
   "source": [
    "sentence_14=\"Age > 10 \"\n",
    "doc = nlp(sentence_14)\n",
    "\n",
    "matches = matcher(doc)\n",
    "for match_id, start, end in matches:\n",
    "    string_id = nlp.vocab.strings[match_id]  # Get string representation\n",
    "    span = doc[start:end]  # The matched span\n",
    "    print(match_id, string_id, start, end, span.text)"
   ]
  },
  {
   "cell_type": "code",
   "execution_count": 32,
   "metadata": {},
   "outputs": [
    {
     "name": "stdout",
     "output_type": "stream",
     "text": [
      "3741705598786462532 age_rule 0 4 Age over 18 years\n"
     ]
    }
   ],
   "source": [
    "#over under above below\n",
    "sentence_15=\"Age over 18 years\"\n",
    "doc = nlp(sentence_15)\n",
    "\n",
    "matches = matcher(doc)\n",
    "for match_id, start, end in matches:\n",
    "    string_id = nlp.vocab.strings[match_id]  # Get string representation\n",
    "    span = doc[start:end]  # The matched span\n",
    "    print(match_id, string_id, start, end, span.text)"
   ]
  },
  {
   "cell_type": "code",
   "execution_count": 92,
   "metadata": {},
   "outputs": [
    {
     "name": "stdout",
     "output_type": "stream",
     "text": [
      "3741705598786462532,      age_rule,    0,   4,     Aged 22 and older\n",
      "3741705598786462532,      age_rule,    13,   17,     Age over 18 years\n",
      "3741705598786462532,      age_rule,    18,   23,     Age less than 65 years\n",
      "3741705598786462532,      age_rule,    29,   33,     Aged 20 or older\n",
      "3741705598786462532,      age_rule,    38,   42,     Aged over 18 years\n",
      "3741705598786462532,      age_rule,    50,   56,     Aged between 18-70 years\n",
      "3741705598786462532,      age_rule,    54,   57,     70 years old\n",
      "3741705598786462532,      age_rule,    66,   71,     Age >= 10 years\n",
      "3741705598786462532,      age_rule,    79,   84,     Aged between 40 and 85\n",
      "3741705598786462532,      age_rule,    90,   97,     between 40 to 70 years of age\n",
      "3741705598786462532,      age_rule,    99,   104,     Aged 18 years or older\n"
     ]
    }
   ],
   "source": [
    "text = '''Aged 22 and older, undergoing 1 or 2 level spinal decompression.Age over 18 years.Age less than 65 years, have diagnosed ulcerative colitis \n",
    "          Aged 20 or older, myocardial ischemia, \n",
    "          Aged over 18 years Confirmed diagnosis of bronchiectasis within 5 years\n",
    "          Aged between 18-70 years old Diagnosis of Non-alcoholic Fatty Liver Disease\n",
    "          Age >= 10 years Diagnosed with Relapsed or Refractory Multiple Myeloma\n",
    "          Aged between 40 and 85 years Diagnosed with COPD \n",
    "          Women between 40 to 70 years of age.\n",
    "          Aged 18 years or older Diagnosis of Ankylosing Spondylitis or Axial '''\n",
    "doc = nlp(text)\n",
    "\n",
    "matches = matcher(doc)\n",
    "for match_id, start, end in matches:\n",
    "    string_id = nlp.vocab.strings[match_id]  # Get string representation\n",
    "    span = doc[start:end]  # The matched span\n",
    "   # print(f'Matching ID ,  Age Criteria ,  Texy Matched is ')\n",
    "    print(f'{match_id},      {string_id},    {start},   {end},     {span.text}')\n",
    "   # data.frame(match_id,string_id,start, end, span.text)"
   ]
  },
  {
   "cell_type": "code",
   "execution_count": null,
   "metadata": {},
   "outputs": [],
   "source": []
  }
 ],
 "metadata": {
  "kernelspec": {
   "display_name": "Python 3",
   "language": "python",
   "name": "python3"
  },
  "language_info": {
   "codemirror_mode": {
    "name": "ipython",
    "version": 3
   },
   "file_extension": ".py",
   "mimetype": "text/x-python",
   "name": "python",
   "nbconvert_exporter": "python",
   "pygments_lexer": "ipython3",
   "version": "3.7.6"
  }
 },
 "nbformat": 4,
 "nbformat_minor": 4
}
